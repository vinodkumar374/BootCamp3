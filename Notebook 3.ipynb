{
  "cells": [
    {
      "cell_type": "code",
      "source": [
        "df = spark.read \\\n",
        "    .format(\"jdbc\") \\\n",
        "    .option(\"url\", \"jdbc:sqlserver://vinodsynapse01.sql.azuresynapse.net;databaseName=DedicatedPool;\") \\\n",
        "    .option(\"dbTable\", \"dbo.Customers_data\") \\\n",
        "    .option(\"user\", \"sqladminuser\") \\\n",
        "    .option(\"password\", \"Sravan@123\") \\\n",
        "    .load()\n",
        "\n",
        "display(df)\n"
      ],
      "outputs": [
        {
          "output_type": "display_data",
          "data": {
            "application/vnd.livy.statement-meta+json": {
              "spark_pool": "Notebookpool",
              "statement_id": 112,
              "statement_ids": [
                112
              ],
              "state": "finished",
              "livy_statement_state": "available",
              "spark_jobs": null,
              "session_id": "22",
              "normalized_state": "finished",
              "queued_time": "2025-04-02T23:51:53.3187708Z",
              "session_start_time": null,
              "execution_start_time": "2025-04-02T23:51:53.3206733Z",
              "execution_finish_time": "2025-04-02T23:51:54.6243481Z",
              "parent_msg_id": "31b82330-9f9a-4620-8ce4-97685bd740f6"
            },
            "text/plain": "StatementMeta(Notebookpool, 22, 112, Finished, Available, Finished)"
          },
          "metadata": {}
        },
        {
          "output_type": "display_data",
          "data": {
            "application/vnd.synapse.widget-view+json": {
              "widget_id": "1735e611-ba7c-47f6-9bc5-4b976666d33b",
              "widget_type": "Synapse.DataFrame"
            },
            "text/plain": "SynapseWidget(Synapse.DataFrame, 1735e611-ba7c-47f6-9bc5-4b976666d33b)"
          },
          "metadata": {}
        }
      ],
      "execution_count": 111,
      "metadata": {
        "collapsed": false
      }
    },
    {
      "cell_type": "code",
      "source": [
        "from pyspark.sql.functions import col\n",
        "df1 = df.replace(\"None\", \"suman das\", subset=[\"Name\"]).replace(\"None\", \"586 pinegrove rd\", subset=[\"Address\"]).replace(\"\", \"rajesh@gmail.com\", subset=[\"Email\"]).replace(\"\", \"555-1056987\", subset=[\"Phone_Number\"]).replace(\"None\", \"Savings\", subset=[\"Account_Type\"]).replace(\"None\", \"Active\", subset=[\"Account_Status\"])\n",
        "display(df1)\n",
        "\n"
      ],
      "outputs": [
        {
          "output_type": "display_data",
          "data": {
            "application/vnd.livy.statement-meta+json": {
              "spark_pool": "Notebookpool",
              "statement_id": 113,
              "statement_ids": [
                113
              ],
              "state": "finished",
              "livy_statement_state": "available",
              "spark_jobs": null,
              "session_id": "22",
              "normalized_state": "finished",
              "queued_time": "2025-04-02T23:51:59.8984796Z",
              "session_start_time": null,
              "execution_start_time": "2025-04-02T23:51:59.9003053Z",
              "execution_finish_time": "2025-04-02T23:52:00.6751099Z",
              "parent_msg_id": "6cf00d66-12d2-464a-ac35-a4beae246efd"
            },
            "text/plain": "StatementMeta(Notebookpool, 22, 113, Finished, Available, Finished)"
          },
          "metadata": {}
        },
        {
          "output_type": "display_data",
          "data": {
            "application/vnd.synapse.widget-view+json": {
              "widget_id": "680a32f7-f3fd-4734-ad28-6b75e3395496",
              "widget_type": "Synapse.DataFrame"
            },
            "text/plain": "SynapseWidget(Synapse.DataFrame, 680a32f7-f3fd-4734-ad28-6b75e3395496)"
          },
          "metadata": {}
        }
      ],
      "execution_count": 112,
      "metadata": {
        "collapsed": false
      }
    },
    {
      "cell_type": "code",
      "source": [
        "df2 = df1.drop_duplicates()\n",
        "display(df2)"
      ],
      "outputs": [
        {
          "output_type": "display_data",
          "data": {
            "application/vnd.livy.statement-meta+json": {
              "spark_pool": "Notebookpool",
              "statement_id": 114,
              "statement_ids": [
                114
              ],
              "state": "finished",
              "livy_statement_state": "available",
              "spark_jobs": null,
              "session_id": "22",
              "normalized_state": "finished",
              "queued_time": "2025-04-02T23:52:04.2563854Z",
              "session_start_time": null,
              "execution_start_time": "2025-04-02T23:52:04.2581476Z",
              "execution_finish_time": "2025-04-02T23:52:05.5205354Z",
              "parent_msg_id": "fba222c8-d985-4966-8798-47d25775aca6"
            },
            "text/plain": "StatementMeta(Notebookpool, 22, 114, Finished, Available, Finished)"
          },
          "metadata": {}
        },
        {
          "output_type": "display_data",
          "data": {
            "application/vnd.synapse.widget-view+json": {
              "widget_id": "20876bf0-cd4b-4931-8a3f-0a0225b1a76a",
              "widget_type": "Synapse.DataFrame"
            },
            "text/plain": "SynapseWidget(Synapse.DataFrame, 20876bf0-cd4b-4931-8a3f-0a0225b1a76a)"
          },
          "metadata": {}
        }
      ],
      "execution_count": 113,
      "metadata": {
        "collapsed": false
      }
    },
    {
      "cell_type": "code",
      "source": [
        "df3 = spark.read \\\n",
        "    .format(\"jdbc\") \\\n",
        "    .option(\"url\", \"jdbc:sqlserver://vinodsynapse01.sql.azuresynapse.net;databaseName=DedicatedPool;\") \\\n",
        "    .option(\"dbTable\", \"dbo.Accounts_data\") \\\n",
        "    .option(\"user\", \"sqladminuser\") \\\n",
        "    .option(\"password\", \"Sravan@123\") \\\n",
        "    .load()\n",
        "\n",
        "display(df)"
      ],
      "outputs": [
        {
          "output_type": "display_data",
          "data": {
            "application/vnd.livy.statement-meta+json": {
              "spark_pool": "Notebookpool",
              "statement_id": 115,
              "statement_ids": [
                115
              ],
              "state": "finished",
              "livy_statement_state": "available",
              "spark_jobs": null,
              "session_id": "22",
              "normalized_state": "finished",
              "queued_time": "2025-04-02T23:52:08.5307335Z",
              "session_start_time": null,
              "execution_start_time": "2025-04-02T23:52:08.532622Z",
              "execution_finish_time": "2025-04-02T23:52:09.7857831Z",
              "parent_msg_id": "b6d57f46-c0c4-49c4-9d32-1a7855ac3c41"
            },
            "text/plain": "StatementMeta(Notebookpool, 22, 115, Finished, Available, Finished)"
          },
          "metadata": {}
        },
        {
          "output_type": "display_data",
          "data": {
            "application/vnd.synapse.widget-view+json": {
              "widget_id": "e4608842-b20a-469d-b869-b6a5f3c5cc3a",
              "widget_type": "Synapse.DataFrame"
            },
            "text/plain": "SynapseWidget(Synapse.DataFrame, e4608842-b20a-469d-b869-b6a5f3c5cc3a)"
          },
          "metadata": {}
        }
      ],
      "execution_count": 114,
      "metadata": {
        "collapsed": false
      }
    },
    {
      "cell_type": "code",
      "source": [
        "df4 = df2.join(df3, df2.Customer_ID == df3.Customer_ID)\n",
        "df4 = df4.drop(df3[\"Customer_ID\"])\n",
        "\n",
        "display(df4)"
      ],
      "outputs": [
        {
          "output_type": "display_data",
          "data": {
            "application/vnd.livy.statement-meta+json": {
              "spark_pool": "Notebookpool",
              "statement_id": 116,
              "statement_ids": [
                116
              ],
              "state": "finished",
              "livy_statement_state": "available",
              "spark_jobs": null,
              "session_id": "22",
              "normalized_state": "finished",
              "queued_time": "2025-04-02T23:52:12.3511213Z",
              "session_start_time": null,
              "execution_start_time": "2025-04-02T23:52:12.3530035Z",
              "execution_finish_time": "2025-04-02T23:52:13.6500762Z",
              "parent_msg_id": "1b1509b6-c87a-4b7c-8ae0-44ca5287584a"
            },
            "text/plain": "StatementMeta(Notebookpool, 22, 116, Finished, Available, Finished)"
          },
          "metadata": {}
        },
        {
          "output_type": "display_data",
          "data": {
            "application/vnd.synapse.widget-view+json": {
              "widget_id": "72a10c81-f6dd-4939-b0ee-01d095f28b0e",
              "widget_type": "Synapse.DataFrame"
            },
            "text/plain": "SynapseWidget(Synapse.DataFrame, 72a10c81-f6dd-4939-b0ee-01d095f28b0e)"
          },
          "metadata": {}
        }
      ],
      "execution_count": 115,
      "metadata": {
        "collapsed": false
      }
    },
    {
      "cell_type": "code",
      "source": [
        "df5 = spark.read \\\n",
        "    .format(\"jdbc\") \\\n",
        "    .option(\"url\", \"jdbc:sqlserver://vinodsynapse01.sql.azuresynapse.net;databaseName=DedicatedPool;\") \\\n",
        "    .option(\"dbTable\", \"dbo.Transactions_data\") \\\n",
        "    .option(\"user\", \"sqladminuser\") \\\n",
        "    .option(\"password\", \"Sravan@123\") \\\n",
        "    .load()\n",
        "\n",
        "display(df5)"
      ],
      "outputs": [
        {
          "output_type": "display_data",
          "data": {
            "application/vnd.livy.statement-meta+json": {
              "spark_pool": "Notebookpool",
              "statement_id": 117,
              "statement_ids": [
                117
              ],
              "state": "finished",
              "livy_statement_state": "available",
              "spark_jobs": null,
              "session_id": "22",
              "normalized_state": "finished",
              "queued_time": "2025-04-02T23:52:16.7107255Z",
              "session_start_time": null,
              "execution_start_time": "2025-04-02T23:52:16.712562Z",
              "execution_finish_time": "2025-04-02T23:52:17.9723859Z",
              "parent_msg_id": "efca5ff0-552e-4e7f-99c3-206a43e93f8a"
            },
            "text/plain": "StatementMeta(Notebookpool, 22, 117, Finished, Available, Finished)"
          },
          "metadata": {}
        },
        {
          "output_type": "display_data",
          "data": {
            "application/vnd.synapse.widget-view+json": {
              "widget_id": "d63ea14d-dbef-4800-902c-4716ef33a1ca",
              "widget_type": "Synapse.DataFrame"
            },
            "text/plain": "SynapseWidget(Synapse.DataFrame, d63ea14d-dbef-4800-902c-4716ef33a1ca)"
          },
          "metadata": {}
        }
      ],
      "execution_count": 116,
      "metadata": {
        "collapsed": false
      }
    },
    {
      "cell_type": "code",
      "source": [
        "df6 = df4.join(df5, df4[\"Customer_ID\"] == df5[\"Customer_ID\"],\"left\")\n",
        "df6 = df6.drop(df5[\"Customer_ID\"])\n",
        "\n",
        "display(df6)"
      ],
      "outputs": [
        {
          "output_type": "display_data",
          "data": {
            "application/vnd.livy.statement-meta+json": {
              "spark_pool": "Notebookpool",
              "statement_id": 126,
              "statement_ids": [
                126
              ],
              "state": "finished",
              "livy_statement_state": "available",
              "spark_jobs": null,
              "session_id": "22",
              "normalized_state": "finished",
              "queued_time": "2025-04-02T23:58:06.3184039Z",
              "session_start_time": null,
              "execution_start_time": "2025-04-02T23:58:06.320308Z",
              "execution_finish_time": "2025-04-02T23:58:07.5550506Z",
              "parent_msg_id": "28ebb945-9eb5-4da8-8727-5a17be84c2ac"
            },
            "text/plain": "StatementMeta(Notebookpool, 22, 126, Finished, Available, Finished)"
          },
          "metadata": {}
        },
        {
          "output_type": "display_data",
          "data": {
            "application/vnd.synapse.widget-view+json": {
              "widget_id": "efd58b8a-a799-4080-ba44-ce1ea6e07d34",
              "widget_type": "Synapse.DataFrame"
            },
            "text/plain": "SynapseWidget(Synapse.DataFrame, efd58b8a-a799-4080-ba44-ce1ea6e07d34)"
          },
          "metadata": {}
        }
      ],
      "execution_count": 124,
      "metadata": {
        "collapsed": false
      }
    },
    {
      "cell_type": "code",
      "source": [
        "df7 = df6.replace(\"None\", \"Business\", subset=[\"Merchant_Category\"]).fillna({\"Transaction_ID\": \"780\"}).fillna({\"Date_and_Time\": \"2023-03-01 09:00:00\"}).fillna({\"Transaction_Type\": \"Payment\"}).fillna({\"Amount\": \"813.90\"}).fillna({\"Currency\": \"EUR\"}).fillna({\"Location\": \"Branch\"}).fillna({\"Merchant_Category\": \"Clothing\"}).fillna({\"Product_ID\": \"814\"})\n",
        "display(df7)"
      ],
      "outputs": [
        {
          "output_type": "display_data",
          "data": {
            "application/vnd.livy.statement-meta+json": {
              "spark_pool": "Notebookpool",
              "statement_id": 138,
              "statement_ids": [
                138
              ],
              "state": "finished",
              "livy_statement_state": "available",
              "spark_jobs": null,
              "session_id": "22",
              "normalized_state": "finished",
              "queued_time": "2025-04-03T00:15:17.2251678Z",
              "session_start_time": null,
              "execution_start_time": "2025-04-03T00:15:17.2270593Z",
              "execution_finish_time": "2025-04-03T00:15:19.2654549Z",
              "parent_msg_id": "bf594114-b6ea-4b83-96c6-a86f0089576a"
            },
            "text/plain": "StatementMeta(Notebookpool, 22, 138, Finished, Available, Finished)"
          },
          "metadata": {}
        },
        {
          "output_type": "display_data",
          "data": {
            "application/vnd.synapse.widget-view+json": {
              "widget_id": "778f3675-57e0-49f3-a57b-7765ed446a4b",
              "widget_type": "Synapse.DataFrame"
            },
            "text/plain": "SynapseWidget(Synapse.DataFrame, 778f3675-57e0-49f3-a57b-7765ed446a4b)"
          },
          "metadata": {}
        }
      ],
      "execution_count": 129,
      "metadata": {
        "collapsed": false
      }
    },
    {
      "cell_type": "code",
      "source": [
        "df7 = df7.dropDuplicates([\"Customer_ID\"])\n",
        "display(df7)\n"
      ],
      "outputs": [
        {
          "output_type": "display_data",
          "data": {
            "application/vnd.livy.statement-meta+json": {
              "spark_pool": "Notebookpool",
              "statement_id": 139,
              "statement_ids": [
                139
              ],
              "state": "finished",
              "livy_statement_state": "available",
              "spark_jobs": null,
              "session_id": "22",
              "normalized_state": "finished",
              "queued_time": "2025-04-03T00:16:09.1727839Z",
              "session_start_time": null,
              "execution_start_time": "2025-04-03T00:16:09.1745737Z",
              "execution_finish_time": "2025-04-03T00:16:11.2713648Z",
              "parent_msg_id": "430f4778-57a3-4eab-9990-8900a86d9efe"
            },
            "text/plain": "StatementMeta(Notebookpool, 22, 139, Finished, Available, Finished)"
          },
          "metadata": {}
        },
        {
          "output_type": "display_data",
          "data": {
            "application/vnd.synapse.widget-view+json": {
              "widget_id": "f5471fce-2ea7-45cb-a83c-f16097433ae1",
              "widget_type": "Synapse.DataFrame"
            },
            "text/plain": "SynapseWidget(Synapse.DataFrame, f5471fce-2ea7-45cb-a83c-f16097433ae1)"
          },
          "metadata": {}
        }
      ],
      "execution_count": 130,
      "metadata": {
        "collapsed": false
      }
    },
    {
      "cell_type": "code",
      "source": [
        "from pyspark.sql.functions import desc\n",
        "\n",
        "# Sorting by 'Customer_ID' in descending order and then by 'Name' in descending order\n",
        "df8 = df7.orderBy(desc(\"Customer_ID\"), desc(\"Name\"))\n",
        "display(df8)\n"
      ],
      "outputs": [
        {
          "output_type": "display_data",
          "data": {
            "application/vnd.livy.statement-meta+json": {
              "spark_pool": "Notebookpool",
              "statement_id": 141,
              "statement_ids": [
                141
              ],
              "state": "finished",
              "livy_statement_state": "available",
              "spark_jobs": null,
              "session_id": "22",
              "normalized_state": "finished",
              "queued_time": "2025-04-03T00:16:36.821702Z",
              "session_start_time": null,
              "execution_start_time": "2025-04-03T00:16:36.8235058Z",
              "execution_finish_time": "2025-04-03T00:16:38.9282137Z",
              "parent_msg_id": "69fe3861-8e9c-455d-9cf1-4c594bdd1c09"
            },
            "text/plain": "StatementMeta(Notebookpool, 22, 141, Finished, Available, Finished)"
          },
          "metadata": {}
        },
        {
          "output_type": "display_data",
          "data": {
            "application/vnd.synapse.widget-view+json": {
              "widget_id": "896c6706-2207-4a65-85ac-4a22e9f33d26",
              "widget_type": "Synapse.DataFrame"
            },
            "text/plain": "SynapseWidget(Synapse.DataFrame, 896c6706-2207-4a65-85ac-4a22e9f33d26)"
          },
          "metadata": {}
        }
      ],
      "execution_count": 131,
      "metadata": {
        "collapsed": false
      }
    },
    {
      "cell_type": "code",
      "source": [
        "df9 = sorted_df.printSchema()\n",
        "display(df9)"
      ],
      "outputs": [
        {
          "output_type": "display_data",
          "data": {
            "application/vnd.livy.statement-meta+json": {
              "spark_pool": "Notebookpool",
              "statement_id": 121,
              "statement_ids": [
                121
              ],
              "state": "finished",
              "livy_statement_state": "available",
              "spark_jobs": null,
              "session_id": "22",
              "normalized_state": "finished",
              "queued_time": "2025-04-02T23:52:33.3648659Z",
              "session_start_time": null,
              "execution_start_time": "2025-04-02T23:52:33.3666364Z",
              "execution_finish_time": "2025-04-02T23:52:34.0221269Z",
              "parent_msg_id": "88e8790f-079f-4157-b03e-0100e37d1d54"
            },
            "text/plain": "StatementMeta(Notebookpool, 22, 121, Finished, Available, Finished)"
          },
          "metadata": {}
        },
        {
          "output_type": "stream",
          "name": "stdout",
          "text": [
            "root\n |-- Customer_ID: integer (nullable = true)\n |-- Name: string (nullable = true)\n |-- Address: string (nullable = true)\n |-- Email: string (nullable = true)\n |-- Phone_Number: string (nullable = true)\n |-- Account_Type: string (nullable = true)\n |-- Account_Status: string (nullable = true)\n |-- Account_ID: integer (nullable = true)\n |-- Balance: decimal(12,2) (nullable = true)\n |-- Account_Creation_Date: date (nullable = true)\n |-- Interest_Rate: decimal(5,2) (nullable = true)\n |-- Transaction_ID: integer (nullable = true)\n |-- Date_and_Time: timestamp (nullable = true)\n |-- Transaction_Type: string (nullable = true)\n |-- Amount: decimal(10,2) (nullable = true)\n |-- Currency: string (nullable = true)\n |-- Location: string (nullable = true)\n |-- Merchant_Category: string (nullable = true)\n |-- Product_ID: integer (nullable = true)\n\n"
          ]
        }
      ],
      "execution_count": 120,
      "metadata": {}
    },
    {
      "cell_type": "code",
      "source": [
        "df8.write \\\n",
        "    .format(\"jdbc\") \\\n",
        "    .option(\"url\", \"jdbc:sqlserver://vinodsynapse01.sql.azuresynapse.net;databaseName=DedicatedPool;\") \\\n",
        "    .option(\"dbtable\", \"dbo.Fact1\") \\\n",
        "    .option(\"user\", \"sqladminuser\") \\\n",
        "    .option(\"password\", \"Sravan@123\") \\\n",
        "    .option(\"driver\", \"com.microsoft.sqlserver.jdbc.SQLServerDriver\") \\\n",
        "    .mode(\"append\") \\\n",
        "    .save()\n"
      ],
      "outputs": [
        {
          "output_type": "display_data",
          "data": {
            "application/vnd.livy.statement-meta+json": {
              "spark_pool": "Notebookpool",
              "statement_id": 142,
              "statement_ids": [
                142
              ],
              "state": "finished",
              "livy_statement_state": "available",
              "spark_jobs": null,
              "session_id": "22",
              "normalized_state": "finished",
              "queued_time": "2025-04-03T00:16:52.35501Z",
              "session_start_time": null,
              "execution_start_time": "2025-04-03T00:16:52.3567409Z",
              "execution_finish_time": "2025-04-03T00:16:57.8991486Z",
              "parent_msg_id": "cfb30c6b-5afa-416f-bc83-5bb673dd6a0a"
            },
            "text/plain": "StatementMeta(Notebookpool, 22, 142, Finished, Available, Finished)"
          },
          "metadata": {}
        }
      ],
      "execution_count": 132,
      "metadata": {}
    }
  ],
  "metadata": {
    "language_info": {
      "name": "python"
    },
    "kernelspec": {
      "name": "synapse_pyspark",
      "language": "Python",
      "display_name": "Synapse PySpark"
    },
    "kernel_info": {
      "name": "synapse_pyspark"
    },
    "description": null,
    "save_output": true,
    "synapse_widget": {
      "version": "0.1",
      "state": {
        "1735e611-ba7c-47f6-9bc5-4b976666d33b": {
          "type": "Synapse.DataFrame",
          "sync_state": {
            "table": {
              "rows": [
                {
                  "0": "1",
                  "1": "Alice Johnson",
                  "2": "789 Pine St",
                  "3": "",
                  "4": "555-0100001",
                  "5": "Credit",
                  "6": "Dormant"
                },
                {
                  "0": "1",
                  "1": "Alice Johnson",
                  "2": "789 Pine St",
                  "3": "",
                  "4": "555-0100001",
                  "5": "Credit",
                  "6": "Dormant"
                },
                {
                  "0": "2",
                  "1": "Emma Davis",
                  "2": "101 Maple St",
                  "3": "sara7@demo.org",
                  "4": "",
                  "5": "Savings",
                  "6": "Dormant"
                },
                {
                  "0": "3",
                  "1": "Bob Brown",
                  "2": "202 Birch St",
                  "3": "",
                  "4": "555-0100003",
                  "5": "Credit",
                  "6": "Dormant"
                },
                {
                  "0": "4",
                  "1": "None",
                  "2": "202 Birch St",
                  "3": "laura323@demo.org",
                  "4": "555-0100004",
                  "5": "Checking",
                  "6": "Active"
                },
                {
                  "0": "5",
                  "1": "Emma Davis",
                  "2": "101 Maple St",
                  "3": "laura410@test.edu",
                  "4": "555-0100005",
                  "5": "Savings",
                  "6": "Dormant"
                },
                {
                  "0": "6",
                  "1": "Alice Johnson",
                  "2": "None",
                  "3": "bob96@test.edu",
                  "4": "555-0100006",
                  "5": "Credit",
                  "6": "Dormant"
                },
                {
                  "0": "7",
                  "1": "Emma Davis",
                  "2": "456 Oak St",
                  "3": "john47@example.com",
                  "4": "555-0100007",
                  "5": "Checking",
                  "6": "Active"
                },
                {
                  "0": "8",
                  "1": "Alice Johnson",
                  "2": "None",
                  "3": "bob69@demo.org",
                  "4": "555-0100008",
                  "5": "Checking",
                  "6": "Dormant"
                },
                {
                  "0": "9",
                  "1": "Emma Davis",
                  "2": "789 Pine St",
                  "3": "bob416@example.com",
                  "4": "555-0100009",
                  "5": "Credit",
                  "6": "Active"
                },
                {
                  "0": "10",
                  "1": "Alice Johnson",
                  "2": "101 Maple St",
                  "3": "",
                  "4": "555-0100010",
                  "5": "Savings",
                  "6": "Dormant"
                },
                {
                  "0": "11",
                  "1": "Emma Davis",
                  "2": "456 Oak St",
                  "3": "john156@example.com",
                  "4": "555-0100011",
                  "5": "Credit",
                  "6": "Active"
                },
                {
                  "0": "12",
                  "1": "None",
                  "2": "456 Oak St",
                  "3": "",
                  "4": "555-0100012",
                  "5": "Credit",
                  "6": "Dormant"
                },
                {
                  "0": "13",
                  "1": "John Doe",
                  "2": "202 Birch St",
                  "3": "bob39@demo.org",
                  "4": "555-0100013",
                  "5": "Checking",
                  "6": "Dormant"
                },
                {
                  "0": "14",
                  "1": "Emma Davis",
                  "2": "456 Oak St",
                  "3": "mike308@demo.org",
                  "4": "555-0100014",
                  "5": "Savings",
                  "6": "Active"
                },
                {
                  "0": "15",
                  "1": "Bob Brown",
                  "2": "456 Oak St",
                  "3": "sara133@example.com",
                  "4": "",
                  "5": "Savings",
                  "6": "Dormant"
                },
                {
                  "0": "16",
                  "1": "Emma Davis",
                  "2": "123 Elm St",
                  "3": "",
                  "4": "555-0100016",
                  "5": "Credit",
                  "6": "Active"
                },
                {
                  "0": "17",
                  "1": "Emma Davis",
                  "2": "101 Maple St",
                  "3": "carlos97@example.com",
                  "4": "555-0100017",
                  "5": "Checking",
                  "6": "Dormant"
                },
                {
                  "0": "18",
                  "1": "Bob Brown",
                  "2": "123 Elm St",
                  "3": "mike492@placeholder.co",
                  "4": "",
                  "5": "Savings",
                  "6": "Dormant"
                },
                {
                  "0": "19",
                  "1": "Emma Davis",
                  "2": "789 Pine St",
                  "3": "",
                  "4": "555-0100019",
                  "5": "Savings",
                  "6": "Active"
                },
                {
                  "0": "20",
                  "1": "John Doe",
                  "2": "123 Elm St",
                  "3": "bob443@test.edu",
                  "4": "555-0100020",
                  "5": "Credit",
                  "6": "Dormant"
                },
                {
                  "0": "21",
                  "1": "Bob Brown",
                  "2": "789 Pine St",
                  "3": "laura40@demo.org",
                  "4": "",
                  "5": "Savings",
                  "6": "Dormant"
                },
                {
                  "0": "22",
                  "1": "None",
                  "2": "789 Pine St",
                  "3": "laura243@test.edu",
                  "4": "",
                  "5": "Checking",
                  "6": "Active"
                },
                {
                  "0": "23",
                  "1": "Alice Johnson",
                  "2": "202 Birch St",
                  "3": "",
                  "4": "555-0100023",
                  "5": "Checking",
                  "6": "Active"
                },
                {
                  "0": "24",
                  "1": "Alice Johnson",
                  "2": "123 Elm St",
                  "3": "mike461@test.edu",
                  "4": "",
                  "5": "Credit",
                  "6": "Dormant"
                },
                {
                  "0": "25",
                  "1": "Bob Brown",
                  "2": "202 Birch St",
                  "3": "carlos375@demo.org",
                  "4": "555-0100025",
                  "5": "Savings",
                  "6": "Active"
                },
                {
                  "0": "26",
                  "1": "Bob Brown",
                  "2": "456 Oak St",
                  "3": "alice365@sample.net",
                  "4": "555-0100026",
                  "5": "Credit",
                  "6": "Dormant"
                },
                {
                  "0": "27",
                  "1": "Emma Davis",
                  "2": "202 Birch St",
                  "3": "emma428@sample.net",
                  "4": "555-0100027",
                  "5": "Checking",
                  "6": "Active"
                },
                {
                  "0": "28",
                  "1": "John Doe",
                  "2": "123 Elm St",
                  "3": "dan437@sample.net",
                  "4": "555-0100028",
                  "5": "Savings",
                  "6": "Active"
                },
                {
                  "0": "29",
                  "1": "Alice Johnson",
                  "2": "202 Birch St",
                  "3": "emma280@test.edu",
                  "4": "555-0100029",
                  "5": "Credit",
                  "6": "Dormant"
                },
                {
                  "0": "30",
                  "1": "Jane Smith",
                  "2": "101 Maple St",
                  "3": "mike95@example.com",
                  "4": "555-0100030",
                  "5": "Savings",
                  "6": "None"
                },
                {
                  "0": "31",
                  "1": "Emma Davis",
                  "2": "101 Maple St",
                  "3": "",
                  "4": "",
                  "5": "Savings",
                  "6": "Active"
                },
                {
                  "0": "32",
                  "1": "Emma Davis",
                  "2": "101 Maple St",
                  "3": "john87@demo.org",
                  "4": "",
                  "5": "Checking",
                  "6": "Dormant"
                },
                {
                  "0": "33",
                  "1": "John Doe",
                  "2": "456 Oak St",
                  "3": "bob305@test.edu",
                  "4": "555-0100033",
                  "5": "Credit",
                  "6": "Active"
                },
                {
                  "0": "34",
                  "1": "Alice Johnson",
                  "2": "123 Elm St",
                  "3": "",
                  "4": "555-0100034",
                  "5": "Savings",
                  "6": "Dormant"
                },
                {
                  "0": "35",
                  "1": "Jane Smith",
                  "2": "123 Elm St",
                  "3": "sara305@placeholder.co",
                  "4": "555-0100035",
                  "5": "Credit",
                  "6": "Active"
                },
                {
                  "0": "36",
                  "1": "Alice Johnson",
                  "2": "101 Maple St",
                  "3": "bob301@example.com",
                  "4": "555-0100036",
                  "5": "Credit",
                  "6": "Dormant"
                },
                {
                  "0": "37",
                  "1": "Alice Johnson",
                  "2": "101 Maple St",
                  "3": "sara499@example.com",
                  "4": "555-0100037",
                  "5": "Credit",
                  "6": "Dormant"
                },
                {
                  "0": "38",
                  "1": "John Doe",
                  "2": "202 Birch St",
                  "3": "laura207@demo.org",
                  "4": "555-0100038",
                  "5": "Savings",
                  "6": "Active"
                },
                {
                  "0": "39",
                  "1": "Emma Davis",
                  "2": "456 Oak St",
                  "3": "dan89@demo.org",
                  "4": "555-0100039",
                  "5": "Credit",
                  "6": "Dormant"
                },
                {
                  "0": "40",
                  "1": "John Doe",
                  "2": "456 Oak St",
                  "3": "",
                  "4": "",
                  "5": "Checking",
                  "6": "Dormant"
                },
                {
                  "0": "41",
                  "1": "Alice Johnson",
                  "2": "202 Birch St",
                  "3": "laura281@sample.net",
                  "4": "555-0100041",
                  "5": "None",
                  "6": "Active"
                },
                {
                  "0": "42",
                  "1": "Jane Smith",
                  "2": "101 Maple St",
                  "3": "sara172@placeholder.co",
                  "4": "555-0100042",
                  "5": "Credit",
                  "6": "Dormant"
                },
                {
                  "0": "43",
                  "1": "Emma Davis",
                  "2": "123 Elm St",
                  "3": "emma392@placeholder.co",
                  "4": "555-0100043",
                  "5": "Savings",
                  "6": "Dormant"
                },
                {
                  "0": "44",
                  "1": "John Doe",
                  "2": "202 Birch St",
                  "3": "bob35@example.com",
                  "4": "555-0100044",
                  "5": "Savings",
                  "6": "Active"
                },
                {
                  "0": "45",
                  "1": "Bob Brown",
                  "2": "456 Oak St",
                  "3": "emma245@example.com",
                  "4": "",
                  "5": "Savings",
                  "6": "Dormant"
                },
                {
                  "0": "46",
                  "1": "Jane Smith",
                  "2": "101 Maple St",
                  "3": "mike206@placeholder.co",
                  "4": "555-0100046",
                  "5": "Checking",
                  "6": "Dormant"
                },
                {
                  "0": "47",
                  "1": "Bob Brown",
                  "2": "789 Pine St",
                  "3": "",
                  "4": "555-0100047",
                  "5": "Savings",
                  "6": "Dormant"
                },
                {
                  "0": "48",
                  "1": "Alice Johnson",
                  "2": "202 Birch St",
                  "3": "laura118@test.edu",
                  "4": "",
                  "5": "Savings",
                  "6": "Dormant"
                },
                {
                  "0": "49",
                  "1": "Jane Smith",
                  "2": "101 Maple St",
                  "3": "laura293@example.com",
                  "4": "",
                  "5": "Checking",
                  "6": "Active"
                },
                {
                  "0": "50",
                  "1": "Jane Smith",
                  "2": "123 Elm St",
                  "3": "carlos456@sample.net",
                  "4": "555-0100050",
                  "5": "Checking",
                  "6": "Active"
                },
                {
                  "0": "51",
                  "1": "Emma Davis",
                  "2": "789 Pine St",
                  "3": "john137@test.edu",
                  "4": "555-0100051",
                  "5": "Credit",
                  "6": "Dormant"
                },
                {
                  "0": "52",
                  "1": "Alice Johnson",
                  "2": "789 Pine St",
                  "3": "mike384@placeholder.co",
                  "4": "555-0100052",
                  "5": "Credit",
                  "6": "Dormant"
                },
                {
                  "0": "53",
                  "1": "John Doe",
                  "2": "123 Elm St",
                  "3": "emma143@sample.net",
                  "4": "555-0100053",
                  "5": "Credit",
                  "6": "Dormant"
                },
                {
                  "0": "54",
                  "1": "Jane Smith",
                  "2": "123 Elm St",
                  "3": "bob406@example.com",
                  "4": "555-0100054",
                  "5": "Credit",
                  "6": "Dormant"
                },
                {
                  "0": "55",
                  "1": "John Doe",
                  "2": "123 Elm St",
                  "3": "alice234@placeholder.co",
                  "4": "555-0100055",
                  "5": "Savings",
                  "6": "Active"
                },
                {
                  "0": "56",
                  "1": "Alice Johnson",
                  "2": "202 Birch St",
                  "3": "",
                  "4": "",
                  "5": "Savings",
                  "6": "Active"
                },
                {
                  "0": "57",
                  "1": "Alice Johnson",
                  "2": "202 Birch St",
                  "3": "emma80@test.edu",
                  "4": "555-0100057",
                  "5": "Credit",
                  "6": "Dormant"
                },
                {
                  "0": "58",
                  "1": "Bob Brown",
                  "2": "101 Maple St",
                  "3": "sara264@placeholder.co",
                  "4": "555-0100058",
                  "5": "Credit",
                  "6": "Active"
                },
                {
                  "0": "59",
                  "1": "John Doe",
                  "2": "789 Pine St",
                  "3": "laura466@placeholder.co",
                  "4": "555-0100059",
                  "5": "Savings",
                  "6": "Active"
                },
                {
                  "0": "60",
                  "1": "John Doe",
                  "2": "789 Pine St",
                  "3": "carlos202@demo.org",
                  "4": "",
                  "5": "Credit",
                  "6": "Dormant"
                },
                {
                  "0": "61",
                  "1": "Emma Davis",
                  "2": "789 Pine St",
                  "3": "emma119@placeholder.co",
                  "4": "",
                  "5": "Savings",
                  "6": "Active"
                },
                {
                  "0": "62",
                  "1": "Alice Johnson",
                  "2": "456 Oak St",
                  "3": "mike321@placeholder.co",
                  "4": "555-0100062",
                  "5": "Savings",
                  "6": "Active"
                },
                {
                  "0": "63",
                  "1": "Alice Johnson",
                  "2": "456 Oak St",
                  "3": "carlos159@placeholder.co",
                  "4": "555-0100063",
                  "5": "Savings",
                  "6": "Dormant"
                },
                {
                  "0": "64",
                  "1": "Alice Johnson",
                  "2": "123 Elm St",
                  "3": "",
                  "4": "",
                  "5": "Savings",
                  "6": "Active"
                },
                {
                  "0": "65",
                  "1": "Alice Johnson",
                  "2": "789 Pine St",
                  "3": "emma25@demo.org",
                  "4": "555-0100065",
                  "5": "Checking",
                  "6": "Dormant"
                },
                {
                  "0": "66",
                  "1": "Emma Davis",
                  "2": "101 Maple St",
                  "3": "carlos155@sample.net",
                  "4": "555-0100066",
                  "5": "Checking",
                  "6": "Active"
                },
                {
                  "0": "67",
                  "1": "Bob Brown",
                  "2": "101 Maple St",
                  "3": "mike361@test.edu",
                  "4": "",
                  "5": "Credit",
                  "6": "Dormant"
                },
                {
                  "0": "68",
                  "1": "Alice Johnson",
                  "2": "101 Maple St",
                  "3": "carlos437@test.edu",
                  "4": "",
                  "5": "Checking",
                  "6": "Active"
                },
                {
                  "0": "69",
                  "1": "Jane Smith",
                  "2": "456 Oak St",
                  "3": "",
                  "4": "555-0100069",
                  "5": "Checking",
                  "6": "Dormant"
                },
                {
                  "0": "70",
                  "1": "Bob Brown",
                  "2": "456 Oak St",
                  "3": "",
                  "4": "555-0100070",
                  "5": "Savings",
                  "6": "Active"
                },
                {
                  "0": "71",
                  "1": "Emma Davis",
                  "2": "202 Birch St",
                  "3": "",
                  "4": "",
                  "5": "Savings",
                  "6": "Dormant"
                },
                {
                  "0": "72",
                  "1": "Bob Brown",
                  "2": "789 Pine St",
                  "3": "sara229@demo.org",
                  "4": "555-0100072",
                  "5": "None",
                  "6": "Active"
                },
                {
                  "0": "73",
                  "1": "Bob Brown",
                  "2": "789 Pine St",
                  "3": "",
                  "4": "",
                  "5": "None",
                  "6": "Active"
                },
                {
                  "0": "74",
                  "1": "Emma Davis",
                  "2": "789 Pine St",
                  "3": "",
                  "4": "555-0100074",
                  "5": "Checking",
                  "6": "Active"
                },
                {
                  "0": "75",
                  "1": "Jane Smith",
                  "2": "202 Birch St",
                  "3": "carlos15@demo.org",
                  "4": "555-0100075",
                  "5": "Credit",
                  "6": "Dormant"
                },
                {
                  "0": "76",
                  "1": "Alice Johnson",
                  "2": "101 Maple St",
                  "3": "",
                  "4": "555-0100076",
                  "5": "Credit",
                  "6": "Active"
                },
                {
                  "0": "77",
                  "1": "Jane Smith",
                  "2": "101 Maple St",
                  "3": "",
                  "4": "",
                  "5": "Savings",
                  "6": "Active"
                },
                {
                  "0": "78",
                  "1": "Alice Johnson",
                  "2": "202 Birch St",
                  "3": "",
                  "4": "555-0100078",
                  "5": "Credit",
                  "6": "Active"
                },
                {
                  "0": "79",
                  "1": "Emma Davis",
                  "2": "202 Birch St",
                  "3": "",
                  "4": "555-0100079",
                  "5": "Savings",
                  "6": "Dormant"
                },
                {
                  "0": "80",
                  "1": "John Doe",
                  "2": "789 Pine St",
                  "3": "",
                  "4": "555-0100080",
                  "5": "Checking",
                  "6": "Active"
                },
                {
                  "0": "81",
                  "1": "Emma Davis",
                  "2": "202 Birch St",
                  "3": "sara308@test.edu",
                  "4": "555-0100081",
                  "5": "Credit",
                  "6": "Dormant"
                },
                {
                  "0": "82",
                  "1": "Bob Brown",
                  "2": "789 Pine St",
                  "3": "john202@sample.net",
                  "4": "555-0100082",
                  "5": "Credit",
                  "6": "Active"
                },
                {
                  "0": "83",
                  "1": "Alice Johnson",
                  "2": "123 Elm St",
                  "3": "",
                  "4": "555-0100083",
                  "5": "Checking",
                  "6": "Dormant"
                },
                {
                  "0": "84",
                  "1": "Emma Davis",
                  "2": "789 Pine St",
                  "3": "john439@example.com",
                  "4": "555-0100084",
                  "5": "Credit",
                  "6": "Dormant"
                },
                {
                  "0": "85",
                  "1": "Jane Smith",
                  "2": "123 Elm St",
                  "3": "",
                  "4": "555-0100085",
                  "5": "Checking",
                  "6": "Active"
                },
                {
                  "0": "86",
                  "1": "John Doe",
                  "2": "456 Oak St",
                  "3": "dan405@placeholder.co",
                  "4": "555-0100086",
                  "5": "Savings",
                  "6": "Dormant"
                },
                {
                  "0": "87",
                  "1": "Jane Smith",
                  "2": "456 Oak St",
                  "3": "",
                  "4": "",
                  "5": "Savings",
                  "6": "Active"
                },
                {
                  "0": "88",
                  "1": "Jane Smith",
                  "2": "789 Pine St",
                  "3": "mike282@example.com",
                  "4": "",
                  "5": "Checking",
                  "6": "Active"
                },
                {
                  "0": "89",
                  "1": "Bob Brown",
                  "2": "456 Oak St",
                  "3": "mike330@placeholder.co",
                  "4": "",
                  "5": "Credit",
                  "6": "Dormant"
                },
                {
                  "0": "90",
                  "1": "Alice Johnson",
                  "2": "789 Pine St",
                  "3": "sara146@demo.org",
                  "4": "555-0100090",
                  "5": "Checking",
                  "6": "Active"
                },
                {
                  "0": "91",
                  "1": "Alice Johnson",
                  "2": "202 Birch St",
                  "3": "",
                  "4": "555-0100091",
                  "5": "Credit",
                  "6": "Dormant"
                },
                {
                  "0": "92",
                  "1": "Emma Davis",
                  "2": "202 Birch St",
                  "3": "laura445@placeholder.co",
                  "4": "555-0100092",
                  "5": "Savings",
                  "6": "Active"
                },
                {
                  "0": "93",
                  "1": "Bob Brown",
                  "2": "456 Oak St",
                  "3": "dan207@placeholder.co",
                  "4": "555-0100093",
                  "5": "Credit",
                  "6": "Dormant"
                },
                {
                  "0": "94",
                  "1": "Emma Davis",
                  "2": "456 Oak St",
                  "3": "",
                  "4": "",
                  "5": "Credit",
                  "6": "Dormant"
                },
                {
                  "0": "95",
                  "1": "Alice Johnson",
                  "2": "789 Pine St",
                  "3": "mike298@placeholder.co",
                  "4": "555-0100095",
                  "5": "Credit",
                  "6": "Active"
                },
                {
                  "0": "96",
                  "1": "Bob Brown",
                  "2": "123 Elm St",
                  "3": "bob62@test.edu",
                  "4": "555-0100096",
                  "5": "Checking",
                  "6": "Active"
                },
                {
                  "0": "97",
                  "1": "Alice Johnson",
                  "2": "123 Elm St",
                  "3": "emma319@placeholder.co",
                  "4": "",
                  "5": "Credit",
                  "6": "Active"
                },
                {
                  "0": "98",
                  "1": "Bob Brown",
                  "2": "101 Maple St",
                  "3": "bob464@test.edu",
                  "4": "555-0100098",
                  "5": "Savings",
                  "6": "Active"
                },
                {
                  "0": "99",
                  "1": "John Doe",
                  "2": "456 Oak St",
                  "3": "bob444@sample.net",
                  "4": "555-0100099",
                  "5": "Savings",
                  "6": "Active"
                },
                {
                  "0": "100",
                  "1": "John Doe",
                  "2": "456 Oak St",
                  "3": "laura292@test.edu",
                  "4": "555-0100100",
                  "5": "Credit",
                  "6": "Active"
                },
                {
                  "0": "101",
                  "1": "Alice Johnson",
                  "2": "789 Pine St",
                  "3": "alice348@test.edu",
                  "4": "555-0100101",
                  "5": "Credit",
                  "6": "Active"
                },
                {
                  "0": "102",
                  "1": "Bob Brown",
                  "2": "456 Oak St",
                  "3": "",
                  "4": "555-0100102",
                  "5": "Savings",
                  "6": "Dormant"
                },
                {
                  "0": "103",
                  "1": "Emma Davis",
                  "2": "789 Pine St",
                  "3": "dan15@placeholder.co",
                  "4": "555-0100103",
                  "5": "Checking",
                  "6": "None"
                },
                {
                  "0": "104",
                  "1": "John Doe",
                  "2": "None",
                  "3": "bob178@demo.org",
                  "4": "",
                  "5": "Savings",
                  "6": "Dormant"
                },
                {
                  "0": "105",
                  "1": "Emma Davis",
                  "2": "789 Pine St",
                  "3": "",
                  "4": "555-0100105",
                  "5": "Savings",
                  "6": "Active"
                },
                {
                  "0": "106",
                  "1": "John Doe",
                  "2": "123 Elm St",
                  "3": "emma236@demo.org",
                  "4": "555-0100106",
                  "5": "Savings",
                  "6": "Dormant"
                },
                {
                  "0": "107",
                  "1": "Alice Johnson",
                  "2": "202 Birch St",
                  "3": "bob370@test.edu",
                  "4": "",
                  "5": "Savings",
                  "6": "Active"
                },
                {
                  "0": "108",
                  "1": "Emma Davis",
                  "2": "202 Birch St",
                  "3": "mike210@example.com",
                  "4": "",
                  "5": "Savings",
                  "6": "Active"
                },
                {
                  "0": "109",
                  "1": "Bob Brown",
                  "2": "456 Oak St",
                  "3": "laura325@placeholder.co",
                  "4": "555-0100109",
                  "5": "Checking",
                  "6": "Dormant"
                },
                {
                  "0": "110",
                  "1": "John Doe",
                  "2": "123 Elm St",
                  "3": "mike210@test.edu",
                  "4": "555-0100110",
                  "5": "Savings",
                  "6": "Active"
                },
                {
                  "0": "111",
                  "1": "Bob Brown",
                  "2": "202 Birch St",
                  "3": "john473@sample.net",
                  "4": "",
                  "5": "Checking",
                  "6": "Active"
                },
                {
                  "0": "112",
                  "1": "Jane Smith",
                  "2": "202 Birch St",
                  "3": "alice304@placeholder.co",
                  "4": "",
                  "5": "Checking",
                  "6": "Dormant"
                },
                {
                  "0": "113",
                  "1": "Emma Davis",
                  "2": "789 Pine St",
                  "3": "carlos476@example.com",
                  "4": "555-0100113",
                  "5": "Checking",
                  "6": "Active"
                },
                {
                  "0": "114",
                  "1": "John Doe",
                  "2": "202 Birch St",
                  "3": "emma329@placeholder.co",
                  "4": "555-0100114",
                  "5": "Checking",
                  "6": "Dormant"
                },
                {
                  "0": "115",
                  "1": "Bob Brown",
                  "2": "456 Oak St",
                  "3": "alice327@example.com",
                  "4": "555-0100115",
                  "5": "Savings",
                  "6": "Active"
                },
                {
                  "0": "116",
                  "1": "Alice Johnson",
                  "2": "123 Elm St",
                  "3": "emma359@sample.net",
                  "4": "",
                  "5": "Savings",
                  "6": "Dormant"
                },
                {
                  "0": "117",
                  "1": "Jane Smith",
                  "2": "789 Pine St",
                  "3": "bob463@demo.org",
                  "4": "555-0100117",
                  "5": "Checking",
                  "6": "Active"
                },
                {
                  "0": "118",
                  "1": "Jane Smith",
                  "2": "101 Maple St",
                  "3": "bob184@sample.net",
                  "4": "555-0100118",
                  "5": "Credit",
                  "6": "Active"
                },
                {
                  "0": "119",
                  "1": "Bob Brown",
                  "2": "456 Oak St",
                  "3": "jane187@example.com",
                  "4": "555-0100119",
                  "5": "Savings",
                  "6": "Active"
                },
                {
                  "0": "120",
                  "1": "Emma Davis",
                  "2": "789 Pine St",
                  "3": "john414@test.edu",
                  "4": "",
                  "5": "Credit",
                  "6": "Active"
                },
                {
                  "0": "121",
                  "1": "Alice Johnson",
                  "2": "789 Pine St",
                  "3": "emma442@test.edu",
                  "4": "",
                  "5": "None",
                  "6": "Active"
                },
                {
                  "0": "122",
                  "1": "Bob Brown",
                  "2": "101 Maple St",
                  "3": "laura351@placeholder.co",
                  "4": "555-0100122",
                  "5": "Checking",
                  "6": "Dormant"
                },
                {
                  "0": "123",
                  "1": "Bob Brown",
                  "2": "123 Elm St",
                  "3": "laura455@test.edu",
                  "4": "555-0100123",
                  "5": "Savings",
                  "6": "Dormant"
                },
                {
                  "0": "124",
                  "1": "Bob Brown",
                  "2": "101 Maple St",
                  "3": "mike70@example.com",
                  "4": "",
                  "5": "Credit",
                  "6": "Active"
                },
                {
                  "0": "125",
                  "1": "Bob Brown",
                  "2": "101 Maple St",
                  "3": "",
                  "4": "",
                  "5": "Savings",
                  "6": "Dormant"
                },
                {
                  "0": "126",
                  "1": "Bob Brown",
                  "2": "456 Oak St",
                  "3": "dan305@test.edu",
                  "4": "555-0100126",
                  "5": "Savings",
                  "6": "Dormant"
                },
                {
                  "0": "127",
                  "1": "Bob Brown",
                  "2": "456 Oak St",
                  "3": "mike175@sample.net",
                  "4": "",
                  "5": "Savings",
                  "6": "Dormant"
                },
                {
                  "0": "128",
                  "1": "Alice Johnson",
                  "2": "202 Birch St",
                  "3": "jane468@example.com",
                  "4": "",
                  "5": "Credit",
                  "6": "Active"
                },
                {
                  "0": "129",
                  "1": "Alice Johnson",
                  "2": "789 Pine St",
                  "3": "jane359@sample.net",
                  "4": "555-0100129",
                  "5": "Checking",
                  "6": "Dormant"
                },
                {
                  "0": "130",
                  "1": "Bob Brown",
                  "2": "456 Oak St",
                  "3": "mike217@sample.net",
                  "4": "",
                  "5": "Checking",
                  "6": "Active"
                },
                {
                  "0": "131",
                  "1": "Alice Johnson",
                  "2": "789 Pine St",
                  "3": "sara333@test.edu",
                  "4": "",
                  "5": "Credit",
                  "6": "Active"
                },
                {
                  "0": "132",
                  "1": "John Doe",
                  "2": "101 Maple St",
                  "3": "",
                  "4": "555-0100132",
                  "5": "Savings",
                  "6": "Dormant"
                },
                {
                  "0": "133",
                  "1": "John Doe",
                  "2": "456 Oak St",
                  "3": "sara492@test.edu",
                  "4": "555-0100133",
                  "5": "Checking",
                  "6": "Dormant"
                },
                {
                  "0": "134",
                  "1": "Jane Smith",
                  "2": "456 Oak St",
                  "3": "dan319@test.edu",
                  "4": "555-0100134",
                  "5": "Credit",
                  "6": "Active"
                },
                {
                  "0": "135",
                  "1": "John Doe",
                  "2": "101 Maple St",
                  "3": "sara96@example.com",
                  "4": "",
                  "5": "Checking",
                  "6": "Dormant"
                },
                {
                  "0": "136",
                  "1": "Jane Smith",
                  "2": "789 Pine St",
                  "3": "carlos425@placeholder.co",
                  "4": "555-0100136",
                  "5": "Savings",
                  "6": "Dormant"
                },
                {
                  "0": "137",
                  "1": "Alice Johnson",
                  "2": "789 Pine St",
                  "3": "bob18@demo.org",
                  "4": "",
                  "5": "Credit",
                  "6": "Active"
                },
                {
                  "0": "138",
                  "1": "Bob Brown",
                  "2": "123 Elm St",
                  "3": "carlos367@example.com",
                  "4": "555-0100138",
                  "5": "Checking",
                  "6": "Dormant"
                },
                {
                  "0": "139",
                  "1": "Bob Brown",
                  "2": "123 Elm St",
                  "3": "dan305@test.edu",
                  "4": "",
                  "5": "Checking",
                  "6": "Active"
                },
                {
                  "0": "140",
                  "1": "John Doe",
                  "2": "123 Elm St",
                  "3": "dan490@example.com",
                  "4": "",
                  "5": "Checking",
                  "6": "Dormant"
                },
                {
                  "0": "141",
                  "1": "Alice Johnson",
                  "2": "789 Pine St",
                  "3": "carlos298@test.edu",
                  "4": "555-0100141",
                  "5": "Savings",
                  "6": "Active"
                },
                {
                  "0": "142",
                  "1": "Emma Davis",
                  "2": "101 Maple St",
                  "3": "alice31@placeholder.co",
                  "4": "555-0100142",
                  "5": "Checking",
                  "6": "Dormant"
                },
                {
                  "0": "143",
                  "1": "Bob Brown",
                  "2": "202 Birch St",
                  "3": "dan269@example.com",
                  "4": "555-0100143",
                  "5": "Checking",
                  "6": "Dormant"
                },
                {
                  "0": "144",
                  "1": "Alice Johnson",
                  "2": "202 Birch St",
                  "3": "sara356@test.edu",
                  "4": "555-0100144",
                  "5": "Credit",
                  "6": "Active"
                },
                {
                  "0": "145",
                  "1": "Bob Brown",
                  "2": "202 Birch St",
                  "3": "emma432@demo.org",
                  "4": "555-0100145",
                  "5": "Savings",
                  "6": "Dormant"
                },
                {
                  "0": "146",
                  "1": "John Doe",
                  "2": "456 Oak St",
                  "3": "emma96@placeholder.co",
                  "4": "555-0100146",
                  "5": "Credit",
                  "6": "Dormant"
                },
                {
                  "0": "147",
                  "1": "Emma Davis",
                  "2": "202 Birch St",
                  "3": "alice415@example.com",
                  "4": "555-0100147",
                  "5": "Credit",
                  "6": "Dormant"
                },
                {
                  "0": "148",
                  "1": "Bob Brown",
                  "2": "202 Birch St",
                  "3": "emma154@sample.net",
                  "4": "555-0100148",
                  "5": "Credit",
                  "6": "Active"
                },
                {
                  "0": "149",
                  "1": "Alice Johnson",
                  "2": "101 Maple St",
                  "3": "",
                  "4": "555-0100149",
                  "5": "Savings",
                  "6": "Dormant"
                },
                {
                  "0": "150",
                  "1": "Jane Smith",
                  "2": "123 Elm St",
                  "3": "mike403@demo.org",
                  "4": "",
                  "5": "Checking",
                  "6": "Active"
                },
                {
                  "0": "151",
                  "1": "Bob Brown",
                  "2": "101 Maple St",
                  "3": "carlos206@demo.org",
                  "4": "555-0100151",
                  "5": "Savings",
                  "6": "Active"
                },
                {
                  "0": "152",
                  "1": "Jane Smith",
                  "2": "456 Oak St",
                  "3": "john402@demo.org",
                  "4": "555-0100152",
                  "5": "Checking",
                  "6": "Active"
                },
                {
                  "0": "153",
                  "1": "Alice Johnson",
                  "2": "123 Elm St",
                  "3": "carlos46@test.edu",
                  "4": "",
                  "5": "Credit",
                  "6": "None"
                },
                {
                  "0": "154",
                  "1": "Bob Brown",
                  "2": "789 Pine St",
                  "3": "john88@placeholder.co",
                  "4": "555-0100154",
                  "5": "Savings",
                  "6": "Active"
                },
                {
                  "0": "155",
                  "1": "Emma Davis",
                  "2": "789 Pine St",
                  "3": "",
                  "4": "",
                  "5": "Credit",
                  "6": "Active"
                },
                {
                  "0": "156",
                  "1": "John Doe",
                  "2": "456 Oak St",
                  "3": "",
                  "4": "555-0100156",
                  "5": "Savings",
                  "6": "Active"
                },
                {
                  "0": "157",
                  "1": "John Doe",
                  "2": "101 Maple St",
                  "3": "mike320@sample.net",
                  "4": "",
                  "5": "Checking",
                  "6": "Active"
                },
                {
                  "0": "158",
                  "1": "Alice Johnson",
                  "2": "101 Maple St",
                  "3": "laura157@test.edu",
                  "4": "",
                  "5": "Checking",
                  "6": "Active"
                },
                {
                  "0": "159",
                  "1": "Emma Davis",
                  "2": "789 Pine St",
                  "3": "jane438@sample.net",
                  "4": "",
                  "5": "Checking",
                  "6": "Dormant"
                },
                {
                  "0": "160",
                  "1": "Emma Davis",
                  "2": "101 Maple St",
                  "3": "dan2@test.edu",
                  "4": "555-0100160",
                  "5": "Credit",
                  "6": "Dormant"
                },
                {
                  "0": "161",
                  "1": "John Doe",
                  "2": "789 Pine St",
                  "3": "mike265@sample.net",
                  "4": "555-0100161",
                  "5": "Credit",
                  "6": "Active"
                },
                {
                  "0": "162",
                  "1": "Jane Smith",
                  "2": "101 Maple St",
                  "3": "laura437@demo.org",
                  "4": "555-0100162",
                  "5": "Credit",
                  "6": "Active"
                },
                {
                  "0": "163",
                  "1": "Alice Johnson",
                  "2": "456 Oak St",
                  "3": "bob237@sample.net",
                  "4": "555-0100163",
                  "5": "Savings",
                  "6": "Dormant"
                },
                {
                  "0": "164",
                  "1": "Emma Davis",
                  "2": "101 Maple St",
                  "3": "jane102@sample.net",
                  "4": "555-0100164",
                  "5": "Credit",
                  "6": "Active"
                },
                {
                  "0": "165",
                  "1": "Bob Brown",
                  "2": "None",
                  "3": "bob228@placeholder.co",
                  "4": "555-0100165",
                  "5": "Credit",
                  "6": "Active"
                },
                {
                  "0": "166",
                  "1": "Alice Johnson",
                  "2": "101 Maple St",
                  "3": "emma67@demo.org",
                  "4": "555-0100166",
                  "5": "Credit",
                  "6": "Active"
                },
                {
                  "0": "167",
                  "1": "John Doe",
                  "2": "202 Birch St",
                  "3": "sara10@sample.net",
                  "4": "555-0100167",
                  "5": "Checking",
                  "6": "Dormant"
                },
                {
                  "0": "168",
                  "1": "Bob Brown",
                  "2": "202 Birch St",
                  "3": "emma312@example.com",
                  "4": "555-0100168",
                  "5": "Credit",
                  "6": "Active"
                },
                {
                  "0": "169",
                  "1": "Alice Johnson",
                  "2": "789 Pine St",
                  "3": "sara381@example.com",
                  "4": "",
                  "5": "Savings",
                  "6": "Dormant"
                },
                {
                  "0": "170",
                  "1": "Alice Johnson",
                  "2": "456 Oak St",
                  "3": "dan405@sample.net",
                  "4": "555-0100170",
                  "5": "Checking",
                  "6": "Active"
                },
                {
                  "0": "171",
                  "1": "Jane Smith",
                  "2": "456 Oak St",
                  "3": "emma175@test.edu",
                  "4": "555-0100171",
                  "5": "Savings",
                  "6": "Dormant"
                },
                {
                  "0": "172",
                  "1": "Bob Brown",
                  "2": "202 Birch St",
                  "3": "alice306@demo.org",
                  "4": "555-0100172",
                  "5": "Checking",
                  "6": "Dormant"
                },
                {
                  "0": "173",
                  "1": "John Doe",
                  "2": "789 Pine St",
                  "3": "",
                  "4": "555-0100173",
                  "5": "Checking",
                  "6": "Dormant"
                },
                {
                  "0": "174",
                  "1": "Alice Johnson",
                  "2": "456 Oak St",
                  "3": "",
                  "4": "555-0100174",
                  "5": "Credit",
                  "6": "Dormant"
                },
                {
                  "0": "175",
                  "1": "Jane Smith",
                  "2": "456 Oak St",
                  "3": "dan465@sample.net",
                  "4": "",
                  "5": "Checking",
                  "6": "Dormant"
                },
                {
                  "0": "176",
                  "1": "John Doe",
                  "2": "101 Maple St",
                  "3": "john276@placeholder.co",
                  "4": "",
                  "5": "Credit",
                  "6": "None"
                },
                {
                  "0": "177",
                  "1": "Bob Brown",
                  "2": "202 Birch St",
                  "3": "mike20@sample.net",
                  "4": "555-0100177",
                  "5": "Checking",
                  "6": "Dormant"
                },
                {
                  "0": "178",
                  "1": "John Doe",
                  "2": "456 Oak St",
                  "3": "emma334@placeholder.co",
                  "4": "555-0100178",
                  "5": "Savings",
                  "6": "Dormant"
                },
                {
                  "0": "179",
                  "1": "Bob Brown",
                  "2": "202 Birch St",
                  "3": "mike55@sample.net",
                  "4": "555-0100179",
                  "5": "Savings",
                  "6": "Active"
                },
                {
                  "0": "180",
                  "1": "John Doe",
                  "2": "101 Maple St",
                  "3": "laura330@placeholder.co",
                  "4": "",
                  "5": "Checking",
                  "6": "Dormant"
                },
                {
                  "0": "181",
                  "1": "Bob Brown",
                  "2": "202 Birch St",
                  "3": "",
                  "4": "555-0100181",
                  "5": "Credit",
                  "6": "Dormant"
                },
                {
                  "0": "182",
                  "1": "Alice Johnson",
                  "2": "None",
                  "3": "john425@placeholder.co",
                  "4": "555-0100182",
                  "5": "Checking",
                  "6": "Dormant"
                },
                {
                  "0": "183",
                  "1": "Bob Brown",
                  "2": "456 Oak St",
                  "3": "",
                  "4": "555-0100183",
                  "5": "Checking",
                  "6": "Active"
                },
                {
                  "0": "184",
                  "1": "John Doe",
                  "2": "123 Elm St",
                  "3": "mike368@test.edu",
                  "4": "",
                  "5": "Credit",
                  "6": "None"
                },
                {
                  "0": "185",
                  "1": "Emma Davis",
                  "2": "456 Oak St",
                  "3": "john285@demo.org",
                  "4": "",
                  "5": "Checking",
                  "6": "Active"
                },
                {
                  "0": "186",
                  "1": "John Doe",
                  "2": "456 Oak St",
                  "3": "",
                  "4": "555-0100186",
                  "5": "Savings",
                  "6": "Dormant"
                },
                {
                  "0": "187",
                  "1": "John Doe",
                  "2": "101 Maple St",
                  "3": "dan43@example.com",
                  "4": "555-0100187",
                  "5": "Credit",
                  "6": "Dormant"
                },
                {
                  "0": "188",
                  "1": "John Doe",
                  "2": "456 Oak St",
                  "3": "jane121@example.com",
                  "4": "555-0100188",
                  "5": "Savings",
                  "6": "Dormant"
                },
                {
                  "0": "189",
                  "1": "Emma Davis",
                  "2": "202 Birch St",
                  "3": "laura380@example.com",
                  "4": "",
                  "5": "Checking",
                  "6": "Dormant"
                },
                {
                  "0": "190",
                  "1": "John Doe",
                  "2": "456 Oak St",
                  "3": "alice480@placeholder.co",
                  "4": "555-0100190",
                  "5": "Credit",
                  "6": "Dormant"
                },
                {
                  "0": "191",
                  "1": "John Doe",
                  "2": "202 Birch St",
                  "3": "dan410@placeholder.co",
                  "4": "555-0100191",
                  "5": "Checking",
                  "6": "Active"
                },
                {
                  "0": "192",
                  "1": "Alice Johnson",
                  "2": "123 Elm St",
                  "3": "laura380@demo.org",
                  "4": "555-0100192",
                  "5": "Checking",
                  "6": "Active"
                },
                {
                  "0": "193",
                  "1": "Jane Smith",
                  "2": "202 Birch St",
                  "3": "laura235@sample.net",
                  "4": "555-0100193",
                  "5": "Credit",
                  "6": "Active"
                },
                {
                  "0": "194",
                  "1": "Emma Davis",
                  "2": "202 Birch St",
                  "3": "",
                  "4": "555-0100194",
                  "5": "Savings",
                  "6": "Active"
                },
                {
                  "0": "195",
                  "1": "Emma Davis",
                  "2": "101 Maple St",
                  "3": "",
                  "4": "",
                  "5": "Savings",
                  "6": "Active"
                },
                {
                  "0": "196",
                  "1": "John Doe",
                  "2": "101 Maple St",
                  "3": "laura73@placeholder.co",
                  "4": "555-0100196",
                  "5": "Savings",
                  "6": "Active"
                },
                {
                  "0": "197",
                  "1": "Emma Davis",
                  "2": "101 Maple St",
                  "3": "bob323@placeholder.co",
                  "4": "555-0100197",
                  "5": "Savings",
                  "6": "Active"
                },
                {
                  "0": "198",
                  "1": "Emma Davis",
                  "2": "202 Birch St",
                  "3": "john460@sample.net",
                  "4": "",
                  "5": "Checking",
                  "6": "Dormant"
                },
                {
                  "0": "199",
                  "1": "Bob Brown",
                  "2": "456 Oak St",
                  "3": "sara437@example.com",
                  "4": "",
                  "5": "Checking",
                  "6": "Active"
                },
                {
                  "0": "200",
                  "1": "Jane Smith",
                  "2": "101 Maple St",
                  "3": "dan198@placeholder.co",
                  "4": "",
                  "5": "Credit",
                  "6": "Active"
                }
              ],
              "schema": [
                {
                  "key": "0",
                  "name": "Customer_ID",
                  "type": "int"
                },
                {
                  "key": "1",
                  "name": "Name",
                  "type": "string"
                },
                {
                  "key": "2",
                  "name": "Address",
                  "type": "string"
                },
                {
                  "key": "3",
                  "name": "Email",
                  "type": "string"
                },
                {
                  "key": "4",
                  "name": "Phone_Number",
                  "type": "string"
                },
                {
                  "key": "5",
                  "name": "Account_Type",
                  "type": "string"
                },
                {
                  "key": "6",
                  "name": "Account_Status",
                  "type": "string"
                }
              ],
              "truncated": false
            },
            "isSummary": false,
            "language": "scala",
            "wranglerEntryContext": {
              "candidateVariableNames": [
                "df"
              ],
              "dataframeType": "pyspark"
            }
          },
          "persist_state": {
            "view": {
              "type": "details",
              "tableOptions": {},
              "chartOptions": {
                "chartType": "bar",
                "aggregationType": "sum",
                "categoryFieldKeys": [
                  "1"
                ],
                "seriesFieldKeys": [
                  "0"
                ],
                "isStacked": false
              }
            }
          }
        },
        "680a32f7-f3fd-4734-ad28-6b75e3395496": {
          "type": "Synapse.DataFrame",
          "sync_state": {
            "table": {
              "rows": [
                {
                  "0": "1",
                  "1": "Alice Johnson",
                  "2": "789 Pine St",
                  "3": "rajesh@gmail.com",
                  "4": "555-0100001",
                  "5": "Credit",
                  "6": "Dormant"
                },
                {
                  "0": "1",
                  "1": "Alice Johnson",
                  "2": "789 Pine St",
                  "3": "rajesh@gmail.com",
                  "4": "555-0100001",
                  "5": "Credit",
                  "6": "Dormant"
                },
                {
                  "0": "2",
                  "1": "Emma Davis",
                  "2": "101 Maple St",
                  "3": "sara7@demo.org",
                  "4": "555-1056987",
                  "5": "Savings",
                  "6": "Dormant"
                },
                {
                  "0": "3",
                  "1": "Bob Brown",
                  "2": "202 Birch St",
                  "3": "rajesh@gmail.com",
                  "4": "555-0100003",
                  "5": "Credit",
                  "6": "Dormant"
                },
                {
                  "0": "4",
                  "1": "suman das",
                  "2": "202 Birch St",
                  "3": "laura323@demo.org",
                  "4": "555-0100004",
                  "5": "Checking",
                  "6": "Active"
                },
                {
                  "0": "5",
                  "1": "Emma Davis",
                  "2": "101 Maple St",
                  "3": "laura410@test.edu",
                  "4": "555-0100005",
                  "5": "Savings",
                  "6": "Dormant"
                },
                {
                  "0": "6",
                  "1": "Alice Johnson",
                  "2": "586 pinegrove rd",
                  "3": "bob96@test.edu",
                  "4": "555-0100006",
                  "5": "Credit",
                  "6": "Dormant"
                },
                {
                  "0": "7",
                  "1": "Emma Davis",
                  "2": "456 Oak St",
                  "3": "john47@example.com",
                  "4": "555-0100007",
                  "5": "Checking",
                  "6": "Active"
                },
                {
                  "0": "8",
                  "1": "Alice Johnson",
                  "2": "586 pinegrove rd",
                  "3": "bob69@demo.org",
                  "4": "555-0100008",
                  "5": "Checking",
                  "6": "Dormant"
                },
                {
                  "0": "9",
                  "1": "Emma Davis",
                  "2": "789 Pine St",
                  "3": "bob416@example.com",
                  "4": "555-0100009",
                  "5": "Credit",
                  "6": "Active"
                },
                {
                  "0": "10",
                  "1": "Alice Johnson",
                  "2": "101 Maple St",
                  "3": "rajesh@gmail.com",
                  "4": "555-0100010",
                  "5": "Savings",
                  "6": "Dormant"
                },
                {
                  "0": "11",
                  "1": "Emma Davis",
                  "2": "456 Oak St",
                  "3": "john156@example.com",
                  "4": "555-0100011",
                  "5": "Credit",
                  "6": "Active"
                },
                {
                  "0": "12",
                  "1": "suman das",
                  "2": "456 Oak St",
                  "3": "rajesh@gmail.com",
                  "4": "555-0100012",
                  "5": "Credit",
                  "6": "Dormant"
                },
                {
                  "0": "13",
                  "1": "John Doe",
                  "2": "202 Birch St",
                  "3": "bob39@demo.org",
                  "4": "555-0100013",
                  "5": "Checking",
                  "6": "Dormant"
                },
                {
                  "0": "14",
                  "1": "Emma Davis",
                  "2": "456 Oak St",
                  "3": "mike308@demo.org",
                  "4": "555-0100014",
                  "5": "Savings",
                  "6": "Active"
                },
                {
                  "0": "15",
                  "1": "Bob Brown",
                  "2": "456 Oak St",
                  "3": "sara133@example.com",
                  "4": "555-1056987",
                  "5": "Savings",
                  "6": "Dormant"
                },
                {
                  "0": "16",
                  "1": "Emma Davis",
                  "2": "123 Elm St",
                  "3": "rajesh@gmail.com",
                  "4": "555-0100016",
                  "5": "Credit",
                  "6": "Active"
                },
                {
                  "0": "17",
                  "1": "Emma Davis",
                  "2": "101 Maple St",
                  "3": "carlos97@example.com",
                  "4": "555-0100017",
                  "5": "Checking",
                  "6": "Dormant"
                },
                {
                  "0": "18",
                  "1": "Bob Brown",
                  "2": "123 Elm St",
                  "3": "mike492@placeholder.co",
                  "4": "555-1056987",
                  "5": "Savings",
                  "6": "Dormant"
                },
                {
                  "0": "19",
                  "1": "Emma Davis",
                  "2": "789 Pine St",
                  "3": "rajesh@gmail.com",
                  "4": "555-0100019",
                  "5": "Savings",
                  "6": "Active"
                },
                {
                  "0": "20",
                  "1": "John Doe",
                  "2": "123 Elm St",
                  "3": "bob443@test.edu",
                  "4": "555-0100020",
                  "5": "Credit",
                  "6": "Dormant"
                },
                {
                  "0": "21",
                  "1": "Bob Brown",
                  "2": "789 Pine St",
                  "3": "laura40@demo.org",
                  "4": "555-1056987",
                  "5": "Savings",
                  "6": "Dormant"
                },
                {
                  "0": "22",
                  "1": "suman das",
                  "2": "789 Pine St",
                  "3": "laura243@test.edu",
                  "4": "555-1056987",
                  "5": "Checking",
                  "6": "Active"
                },
                {
                  "0": "23",
                  "1": "Alice Johnson",
                  "2": "202 Birch St",
                  "3": "rajesh@gmail.com",
                  "4": "555-0100023",
                  "5": "Checking",
                  "6": "Active"
                },
                {
                  "0": "24",
                  "1": "Alice Johnson",
                  "2": "123 Elm St",
                  "3": "mike461@test.edu",
                  "4": "555-1056987",
                  "5": "Credit",
                  "6": "Dormant"
                },
                {
                  "0": "25",
                  "1": "Bob Brown",
                  "2": "202 Birch St",
                  "3": "carlos375@demo.org",
                  "4": "555-0100025",
                  "5": "Savings",
                  "6": "Active"
                },
                {
                  "0": "26",
                  "1": "Bob Brown",
                  "2": "456 Oak St",
                  "3": "alice365@sample.net",
                  "4": "555-0100026",
                  "5": "Credit",
                  "6": "Dormant"
                },
                {
                  "0": "27",
                  "1": "Emma Davis",
                  "2": "202 Birch St",
                  "3": "emma428@sample.net",
                  "4": "555-0100027",
                  "5": "Checking",
                  "6": "Active"
                },
                {
                  "0": "28",
                  "1": "John Doe",
                  "2": "123 Elm St",
                  "3": "dan437@sample.net",
                  "4": "555-0100028",
                  "5": "Savings",
                  "6": "Active"
                },
                {
                  "0": "29",
                  "1": "Alice Johnson",
                  "2": "202 Birch St",
                  "3": "emma280@test.edu",
                  "4": "555-0100029",
                  "5": "Credit",
                  "6": "Dormant"
                },
                {
                  "0": "30",
                  "1": "Jane Smith",
                  "2": "101 Maple St",
                  "3": "mike95@example.com",
                  "4": "555-0100030",
                  "5": "Savings",
                  "6": "Active"
                },
                {
                  "0": "31",
                  "1": "Emma Davis",
                  "2": "101 Maple St",
                  "3": "rajesh@gmail.com",
                  "4": "555-1056987",
                  "5": "Savings",
                  "6": "Active"
                },
                {
                  "0": "32",
                  "1": "Emma Davis",
                  "2": "101 Maple St",
                  "3": "john87@demo.org",
                  "4": "555-1056987",
                  "5": "Checking",
                  "6": "Dormant"
                },
                {
                  "0": "33",
                  "1": "John Doe",
                  "2": "456 Oak St",
                  "3": "bob305@test.edu",
                  "4": "555-0100033",
                  "5": "Credit",
                  "6": "Active"
                },
                {
                  "0": "34",
                  "1": "Alice Johnson",
                  "2": "123 Elm St",
                  "3": "rajesh@gmail.com",
                  "4": "555-0100034",
                  "5": "Savings",
                  "6": "Dormant"
                },
                {
                  "0": "35",
                  "1": "Jane Smith",
                  "2": "123 Elm St",
                  "3": "sara305@placeholder.co",
                  "4": "555-0100035",
                  "5": "Credit",
                  "6": "Active"
                },
                {
                  "0": "36",
                  "1": "Alice Johnson",
                  "2": "101 Maple St",
                  "3": "bob301@example.com",
                  "4": "555-0100036",
                  "5": "Credit",
                  "6": "Dormant"
                },
                {
                  "0": "37",
                  "1": "Alice Johnson",
                  "2": "101 Maple St",
                  "3": "sara499@example.com",
                  "4": "555-0100037",
                  "5": "Credit",
                  "6": "Dormant"
                },
                {
                  "0": "38",
                  "1": "John Doe",
                  "2": "202 Birch St",
                  "3": "laura207@demo.org",
                  "4": "555-0100038",
                  "5": "Savings",
                  "6": "Active"
                },
                {
                  "0": "39",
                  "1": "Emma Davis",
                  "2": "456 Oak St",
                  "3": "dan89@demo.org",
                  "4": "555-0100039",
                  "5": "Credit",
                  "6": "Dormant"
                },
                {
                  "0": "40",
                  "1": "John Doe",
                  "2": "456 Oak St",
                  "3": "rajesh@gmail.com",
                  "4": "555-1056987",
                  "5": "Checking",
                  "6": "Dormant"
                },
                {
                  "0": "41",
                  "1": "Alice Johnson",
                  "2": "202 Birch St",
                  "3": "laura281@sample.net",
                  "4": "555-0100041",
                  "5": "Savings",
                  "6": "Active"
                },
                {
                  "0": "42",
                  "1": "Jane Smith",
                  "2": "101 Maple St",
                  "3": "sara172@placeholder.co",
                  "4": "555-0100042",
                  "5": "Credit",
                  "6": "Dormant"
                },
                {
                  "0": "43",
                  "1": "Emma Davis",
                  "2": "123 Elm St",
                  "3": "emma392@placeholder.co",
                  "4": "555-0100043",
                  "5": "Savings",
                  "6": "Dormant"
                },
                {
                  "0": "44",
                  "1": "John Doe",
                  "2": "202 Birch St",
                  "3": "bob35@example.com",
                  "4": "555-0100044",
                  "5": "Savings",
                  "6": "Active"
                },
                {
                  "0": "45",
                  "1": "Bob Brown",
                  "2": "456 Oak St",
                  "3": "emma245@example.com",
                  "4": "555-1056987",
                  "5": "Savings",
                  "6": "Dormant"
                },
                {
                  "0": "46",
                  "1": "Jane Smith",
                  "2": "101 Maple St",
                  "3": "mike206@placeholder.co",
                  "4": "555-0100046",
                  "5": "Checking",
                  "6": "Dormant"
                },
                {
                  "0": "47",
                  "1": "Bob Brown",
                  "2": "789 Pine St",
                  "3": "rajesh@gmail.com",
                  "4": "555-0100047",
                  "5": "Savings",
                  "6": "Dormant"
                },
                {
                  "0": "48",
                  "1": "Alice Johnson",
                  "2": "202 Birch St",
                  "3": "laura118@test.edu",
                  "4": "555-1056987",
                  "5": "Savings",
                  "6": "Dormant"
                },
                {
                  "0": "49",
                  "1": "Jane Smith",
                  "2": "101 Maple St",
                  "3": "laura293@example.com",
                  "4": "555-1056987",
                  "5": "Checking",
                  "6": "Active"
                },
                {
                  "0": "50",
                  "1": "Jane Smith",
                  "2": "123 Elm St",
                  "3": "carlos456@sample.net",
                  "4": "555-0100050",
                  "5": "Checking",
                  "6": "Active"
                },
                {
                  "0": "51",
                  "1": "Emma Davis",
                  "2": "789 Pine St",
                  "3": "john137@test.edu",
                  "4": "555-0100051",
                  "5": "Credit",
                  "6": "Dormant"
                },
                {
                  "0": "52",
                  "1": "Alice Johnson",
                  "2": "789 Pine St",
                  "3": "mike384@placeholder.co",
                  "4": "555-0100052",
                  "5": "Credit",
                  "6": "Dormant"
                },
                {
                  "0": "53",
                  "1": "John Doe",
                  "2": "123 Elm St",
                  "3": "emma143@sample.net",
                  "4": "555-0100053",
                  "5": "Credit",
                  "6": "Dormant"
                },
                {
                  "0": "54",
                  "1": "Jane Smith",
                  "2": "123 Elm St",
                  "3": "bob406@example.com",
                  "4": "555-0100054",
                  "5": "Credit",
                  "6": "Dormant"
                },
                {
                  "0": "55",
                  "1": "John Doe",
                  "2": "123 Elm St",
                  "3": "alice234@placeholder.co",
                  "4": "555-0100055",
                  "5": "Savings",
                  "6": "Active"
                },
                {
                  "0": "56",
                  "1": "Alice Johnson",
                  "2": "202 Birch St",
                  "3": "rajesh@gmail.com",
                  "4": "555-1056987",
                  "5": "Savings",
                  "6": "Active"
                },
                {
                  "0": "57",
                  "1": "Alice Johnson",
                  "2": "202 Birch St",
                  "3": "emma80@test.edu",
                  "4": "555-0100057",
                  "5": "Credit",
                  "6": "Dormant"
                },
                {
                  "0": "58",
                  "1": "Bob Brown",
                  "2": "101 Maple St",
                  "3": "sara264@placeholder.co",
                  "4": "555-0100058",
                  "5": "Credit",
                  "6": "Active"
                },
                {
                  "0": "59",
                  "1": "John Doe",
                  "2": "789 Pine St",
                  "3": "laura466@placeholder.co",
                  "4": "555-0100059",
                  "5": "Savings",
                  "6": "Active"
                },
                {
                  "0": "60",
                  "1": "John Doe",
                  "2": "789 Pine St",
                  "3": "carlos202@demo.org",
                  "4": "555-1056987",
                  "5": "Credit",
                  "6": "Dormant"
                },
                {
                  "0": "61",
                  "1": "Emma Davis",
                  "2": "789 Pine St",
                  "3": "emma119@placeholder.co",
                  "4": "555-1056987",
                  "5": "Savings",
                  "6": "Active"
                },
                {
                  "0": "62",
                  "1": "Alice Johnson",
                  "2": "456 Oak St",
                  "3": "mike321@placeholder.co",
                  "4": "555-0100062",
                  "5": "Savings",
                  "6": "Active"
                },
                {
                  "0": "63",
                  "1": "Alice Johnson",
                  "2": "456 Oak St",
                  "3": "carlos159@placeholder.co",
                  "4": "555-0100063",
                  "5": "Savings",
                  "6": "Dormant"
                },
                {
                  "0": "64",
                  "1": "Alice Johnson",
                  "2": "123 Elm St",
                  "3": "rajesh@gmail.com",
                  "4": "555-1056987",
                  "5": "Savings",
                  "6": "Active"
                },
                {
                  "0": "65",
                  "1": "Alice Johnson",
                  "2": "789 Pine St",
                  "3": "emma25@demo.org",
                  "4": "555-0100065",
                  "5": "Checking",
                  "6": "Dormant"
                },
                {
                  "0": "66",
                  "1": "Emma Davis",
                  "2": "101 Maple St",
                  "3": "carlos155@sample.net",
                  "4": "555-0100066",
                  "5": "Checking",
                  "6": "Active"
                },
                {
                  "0": "67",
                  "1": "Bob Brown",
                  "2": "101 Maple St",
                  "3": "mike361@test.edu",
                  "4": "555-1056987",
                  "5": "Credit",
                  "6": "Dormant"
                },
                {
                  "0": "68",
                  "1": "Alice Johnson",
                  "2": "101 Maple St",
                  "3": "carlos437@test.edu",
                  "4": "555-1056987",
                  "5": "Checking",
                  "6": "Active"
                },
                {
                  "0": "69",
                  "1": "Jane Smith",
                  "2": "456 Oak St",
                  "3": "rajesh@gmail.com",
                  "4": "555-0100069",
                  "5": "Checking",
                  "6": "Dormant"
                },
                {
                  "0": "70",
                  "1": "Bob Brown",
                  "2": "456 Oak St",
                  "3": "rajesh@gmail.com",
                  "4": "555-0100070",
                  "5": "Savings",
                  "6": "Active"
                },
                {
                  "0": "71",
                  "1": "Emma Davis",
                  "2": "202 Birch St",
                  "3": "rajesh@gmail.com",
                  "4": "555-1056987",
                  "5": "Savings",
                  "6": "Dormant"
                },
                {
                  "0": "72",
                  "1": "Bob Brown",
                  "2": "789 Pine St",
                  "3": "sara229@demo.org",
                  "4": "555-0100072",
                  "5": "Savings",
                  "6": "Active"
                },
                {
                  "0": "73",
                  "1": "Bob Brown",
                  "2": "789 Pine St",
                  "3": "rajesh@gmail.com",
                  "4": "555-1056987",
                  "5": "Savings",
                  "6": "Active"
                },
                {
                  "0": "74",
                  "1": "Emma Davis",
                  "2": "789 Pine St",
                  "3": "rajesh@gmail.com",
                  "4": "555-0100074",
                  "5": "Checking",
                  "6": "Active"
                },
                {
                  "0": "75",
                  "1": "Jane Smith",
                  "2": "202 Birch St",
                  "3": "carlos15@demo.org",
                  "4": "555-0100075",
                  "5": "Credit",
                  "6": "Dormant"
                },
                {
                  "0": "76",
                  "1": "Alice Johnson",
                  "2": "101 Maple St",
                  "3": "rajesh@gmail.com",
                  "4": "555-0100076",
                  "5": "Credit",
                  "6": "Active"
                },
                {
                  "0": "77",
                  "1": "Jane Smith",
                  "2": "101 Maple St",
                  "3": "rajesh@gmail.com",
                  "4": "555-1056987",
                  "5": "Savings",
                  "6": "Active"
                },
                {
                  "0": "78",
                  "1": "Alice Johnson",
                  "2": "202 Birch St",
                  "3": "rajesh@gmail.com",
                  "4": "555-0100078",
                  "5": "Credit",
                  "6": "Active"
                },
                {
                  "0": "79",
                  "1": "Emma Davis",
                  "2": "202 Birch St",
                  "3": "rajesh@gmail.com",
                  "4": "555-0100079",
                  "5": "Savings",
                  "6": "Dormant"
                },
                {
                  "0": "80",
                  "1": "John Doe",
                  "2": "789 Pine St",
                  "3": "rajesh@gmail.com",
                  "4": "555-0100080",
                  "5": "Checking",
                  "6": "Active"
                },
                {
                  "0": "81",
                  "1": "Emma Davis",
                  "2": "202 Birch St",
                  "3": "sara308@test.edu",
                  "4": "555-0100081",
                  "5": "Credit",
                  "6": "Dormant"
                },
                {
                  "0": "82",
                  "1": "Bob Brown",
                  "2": "789 Pine St",
                  "3": "john202@sample.net",
                  "4": "555-0100082",
                  "5": "Credit",
                  "6": "Active"
                },
                {
                  "0": "83",
                  "1": "Alice Johnson",
                  "2": "123 Elm St",
                  "3": "rajesh@gmail.com",
                  "4": "555-0100083",
                  "5": "Checking",
                  "6": "Dormant"
                },
                {
                  "0": "84",
                  "1": "Emma Davis",
                  "2": "789 Pine St",
                  "3": "john439@example.com",
                  "4": "555-0100084",
                  "5": "Credit",
                  "6": "Dormant"
                },
                {
                  "0": "85",
                  "1": "Jane Smith",
                  "2": "123 Elm St",
                  "3": "rajesh@gmail.com",
                  "4": "555-0100085",
                  "5": "Checking",
                  "6": "Active"
                },
                {
                  "0": "86",
                  "1": "John Doe",
                  "2": "456 Oak St",
                  "3": "dan405@placeholder.co",
                  "4": "555-0100086",
                  "5": "Savings",
                  "6": "Dormant"
                },
                {
                  "0": "87",
                  "1": "Jane Smith",
                  "2": "456 Oak St",
                  "3": "rajesh@gmail.com",
                  "4": "555-1056987",
                  "5": "Savings",
                  "6": "Active"
                },
                {
                  "0": "88",
                  "1": "Jane Smith",
                  "2": "789 Pine St",
                  "3": "mike282@example.com",
                  "4": "555-1056987",
                  "5": "Checking",
                  "6": "Active"
                },
                {
                  "0": "89",
                  "1": "Bob Brown",
                  "2": "456 Oak St",
                  "3": "mike330@placeholder.co",
                  "4": "555-1056987",
                  "5": "Credit",
                  "6": "Dormant"
                },
                {
                  "0": "90",
                  "1": "Alice Johnson",
                  "2": "789 Pine St",
                  "3": "sara146@demo.org",
                  "4": "555-0100090",
                  "5": "Checking",
                  "6": "Active"
                },
                {
                  "0": "91",
                  "1": "Alice Johnson",
                  "2": "202 Birch St",
                  "3": "rajesh@gmail.com",
                  "4": "555-0100091",
                  "5": "Credit",
                  "6": "Dormant"
                },
                {
                  "0": "92",
                  "1": "Emma Davis",
                  "2": "202 Birch St",
                  "3": "laura445@placeholder.co",
                  "4": "555-0100092",
                  "5": "Savings",
                  "6": "Active"
                },
                {
                  "0": "93",
                  "1": "Bob Brown",
                  "2": "456 Oak St",
                  "3": "dan207@placeholder.co",
                  "4": "555-0100093",
                  "5": "Credit",
                  "6": "Dormant"
                },
                {
                  "0": "94",
                  "1": "Emma Davis",
                  "2": "456 Oak St",
                  "3": "rajesh@gmail.com",
                  "4": "555-1056987",
                  "5": "Credit",
                  "6": "Dormant"
                },
                {
                  "0": "95",
                  "1": "Alice Johnson",
                  "2": "789 Pine St",
                  "3": "mike298@placeholder.co",
                  "4": "555-0100095",
                  "5": "Credit",
                  "6": "Active"
                },
                {
                  "0": "96",
                  "1": "Bob Brown",
                  "2": "123 Elm St",
                  "3": "bob62@test.edu",
                  "4": "555-0100096",
                  "5": "Checking",
                  "6": "Active"
                },
                {
                  "0": "97",
                  "1": "Alice Johnson",
                  "2": "123 Elm St",
                  "3": "emma319@placeholder.co",
                  "4": "555-1056987",
                  "5": "Credit",
                  "6": "Active"
                },
                {
                  "0": "98",
                  "1": "Bob Brown",
                  "2": "101 Maple St",
                  "3": "bob464@test.edu",
                  "4": "555-0100098",
                  "5": "Savings",
                  "6": "Active"
                },
                {
                  "0": "99",
                  "1": "John Doe",
                  "2": "456 Oak St",
                  "3": "bob444@sample.net",
                  "4": "555-0100099",
                  "5": "Savings",
                  "6": "Active"
                },
                {
                  "0": "100",
                  "1": "John Doe",
                  "2": "456 Oak St",
                  "3": "laura292@test.edu",
                  "4": "555-0100100",
                  "5": "Credit",
                  "6": "Active"
                },
                {
                  "0": "101",
                  "1": "Alice Johnson",
                  "2": "789 Pine St",
                  "3": "alice348@test.edu",
                  "4": "555-0100101",
                  "5": "Credit",
                  "6": "Active"
                },
                {
                  "0": "102",
                  "1": "Bob Brown",
                  "2": "456 Oak St",
                  "3": "rajesh@gmail.com",
                  "4": "555-0100102",
                  "5": "Savings",
                  "6": "Dormant"
                },
                {
                  "0": "103",
                  "1": "Emma Davis",
                  "2": "789 Pine St",
                  "3": "dan15@placeholder.co",
                  "4": "555-0100103",
                  "5": "Checking",
                  "6": "Active"
                },
                {
                  "0": "104",
                  "1": "John Doe",
                  "2": "586 pinegrove rd",
                  "3": "bob178@demo.org",
                  "4": "555-1056987",
                  "5": "Savings",
                  "6": "Dormant"
                },
                {
                  "0": "105",
                  "1": "Emma Davis",
                  "2": "789 Pine St",
                  "3": "rajesh@gmail.com",
                  "4": "555-0100105",
                  "5": "Savings",
                  "6": "Active"
                },
                {
                  "0": "106",
                  "1": "John Doe",
                  "2": "123 Elm St",
                  "3": "emma236@demo.org",
                  "4": "555-0100106",
                  "5": "Savings",
                  "6": "Dormant"
                },
                {
                  "0": "107",
                  "1": "Alice Johnson",
                  "2": "202 Birch St",
                  "3": "bob370@test.edu",
                  "4": "555-1056987",
                  "5": "Savings",
                  "6": "Active"
                },
                {
                  "0": "108",
                  "1": "Emma Davis",
                  "2": "202 Birch St",
                  "3": "mike210@example.com",
                  "4": "555-1056987",
                  "5": "Savings",
                  "6": "Active"
                },
                {
                  "0": "109",
                  "1": "Bob Brown",
                  "2": "456 Oak St",
                  "3": "laura325@placeholder.co",
                  "4": "555-0100109",
                  "5": "Checking",
                  "6": "Dormant"
                },
                {
                  "0": "110",
                  "1": "John Doe",
                  "2": "123 Elm St",
                  "3": "mike210@test.edu",
                  "4": "555-0100110",
                  "5": "Savings",
                  "6": "Active"
                },
                {
                  "0": "111",
                  "1": "Bob Brown",
                  "2": "202 Birch St",
                  "3": "john473@sample.net",
                  "4": "555-1056987",
                  "5": "Checking",
                  "6": "Active"
                },
                {
                  "0": "112",
                  "1": "Jane Smith",
                  "2": "202 Birch St",
                  "3": "alice304@placeholder.co",
                  "4": "555-1056987",
                  "5": "Checking",
                  "6": "Dormant"
                },
                {
                  "0": "113",
                  "1": "Emma Davis",
                  "2": "789 Pine St",
                  "3": "carlos476@example.com",
                  "4": "555-0100113",
                  "5": "Checking",
                  "6": "Active"
                },
                {
                  "0": "114",
                  "1": "John Doe",
                  "2": "202 Birch St",
                  "3": "emma329@placeholder.co",
                  "4": "555-0100114",
                  "5": "Checking",
                  "6": "Dormant"
                },
                {
                  "0": "115",
                  "1": "Bob Brown",
                  "2": "456 Oak St",
                  "3": "alice327@example.com",
                  "4": "555-0100115",
                  "5": "Savings",
                  "6": "Active"
                },
                {
                  "0": "116",
                  "1": "Alice Johnson",
                  "2": "123 Elm St",
                  "3": "emma359@sample.net",
                  "4": "555-1056987",
                  "5": "Savings",
                  "6": "Dormant"
                },
                {
                  "0": "117",
                  "1": "Jane Smith",
                  "2": "789 Pine St",
                  "3": "bob463@demo.org",
                  "4": "555-0100117",
                  "5": "Checking",
                  "6": "Active"
                },
                {
                  "0": "118",
                  "1": "Jane Smith",
                  "2": "101 Maple St",
                  "3": "bob184@sample.net",
                  "4": "555-0100118",
                  "5": "Credit",
                  "6": "Active"
                },
                {
                  "0": "119",
                  "1": "Bob Brown",
                  "2": "456 Oak St",
                  "3": "jane187@example.com",
                  "4": "555-0100119",
                  "5": "Savings",
                  "6": "Active"
                },
                {
                  "0": "120",
                  "1": "Emma Davis",
                  "2": "789 Pine St",
                  "3": "john414@test.edu",
                  "4": "555-1056987",
                  "5": "Credit",
                  "6": "Active"
                },
                {
                  "0": "121",
                  "1": "Alice Johnson",
                  "2": "789 Pine St",
                  "3": "emma442@test.edu",
                  "4": "555-1056987",
                  "5": "Savings",
                  "6": "Active"
                },
                {
                  "0": "122",
                  "1": "Bob Brown",
                  "2": "101 Maple St",
                  "3": "laura351@placeholder.co",
                  "4": "555-0100122",
                  "5": "Checking",
                  "6": "Dormant"
                },
                {
                  "0": "123",
                  "1": "Bob Brown",
                  "2": "123 Elm St",
                  "3": "laura455@test.edu",
                  "4": "555-0100123",
                  "5": "Savings",
                  "6": "Dormant"
                },
                {
                  "0": "124",
                  "1": "Bob Brown",
                  "2": "101 Maple St",
                  "3": "mike70@example.com",
                  "4": "555-1056987",
                  "5": "Credit",
                  "6": "Active"
                },
                {
                  "0": "125",
                  "1": "Bob Brown",
                  "2": "101 Maple St",
                  "3": "rajesh@gmail.com",
                  "4": "555-1056987",
                  "5": "Savings",
                  "6": "Dormant"
                },
                {
                  "0": "126",
                  "1": "Bob Brown",
                  "2": "456 Oak St",
                  "3": "dan305@test.edu",
                  "4": "555-0100126",
                  "5": "Savings",
                  "6": "Dormant"
                },
                {
                  "0": "127",
                  "1": "Bob Brown",
                  "2": "456 Oak St",
                  "3": "mike175@sample.net",
                  "4": "555-1056987",
                  "5": "Savings",
                  "6": "Dormant"
                },
                {
                  "0": "128",
                  "1": "Alice Johnson",
                  "2": "202 Birch St",
                  "3": "jane468@example.com",
                  "4": "555-1056987",
                  "5": "Credit",
                  "6": "Active"
                },
                {
                  "0": "129",
                  "1": "Alice Johnson",
                  "2": "789 Pine St",
                  "3": "jane359@sample.net",
                  "4": "555-0100129",
                  "5": "Checking",
                  "6": "Dormant"
                },
                {
                  "0": "130",
                  "1": "Bob Brown",
                  "2": "456 Oak St",
                  "3": "mike217@sample.net",
                  "4": "555-1056987",
                  "5": "Checking",
                  "6": "Active"
                },
                {
                  "0": "131",
                  "1": "Alice Johnson",
                  "2": "789 Pine St",
                  "3": "sara333@test.edu",
                  "4": "555-1056987",
                  "5": "Credit",
                  "6": "Active"
                },
                {
                  "0": "132",
                  "1": "John Doe",
                  "2": "101 Maple St",
                  "3": "rajesh@gmail.com",
                  "4": "555-0100132",
                  "5": "Savings",
                  "6": "Dormant"
                },
                {
                  "0": "133",
                  "1": "John Doe",
                  "2": "456 Oak St",
                  "3": "sara492@test.edu",
                  "4": "555-0100133",
                  "5": "Checking",
                  "6": "Dormant"
                },
                {
                  "0": "134",
                  "1": "Jane Smith",
                  "2": "456 Oak St",
                  "3": "dan319@test.edu",
                  "4": "555-0100134",
                  "5": "Credit",
                  "6": "Active"
                },
                {
                  "0": "135",
                  "1": "John Doe",
                  "2": "101 Maple St",
                  "3": "sara96@example.com",
                  "4": "555-1056987",
                  "5": "Checking",
                  "6": "Dormant"
                },
                {
                  "0": "136",
                  "1": "Jane Smith",
                  "2": "789 Pine St",
                  "3": "carlos425@placeholder.co",
                  "4": "555-0100136",
                  "5": "Savings",
                  "6": "Dormant"
                },
                {
                  "0": "137",
                  "1": "Alice Johnson",
                  "2": "789 Pine St",
                  "3": "bob18@demo.org",
                  "4": "555-1056987",
                  "5": "Credit",
                  "6": "Active"
                },
                {
                  "0": "138",
                  "1": "Bob Brown",
                  "2": "123 Elm St",
                  "3": "carlos367@example.com",
                  "4": "555-0100138",
                  "5": "Checking",
                  "6": "Dormant"
                },
                {
                  "0": "139",
                  "1": "Bob Brown",
                  "2": "123 Elm St",
                  "3": "dan305@test.edu",
                  "4": "555-1056987",
                  "5": "Checking",
                  "6": "Active"
                },
                {
                  "0": "140",
                  "1": "John Doe",
                  "2": "123 Elm St",
                  "3": "dan490@example.com",
                  "4": "555-1056987",
                  "5": "Checking",
                  "6": "Dormant"
                },
                {
                  "0": "141",
                  "1": "Alice Johnson",
                  "2": "789 Pine St",
                  "3": "carlos298@test.edu",
                  "4": "555-0100141",
                  "5": "Savings",
                  "6": "Active"
                },
                {
                  "0": "142",
                  "1": "Emma Davis",
                  "2": "101 Maple St",
                  "3": "alice31@placeholder.co",
                  "4": "555-0100142",
                  "5": "Checking",
                  "6": "Dormant"
                },
                {
                  "0": "143",
                  "1": "Bob Brown",
                  "2": "202 Birch St",
                  "3": "dan269@example.com",
                  "4": "555-0100143",
                  "5": "Checking",
                  "6": "Dormant"
                },
                {
                  "0": "144",
                  "1": "Alice Johnson",
                  "2": "202 Birch St",
                  "3": "sara356@test.edu",
                  "4": "555-0100144",
                  "5": "Credit",
                  "6": "Active"
                },
                {
                  "0": "145",
                  "1": "Bob Brown",
                  "2": "202 Birch St",
                  "3": "emma432@demo.org",
                  "4": "555-0100145",
                  "5": "Savings",
                  "6": "Dormant"
                },
                {
                  "0": "146",
                  "1": "John Doe",
                  "2": "456 Oak St",
                  "3": "emma96@placeholder.co",
                  "4": "555-0100146",
                  "5": "Credit",
                  "6": "Dormant"
                },
                {
                  "0": "147",
                  "1": "Emma Davis",
                  "2": "202 Birch St",
                  "3": "alice415@example.com",
                  "4": "555-0100147",
                  "5": "Credit",
                  "6": "Dormant"
                },
                {
                  "0": "148",
                  "1": "Bob Brown",
                  "2": "202 Birch St",
                  "3": "emma154@sample.net",
                  "4": "555-0100148",
                  "5": "Credit",
                  "6": "Active"
                },
                {
                  "0": "149",
                  "1": "Alice Johnson",
                  "2": "101 Maple St",
                  "3": "rajesh@gmail.com",
                  "4": "555-0100149",
                  "5": "Savings",
                  "6": "Dormant"
                },
                {
                  "0": "150",
                  "1": "Jane Smith",
                  "2": "123 Elm St",
                  "3": "mike403@demo.org",
                  "4": "555-1056987",
                  "5": "Checking",
                  "6": "Active"
                },
                {
                  "0": "151",
                  "1": "Bob Brown",
                  "2": "101 Maple St",
                  "3": "carlos206@demo.org",
                  "4": "555-0100151",
                  "5": "Savings",
                  "6": "Active"
                },
                {
                  "0": "152",
                  "1": "Jane Smith",
                  "2": "456 Oak St",
                  "3": "john402@demo.org",
                  "4": "555-0100152",
                  "5": "Checking",
                  "6": "Active"
                },
                {
                  "0": "153",
                  "1": "Alice Johnson",
                  "2": "123 Elm St",
                  "3": "carlos46@test.edu",
                  "4": "555-1056987",
                  "5": "Credit",
                  "6": "Active"
                },
                {
                  "0": "154",
                  "1": "Bob Brown",
                  "2": "789 Pine St",
                  "3": "john88@placeholder.co",
                  "4": "555-0100154",
                  "5": "Savings",
                  "6": "Active"
                },
                {
                  "0": "155",
                  "1": "Emma Davis",
                  "2": "789 Pine St",
                  "3": "rajesh@gmail.com",
                  "4": "555-1056987",
                  "5": "Credit",
                  "6": "Active"
                },
                {
                  "0": "156",
                  "1": "John Doe",
                  "2": "456 Oak St",
                  "3": "rajesh@gmail.com",
                  "4": "555-0100156",
                  "5": "Savings",
                  "6": "Active"
                },
                {
                  "0": "157",
                  "1": "John Doe",
                  "2": "101 Maple St",
                  "3": "mike320@sample.net",
                  "4": "555-1056987",
                  "5": "Checking",
                  "6": "Active"
                },
                {
                  "0": "158",
                  "1": "Alice Johnson",
                  "2": "101 Maple St",
                  "3": "laura157@test.edu",
                  "4": "555-1056987",
                  "5": "Checking",
                  "6": "Active"
                },
                {
                  "0": "159",
                  "1": "Emma Davis",
                  "2": "789 Pine St",
                  "3": "jane438@sample.net",
                  "4": "555-1056987",
                  "5": "Checking",
                  "6": "Dormant"
                },
                {
                  "0": "160",
                  "1": "Emma Davis",
                  "2": "101 Maple St",
                  "3": "dan2@test.edu",
                  "4": "555-0100160",
                  "5": "Credit",
                  "6": "Dormant"
                },
                {
                  "0": "161",
                  "1": "John Doe",
                  "2": "789 Pine St",
                  "3": "mike265@sample.net",
                  "4": "555-0100161",
                  "5": "Credit",
                  "6": "Active"
                },
                {
                  "0": "162",
                  "1": "Jane Smith",
                  "2": "101 Maple St",
                  "3": "laura437@demo.org",
                  "4": "555-0100162",
                  "5": "Credit",
                  "6": "Active"
                },
                {
                  "0": "163",
                  "1": "Alice Johnson",
                  "2": "456 Oak St",
                  "3": "bob237@sample.net",
                  "4": "555-0100163",
                  "5": "Savings",
                  "6": "Dormant"
                },
                {
                  "0": "164",
                  "1": "Emma Davis",
                  "2": "101 Maple St",
                  "3": "jane102@sample.net",
                  "4": "555-0100164",
                  "5": "Credit",
                  "6": "Active"
                },
                {
                  "0": "165",
                  "1": "Bob Brown",
                  "2": "586 pinegrove rd",
                  "3": "bob228@placeholder.co",
                  "4": "555-0100165",
                  "5": "Credit",
                  "6": "Active"
                },
                {
                  "0": "166",
                  "1": "Alice Johnson",
                  "2": "101 Maple St",
                  "3": "emma67@demo.org",
                  "4": "555-0100166",
                  "5": "Credit",
                  "6": "Active"
                },
                {
                  "0": "167",
                  "1": "John Doe",
                  "2": "202 Birch St",
                  "3": "sara10@sample.net",
                  "4": "555-0100167",
                  "5": "Checking",
                  "6": "Dormant"
                },
                {
                  "0": "168",
                  "1": "Bob Brown",
                  "2": "202 Birch St",
                  "3": "emma312@example.com",
                  "4": "555-0100168",
                  "5": "Credit",
                  "6": "Active"
                },
                {
                  "0": "169",
                  "1": "Alice Johnson",
                  "2": "789 Pine St",
                  "3": "sara381@example.com",
                  "4": "555-1056987",
                  "5": "Savings",
                  "6": "Dormant"
                },
                {
                  "0": "170",
                  "1": "Alice Johnson",
                  "2": "456 Oak St",
                  "3": "dan405@sample.net",
                  "4": "555-0100170",
                  "5": "Checking",
                  "6": "Active"
                },
                {
                  "0": "171",
                  "1": "Jane Smith",
                  "2": "456 Oak St",
                  "3": "emma175@test.edu",
                  "4": "555-0100171",
                  "5": "Savings",
                  "6": "Dormant"
                },
                {
                  "0": "172",
                  "1": "Bob Brown",
                  "2": "202 Birch St",
                  "3": "alice306@demo.org",
                  "4": "555-0100172",
                  "5": "Checking",
                  "6": "Dormant"
                },
                {
                  "0": "173",
                  "1": "John Doe",
                  "2": "789 Pine St",
                  "3": "rajesh@gmail.com",
                  "4": "555-0100173",
                  "5": "Checking",
                  "6": "Dormant"
                },
                {
                  "0": "174",
                  "1": "Alice Johnson",
                  "2": "456 Oak St",
                  "3": "rajesh@gmail.com",
                  "4": "555-0100174",
                  "5": "Credit",
                  "6": "Dormant"
                },
                {
                  "0": "175",
                  "1": "Jane Smith",
                  "2": "456 Oak St",
                  "3": "dan465@sample.net",
                  "4": "555-1056987",
                  "5": "Checking",
                  "6": "Dormant"
                },
                {
                  "0": "176",
                  "1": "John Doe",
                  "2": "101 Maple St",
                  "3": "john276@placeholder.co",
                  "4": "555-1056987",
                  "5": "Credit",
                  "6": "Active"
                },
                {
                  "0": "177",
                  "1": "Bob Brown",
                  "2": "202 Birch St",
                  "3": "mike20@sample.net",
                  "4": "555-0100177",
                  "5": "Checking",
                  "6": "Dormant"
                },
                {
                  "0": "178",
                  "1": "John Doe",
                  "2": "456 Oak St",
                  "3": "emma334@placeholder.co",
                  "4": "555-0100178",
                  "5": "Savings",
                  "6": "Dormant"
                },
                {
                  "0": "179",
                  "1": "Bob Brown",
                  "2": "202 Birch St",
                  "3": "mike55@sample.net",
                  "4": "555-0100179",
                  "5": "Savings",
                  "6": "Active"
                },
                {
                  "0": "180",
                  "1": "John Doe",
                  "2": "101 Maple St",
                  "3": "laura330@placeholder.co",
                  "4": "555-1056987",
                  "5": "Checking",
                  "6": "Dormant"
                },
                {
                  "0": "181",
                  "1": "Bob Brown",
                  "2": "202 Birch St",
                  "3": "rajesh@gmail.com",
                  "4": "555-0100181",
                  "5": "Credit",
                  "6": "Dormant"
                },
                {
                  "0": "182",
                  "1": "Alice Johnson",
                  "2": "586 pinegrove rd",
                  "3": "john425@placeholder.co",
                  "4": "555-0100182",
                  "5": "Checking",
                  "6": "Dormant"
                },
                {
                  "0": "183",
                  "1": "Bob Brown",
                  "2": "456 Oak St",
                  "3": "rajesh@gmail.com",
                  "4": "555-0100183",
                  "5": "Checking",
                  "6": "Active"
                },
                {
                  "0": "184",
                  "1": "John Doe",
                  "2": "123 Elm St",
                  "3": "mike368@test.edu",
                  "4": "555-1056987",
                  "5": "Credit",
                  "6": "Active"
                },
                {
                  "0": "185",
                  "1": "Emma Davis",
                  "2": "456 Oak St",
                  "3": "john285@demo.org",
                  "4": "555-1056987",
                  "5": "Checking",
                  "6": "Active"
                },
                {
                  "0": "186",
                  "1": "John Doe",
                  "2": "456 Oak St",
                  "3": "rajesh@gmail.com",
                  "4": "555-0100186",
                  "5": "Savings",
                  "6": "Dormant"
                },
                {
                  "0": "187",
                  "1": "John Doe",
                  "2": "101 Maple St",
                  "3": "dan43@example.com",
                  "4": "555-0100187",
                  "5": "Credit",
                  "6": "Dormant"
                },
                {
                  "0": "188",
                  "1": "John Doe",
                  "2": "456 Oak St",
                  "3": "jane121@example.com",
                  "4": "555-0100188",
                  "5": "Savings",
                  "6": "Dormant"
                },
                {
                  "0": "189",
                  "1": "Emma Davis",
                  "2": "202 Birch St",
                  "3": "laura380@example.com",
                  "4": "555-1056987",
                  "5": "Checking",
                  "6": "Dormant"
                },
                {
                  "0": "190",
                  "1": "John Doe",
                  "2": "456 Oak St",
                  "3": "alice480@placeholder.co",
                  "4": "555-0100190",
                  "5": "Credit",
                  "6": "Dormant"
                },
                {
                  "0": "191",
                  "1": "John Doe",
                  "2": "202 Birch St",
                  "3": "dan410@placeholder.co",
                  "4": "555-0100191",
                  "5": "Checking",
                  "6": "Active"
                },
                {
                  "0": "192",
                  "1": "Alice Johnson",
                  "2": "123 Elm St",
                  "3": "laura380@demo.org",
                  "4": "555-0100192",
                  "5": "Checking",
                  "6": "Active"
                },
                {
                  "0": "193",
                  "1": "Jane Smith",
                  "2": "202 Birch St",
                  "3": "laura235@sample.net",
                  "4": "555-0100193",
                  "5": "Credit",
                  "6": "Active"
                },
                {
                  "0": "194",
                  "1": "Emma Davis",
                  "2": "202 Birch St",
                  "3": "rajesh@gmail.com",
                  "4": "555-0100194",
                  "5": "Savings",
                  "6": "Active"
                },
                {
                  "0": "195",
                  "1": "Emma Davis",
                  "2": "101 Maple St",
                  "3": "rajesh@gmail.com",
                  "4": "555-1056987",
                  "5": "Savings",
                  "6": "Active"
                },
                {
                  "0": "196",
                  "1": "John Doe",
                  "2": "101 Maple St",
                  "3": "laura73@placeholder.co",
                  "4": "555-0100196",
                  "5": "Savings",
                  "6": "Active"
                },
                {
                  "0": "197",
                  "1": "Emma Davis",
                  "2": "101 Maple St",
                  "3": "bob323@placeholder.co",
                  "4": "555-0100197",
                  "5": "Savings",
                  "6": "Active"
                },
                {
                  "0": "198",
                  "1": "Emma Davis",
                  "2": "202 Birch St",
                  "3": "john460@sample.net",
                  "4": "555-1056987",
                  "5": "Checking",
                  "6": "Dormant"
                },
                {
                  "0": "199",
                  "1": "Bob Brown",
                  "2": "456 Oak St",
                  "3": "sara437@example.com",
                  "4": "555-1056987",
                  "5": "Checking",
                  "6": "Active"
                },
                {
                  "0": "200",
                  "1": "Jane Smith",
                  "2": "101 Maple St",
                  "3": "dan198@placeholder.co",
                  "4": "555-1056987",
                  "5": "Credit",
                  "6": "Active"
                }
              ],
              "schema": [
                {
                  "key": "0",
                  "name": "Customer_ID",
                  "type": "int"
                },
                {
                  "key": "1",
                  "name": "Name",
                  "type": "string"
                },
                {
                  "key": "2",
                  "name": "Address",
                  "type": "string"
                },
                {
                  "key": "3",
                  "name": "Email",
                  "type": "string"
                },
                {
                  "key": "4",
                  "name": "Phone_Number",
                  "type": "string"
                },
                {
                  "key": "5",
                  "name": "Account_Type",
                  "type": "string"
                },
                {
                  "key": "6",
                  "name": "Account_Status",
                  "type": "string"
                }
              ],
              "truncated": false
            },
            "isSummary": false,
            "language": "scala",
            "wranglerEntryContext": {
              "candidateVariableNames": [
                "df1"
              ],
              "dataframeType": "pyspark"
            }
          },
          "persist_state": {
            "view": {
              "type": "details",
              "tableOptions": {},
              "chartOptions": {
                "chartType": "bar",
                "aggregationType": "sum",
                "categoryFieldKeys": [
                  "1"
                ],
                "seriesFieldKeys": [
                  "0"
                ],
                "isStacked": false
              }
            }
          }
        },
        "20876bf0-cd4b-4931-8a3f-0a0225b1a76a": {
          "type": "Synapse.DataFrame",
          "sync_state": {
            "table": {
              "rows": [
                {
                  "0": "21",
                  "1": "Bob Brown",
                  "2": "789 Pine St",
                  "3": "laura40@demo.org",
                  "4": "555-1056987",
                  "5": "Savings",
                  "6": "Dormant"
                },
                {
                  "0": "190",
                  "1": "John Doe",
                  "2": "456 Oak St",
                  "3": "alice480@placeholder.co",
                  "4": "555-0100190",
                  "5": "Credit",
                  "6": "Dormant"
                },
                {
                  "0": "104",
                  "1": "John Doe",
                  "2": "586 pinegrove rd",
                  "3": "bob178@demo.org",
                  "4": "555-1056987",
                  "5": "Savings",
                  "6": "Dormant"
                },
                {
                  "0": "80",
                  "1": "John Doe",
                  "2": "789 Pine St",
                  "3": "rajesh@gmail.com",
                  "4": "555-0100080",
                  "5": "Checking",
                  "6": "Active"
                },
                {
                  "0": "65",
                  "1": "Alice Johnson",
                  "2": "789 Pine St",
                  "3": "emma25@demo.org",
                  "4": "555-0100065",
                  "5": "Checking",
                  "6": "Dormant"
                },
                {
                  "0": "135",
                  "1": "John Doe",
                  "2": "101 Maple St",
                  "3": "sara96@example.com",
                  "4": "555-1056987",
                  "5": "Checking",
                  "6": "Dormant"
                },
                {
                  "0": "3",
                  "1": "Bob Brown",
                  "2": "202 Birch St",
                  "3": "rajesh@gmail.com",
                  "4": "555-0100003",
                  "5": "Credit",
                  "6": "Dormant"
                },
                {
                  "0": "86",
                  "1": "John Doe",
                  "2": "456 Oak St",
                  "3": "dan405@placeholder.co",
                  "4": "555-0100086",
                  "5": "Savings",
                  "6": "Dormant"
                },
                {
                  "0": "180",
                  "1": "John Doe",
                  "2": "101 Maple St",
                  "3": "laura330@placeholder.co",
                  "4": "555-1056987",
                  "5": "Checking",
                  "6": "Dormant"
                },
                {
                  "0": "61",
                  "1": "Emma Davis",
                  "2": "789 Pine St",
                  "3": "emma119@placeholder.co",
                  "4": "555-1056987",
                  "5": "Savings",
                  "6": "Active"
                },
                {
                  "0": "168",
                  "1": "Bob Brown",
                  "2": "202 Birch St",
                  "3": "emma312@example.com",
                  "4": "555-0100168",
                  "5": "Credit",
                  "6": "Active"
                },
                {
                  "0": "171",
                  "1": "Jane Smith",
                  "2": "456 Oak St",
                  "3": "emma175@test.edu",
                  "4": "555-0100171",
                  "5": "Savings",
                  "6": "Dormant"
                },
                {
                  "0": "5",
                  "1": "Emma Davis",
                  "2": "101 Maple St",
                  "3": "laura410@test.edu",
                  "4": "555-0100005",
                  "5": "Savings",
                  "6": "Dormant"
                },
                {
                  "0": "35",
                  "1": "Jane Smith",
                  "2": "123 Elm St",
                  "3": "sara305@placeholder.co",
                  "4": "555-0100035",
                  "5": "Credit",
                  "6": "Active"
                },
                {
                  "0": "32",
                  "1": "Emma Davis",
                  "2": "101 Maple St",
                  "3": "john87@demo.org",
                  "4": "555-1056987",
                  "5": "Checking",
                  "6": "Dormant"
                },
                {
                  "0": "156",
                  "1": "John Doe",
                  "2": "456 Oak St",
                  "3": "rajesh@gmail.com",
                  "4": "555-0100156",
                  "5": "Savings",
                  "6": "Active"
                },
                {
                  "0": "192",
                  "1": "Alice Johnson",
                  "2": "123 Elm St",
                  "3": "laura380@demo.org",
                  "4": "555-0100192",
                  "5": "Checking",
                  "6": "Active"
                },
                {
                  "0": "100",
                  "1": "John Doe",
                  "2": "456 Oak St",
                  "3": "laura292@test.edu",
                  "4": "555-0100100",
                  "5": "Credit",
                  "6": "Active"
                },
                {
                  "0": "187",
                  "1": "John Doe",
                  "2": "101 Maple St",
                  "3": "dan43@example.com",
                  "4": "555-0100187",
                  "5": "Credit",
                  "6": "Dormant"
                },
                {
                  "0": "8",
                  "1": "Alice Johnson",
                  "2": "586 pinegrove rd",
                  "3": "bob69@demo.org",
                  "4": "555-0100008",
                  "5": "Checking",
                  "6": "Dormant"
                },
                {
                  "0": "109",
                  "1": "Bob Brown",
                  "2": "456 Oak St",
                  "3": "laura325@placeholder.co",
                  "4": "555-0100109",
                  "5": "Checking",
                  "6": "Dormant"
                },
                {
                  "0": "37",
                  "1": "Alice Johnson",
                  "2": "101 Maple St",
                  "3": "sara499@example.com",
                  "4": "555-0100037",
                  "5": "Credit",
                  "6": "Dormant"
                },
                {
                  "0": "89",
                  "1": "Bob Brown",
                  "2": "456 Oak St",
                  "3": "mike330@placeholder.co",
                  "4": "555-1056987",
                  "5": "Credit",
                  "6": "Dormant"
                },
                {
                  "0": "84",
                  "1": "Emma Davis",
                  "2": "789 Pine St",
                  "3": "john439@example.com",
                  "4": "555-0100084",
                  "5": "Credit",
                  "6": "Dormant"
                },
                {
                  "0": "132",
                  "1": "John Doe",
                  "2": "101 Maple St",
                  "3": "rajesh@gmail.com",
                  "4": "555-0100132",
                  "5": "Savings",
                  "6": "Dormant"
                },
                {
                  "0": "176",
                  "1": "John Doe",
                  "2": "101 Maple St",
                  "3": "john276@placeholder.co",
                  "4": "555-1056987",
                  "5": "Credit",
                  "6": "Active"
                },
                {
                  "0": "123",
                  "1": "Bob Brown",
                  "2": "123 Elm St",
                  "3": "laura455@test.edu",
                  "4": "555-0100123",
                  "5": "Savings",
                  "6": "Dormant"
                },
                {
                  "0": "64",
                  "1": "Alice Johnson",
                  "2": "123 Elm St",
                  "3": "rajesh@gmail.com",
                  "4": "555-1056987",
                  "5": "Savings",
                  "6": "Active"
                },
                {
                  "0": "115",
                  "1": "Bob Brown",
                  "2": "456 Oak St",
                  "3": "alice327@example.com",
                  "4": "555-0100115",
                  "5": "Savings",
                  "6": "Active"
                },
                {
                  "0": "158",
                  "1": "Alice Johnson",
                  "2": "101 Maple St",
                  "3": "laura157@test.edu",
                  "4": "555-1056987",
                  "5": "Checking",
                  "6": "Active"
                },
                {
                  "0": "159",
                  "1": "Emma Davis",
                  "2": "789 Pine St",
                  "3": "jane438@sample.net",
                  "4": "555-1056987",
                  "5": "Checking",
                  "6": "Dormant"
                },
                {
                  "0": "1",
                  "1": "Alice Johnson",
                  "2": "789 Pine St",
                  "3": "rajesh@gmail.com",
                  "4": "555-0100001",
                  "5": "Credit",
                  "6": "Dormant"
                },
                {
                  "0": "20",
                  "1": "John Doe",
                  "2": "123 Elm St",
                  "3": "bob443@test.edu",
                  "4": "555-0100020",
                  "5": "Credit",
                  "6": "Dormant"
                },
                {
                  "0": "122",
                  "1": "Bob Brown",
                  "2": "101 Maple St",
                  "3": "laura351@placeholder.co",
                  "4": "555-0100122",
                  "5": "Checking",
                  "6": "Dormant"
                },
                {
                  "0": "97",
                  "1": "Alice Johnson",
                  "2": "123 Elm St",
                  "3": "emma319@placeholder.co",
                  "4": "555-1056987",
                  "5": "Credit",
                  "6": "Active"
                },
                {
                  "0": "141",
                  "1": "Alice Johnson",
                  "2": "789 Pine St",
                  "3": "carlos298@test.edu",
                  "4": "555-0100141",
                  "5": "Savings",
                  "6": "Active"
                },
                {
                  "0": "175",
                  "1": "Jane Smith",
                  "2": "456 Oak St",
                  "3": "dan465@sample.net",
                  "4": "555-1056987",
                  "5": "Checking",
                  "6": "Dormant"
                },
                {
                  "0": "178",
                  "1": "John Doe",
                  "2": "456 Oak St",
                  "3": "emma334@placeholder.co",
                  "4": "555-0100178",
                  "5": "Savings",
                  "6": "Dormant"
                },
                {
                  "0": "53",
                  "1": "John Doe",
                  "2": "123 Elm St",
                  "3": "emma143@sample.net",
                  "4": "555-0100053",
                  "5": "Credit",
                  "6": "Dormant"
                },
                {
                  "0": "193",
                  "1": "Jane Smith",
                  "2": "202 Birch St",
                  "3": "laura235@sample.net",
                  "4": "555-0100193",
                  "5": "Credit",
                  "6": "Active"
                },
                {
                  "0": "68",
                  "1": "Alice Johnson",
                  "2": "101 Maple St",
                  "3": "carlos437@test.edu",
                  "4": "555-1056987",
                  "5": "Checking",
                  "6": "Active"
                },
                {
                  "0": "71",
                  "1": "Emma Davis",
                  "2": "202 Birch St",
                  "3": "rajesh@gmail.com",
                  "4": "555-1056987",
                  "5": "Savings",
                  "6": "Dormant"
                },
                {
                  "0": "172",
                  "1": "Bob Brown",
                  "2": "202 Birch St",
                  "3": "alice306@demo.org",
                  "4": "555-0100172",
                  "5": "Checking",
                  "6": "Dormant"
                },
                {
                  "0": "139",
                  "1": "Bob Brown",
                  "2": "123 Elm St",
                  "3": "dan305@test.edu",
                  "4": "555-1056987",
                  "5": "Checking",
                  "6": "Active"
                },
                {
                  "0": "151",
                  "1": "Bob Brown",
                  "2": "101 Maple St",
                  "3": "carlos206@demo.org",
                  "4": "555-0100151",
                  "5": "Savings",
                  "6": "Active"
                },
                {
                  "0": "81",
                  "1": "Emma Davis",
                  "2": "202 Birch St",
                  "3": "sara308@test.edu",
                  "4": "555-0100081",
                  "5": "Credit",
                  "6": "Dormant"
                },
                {
                  "0": "140",
                  "1": "John Doe",
                  "2": "123 Elm St",
                  "3": "dan490@example.com",
                  "4": "555-1056987",
                  "5": "Checking",
                  "6": "Dormant"
                },
                {
                  "0": "194",
                  "1": "Emma Davis",
                  "2": "202 Birch St",
                  "3": "rajesh@gmail.com",
                  "4": "555-0100194",
                  "5": "Savings",
                  "6": "Active"
                },
                {
                  "0": "34",
                  "1": "Alice Johnson",
                  "2": "123 Elm St",
                  "3": "rajesh@gmail.com",
                  "4": "555-0100034",
                  "5": "Savings",
                  "6": "Dormant"
                },
                {
                  "0": "134",
                  "1": "Jane Smith",
                  "2": "456 Oak St",
                  "3": "dan319@test.edu",
                  "4": "555-0100134",
                  "5": "Credit",
                  "6": "Active"
                },
                {
                  "0": "143",
                  "1": "Bob Brown",
                  "2": "202 Birch St",
                  "3": "dan269@example.com",
                  "4": "555-0100143",
                  "5": "Checking",
                  "6": "Dormant"
                },
                {
                  "0": "181",
                  "1": "Bob Brown",
                  "2": "202 Birch St",
                  "3": "rajesh@gmail.com",
                  "4": "555-0100181",
                  "5": "Credit",
                  "6": "Dormant"
                },
                {
                  "0": "11",
                  "1": "Emma Davis",
                  "2": "456 Oak St",
                  "3": "john156@example.com",
                  "4": "555-0100011",
                  "5": "Credit",
                  "6": "Active"
                },
                {
                  "0": "152",
                  "1": "Jane Smith",
                  "2": "456 Oak St",
                  "3": "john402@demo.org",
                  "4": "555-0100152",
                  "5": "Checking",
                  "6": "Active"
                },
                {
                  "0": "46",
                  "1": "Jane Smith",
                  "2": "101 Maple St",
                  "3": "mike206@placeholder.co",
                  "4": "555-0100046",
                  "5": "Checking",
                  "6": "Dormant"
                },
                {
                  "0": "116",
                  "1": "Alice Johnson",
                  "2": "123 Elm St",
                  "3": "emma359@sample.net",
                  "4": "555-1056987",
                  "5": "Savings",
                  "6": "Dormant"
                },
                {
                  "0": "18",
                  "1": "Bob Brown",
                  "2": "123 Elm St",
                  "3": "mike492@placeholder.co",
                  "4": "555-1056987",
                  "5": "Savings",
                  "6": "Dormant"
                },
                {
                  "0": "51",
                  "1": "Emma Davis",
                  "2": "789 Pine St",
                  "3": "john137@test.edu",
                  "4": "555-0100051",
                  "5": "Credit",
                  "6": "Dormant"
                },
                {
                  "0": "33",
                  "1": "John Doe",
                  "2": "456 Oak St",
                  "3": "bob305@test.edu",
                  "4": "555-0100033",
                  "5": "Credit",
                  "6": "Active"
                },
                {
                  "0": "129",
                  "1": "Alice Johnson",
                  "2": "789 Pine St",
                  "3": "jane359@sample.net",
                  "4": "555-0100129",
                  "5": "Checking",
                  "6": "Dormant"
                },
                {
                  "0": "163",
                  "1": "Alice Johnson",
                  "2": "456 Oak St",
                  "3": "bob237@sample.net",
                  "4": "555-0100163",
                  "5": "Savings",
                  "6": "Dormant"
                },
                {
                  "0": "14",
                  "1": "Emma Davis",
                  "2": "456 Oak St",
                  "3": "mike308@demo.org",
                  "4": "555-0100014",
                  "5": "Savings",
                  "6": "Active"
                },
                {
                  "0": "118",
                  "1": "Jane Smith",
                  "2": "101 Maple St",
                  "3": "bob184@sample.net",
                  "4": "555-0100118",
                  "5": "Credit",
                  "6": "Active"
                },
                {
                  "0": "126",
                  "1": "Bob Brown",
                  "2": "456 Oak St",
                  "3": "dan305@test.edu",
                  "4": "555-0100126",
                  "5": "Savings",
                  "6": "Dormant"
                },
                {
                  "0": "92",
                  "1": "Emma Davis",
                  "2": "202 Birch St",
                  "3": "laura445@placeholder.co",
                  "4": "555-0100092",
                  "5": "Savings",
                  "6": "Active"
                },
                {
                  "0": "128",
                  "1": "Alice Johnson",
                  "2": "202 Birch St",
                  "3": "jane468@example.com",
                  "4": "555-1056987",
                  "5": "Credit",
                  "6": "Active"
                },
                {
                  "0": "188",
                  "1": "John Doe",
                  "2": "456 Oak St",
                  "3": "jane121@example.com",
                  "4": "555-0100188",
                  "5": "Savings",
                  "6": "Dormant"
                },
                {
                  "0": "90",
                  "1": "Alice Johnson",
                  "2": "789 Pine St",
                  "3": "sara146@demo.org",
                  "4": "555-0100090",
                  "5": "Checking",
                  "6": "Active"
                },
                {
                  "0": "111",
                  "1": "Bob Brown",
                  "2": "202 Birch St",
                  "3": "john473@sample.net",
                  "4": "555-1056987",
                  "5": "Checking",
                  "6": "Active"
                },
                {
                  "0": "200",
                  "1": "Jane Smith",
                  "2": "101 Maple St",
                  "3": "dan198@placeholder.co",
                  "4": "555-1056987",
                  "5": "Credit",
                  "6": "Active"
                },
                {
                  "0": "154",
                  "1": "Bob Brown",
                  "2": "789 Pine St",
                  "3": "john88@placeholder.co",
                  "4": "555-0100154",
                  "5": "Savings",
                  "6": "Active"
                },
                {
                  "0": "12",
                  "1": "suman das",
                  "2": "456 Oak St",
                  "3": "rajesh@gmail.com",
                  "4": "555-0100012",
                  "5": "Credit",
                  "6": "Dormant"
                },
                {
                  "0": "27",
                  "1": "Emma Davis",
                  "2": "202 Birch St",
                  "3": "emma428@sample.net",
                  "4": "555-0100027",
                  "5": "Checking",
                  "6": "Active"
                },
                {
                  "0": "125",
                  "1": "Bob Brown",
                  "2": "101 Maple St",
                  "3": "rajesh@gmail.com",
                  "4": "555-1056987",
                  "5": "Savings",
                  "6": "Dormant"
                },
                {
                  "0": "186",
                  "1": "John Doe",
                  "2": "456 Oak St",
                  "3": "rajesh@gmail.com",
                  "4": "555-0100186",
                  "5": "Savings",
                  "6": "Dormant"
                },
                {
                  "0": "195",
                  "1": "Emma Davis",
                  "2": "101 Maple St",
                  "3": "rajesh@gmail.com",
                  "4": "555-1056987",
                  "5": "Savings",
                  "6": "Active"
                },
                {
                  "0": "70",
                  "1": "Bob Brown",
                  "2": "456 Oak St",
                  "3": "rajesh@gmail.com",
                  "4": "555-0100070",
                  "5": "Savings",
                  "6": "Active"
                },
                {
                  "0": "102",
                  "1": "Bob Brown",
                  "2": "456 Oak St",
                  "3": "rajesh@gmail.com",
                  "4": "555-0100102",
                  "5": "Savings",
                  "6": "Dormant"
                },
                {
                  "0": "54",
                  "1": "Jane Smith",
                  "2": "123 Elm St",
                  "3": "bob406@example.com",
                  "4": "555-0100054",
                  "5": "Credit",
                  "6": "Dormant"
                },
                {
                  "0": "85",
                  "1": "Jane Smith",
                  "2": "123 Elm St",
                  "3": "rajesh@gmail.com",
                  "4": "555-0100085",
                  "5": "Checking",
                  "6": "Active"
                },
                {
                  "0": "119",
                  "1": "Bob Brown",
                  "2": "456 Oak St",
                  "3": "jane187@example.com",
                  "4": "555-0100119",
                  "5": "Savings",
                  "6": "Active"
                },
                {
                  "0": "167",
                  "1": "John Doe",
                  "2": "202 Birch St",
                  "3": "sara10@sample.net",
                  "4": "555-0100167",
                  "5": "Checking",
                  "6": "Dormant"
                },
                {
                  "0": "170",
                  "1": "Alice Johnson",
                  "2": "456 Oak St",
                  "3": "dan405@sample.net",
                  "4": "555-0100170",
                  "5": "Checking",
                  "6": "Active"
                },
                {
                  "0": "164",
                  "1": "Emma Davis",
                  "2": "101 Maple St",
                  "3": "jane102@sample.net",
                  "4": "555-0100164",
                  "5": "Credit",
                  "6": "Active"
                },
                {
                  "0": "36",
                  "1": "Alice Johnson",
                  "2": "101 Maple St",
                  "3": "bob301@example.com",
                  "4": "555-0100036",
                  "5": "Credit",
                  "6": "Dormant"
                },
                {
                  "0": "189",
                  "1": "Emma Davis",
                  "2": "202 Birch St",
                  "3": "laura380@example.com",
                  "4": "555-1056987",
                  "5": "Checking",
                  "6": "Dormant"
                },
                {
                  "0": "124",
                  "1": "Bob Brown",
                  "2": "101 Maple St",
                  "3": "mike70@example.com",
                  "4": "555-1056987",
                  "5": "Credit",
                  "6": "Active"
                },
                {
                  "0": "2",
                  "1": "Emma Davis",
                  "2": "101 Maple St",
                  "3": "sara7@demo.org",
                  "4": "555-1056987",
                  "5": "Savings",
                  "6": "Dormant"
                },
                {
                  "0": "88",
                  "1": "Jane Smith",
                  "2": "789 Pine St",
                  "3": "mike282@example.com",
                  "4": "555-1056987",
                  "5": "Checking",
                  "6": "Active"
                },
                {
                  "0": "103",
                  "1": "Emma Davis",
                  "2": "789 Pine St",
                  "3": "dan15@placeholder.co",
                  "4": "555-0100103",
                  "5": "Checking",
                  "6": "Active"
                },
                {
                  "0": "106",
                  "1": "John Doe",
                  "2": "123 Elm St",
                  "3": "emma236@demo.org",
                  "4": "555-0100106",
                  "5": "Savings",
                  "6": "Dormant"
                },
                {
                  "0": "74",
                  "1": "Emma Davis",
                  "2": "789 Pine St",
                  "3": "rajesh@gmail.com",
                  "4": "555-0100074",
                  "5": "Checking",
                  "6": "Active"
                },
                {
                  "0": "173",
                  "1": "John Doe",
                  "2": "789 Pine St",
                  "3": "rajesh@gmail.com",
                  "4": "555-0100173",
                  "5": "Checking",
                  "6": "Dormant"
                },
                {
                  "0": "77",
                  "1": "Jane Smith",
                  "2": "101 Maple St",
                  "3": "rajesh@gmail.com",
                  "4": "555-1056987",
                  "5": "Savings",
                  "6": "Active"
                },
                {
                  "0": "24",
                  "1": "Alice Johnson",
                  "2": "123 Elm St",
                  "3": "mike461@test.edu",
                  "4": "555-1056987",
                  "5": "Credit",
                  "6": "Dormant"
                },
                {
                  "0": "43",
                  "1": "Emma Davis",
                  "2": "123 Elm St",
                  "3": "emma392@placeholder.co",
                  "4": "555-0100043",
                  "5": "Savings",
                  "6": "Dormant"
                },
                {
                  "0": "137",
                  "1": "Alice Johnson",
                  "2": "789 Pine St",
                  "3": "bob18@demo.org",
                  "4": "555-1056987",
                  "5": "Credit",
                  "6": "Active"
                },
                {
                  "0": "6",
                  "1": "Alice Johnson",
                  "2": "586 pinegrove rd",
                  "3": "bob96@test.edu",
                  "4": "555-0100006",
                  "5": "Credit",
                  "6": "Dormant"
                },
                {
                  "0": "40",
                  "1": "John Doe",
                  "2": "456 Oak St",
                  "3": "rajesh@gmail.com",
                  "4": "555-1056987",
                  "5": "Checking",
                  "6": "Dormant"
                },
                {
                  "0": "75",
                  "1": "Jane Smith",
                  "2": "202 Birch St",
                  "3": "carlos15@demo.org",
                  "4": "555-0100075",
                  "5": "Credit",
                  "6": "Dormant"
                },
                {
                  "0": "160",
                  "1": "Emma Davis",
                  "2": "101 Maple St",
                  "3": "dan2@test.edu",
                  "4": "555-0100160",
                  "5": "Credit",
                  "6": "Dormant"
                },
                {
                  "0": "82",
                  "1": "Bob Brown",
                  "2": "789 Pine St",
                  "3": "john202@sample.net",
                  "4": "555-0100082",
                  "5": "Credit",
                  "6": "Active"
                },
                {
                  "0": "112",
                  "1": "Jane Smith",
                  "2": "202 Birch St",
                  "3": "alice304@placeholder.co",
                  "4": "555-1056987",
                  "5": "Checking",
                  "6": "Dormant"
                },
                {
                  "0": "144",
                  "1": "Alice Johnson",
                  "2": "202 Birch St",
                  "3": "sara356@test.edu",
                  "4": "555-0100144",
                  "5": "Credit",
                  "6": "Active"
                },
                {
                  "0": "148",
                  "1": "Bob Brown",
                  "2": "202 Birch St",
                  "3": "emma154@sample.net",
                  "4": "555-0100148",
                  "5": "Credit",
                  "6": "Active"
                },
                {
                  "0": "199",
                  "1": "Bob Brown",
                  "2": "456 Oak St",
                  "3": "sara437@example.com",
                  "4": "555-1056987",
                  "5": "Checking",
                  "6": "Active"
                },
                {
                  "0": "166",
                  "1": "Alice Johnson",
                  "2": "101 Maple St",
                  "3": "emma67@demo.org",
                  "4": "555-0100166",
                  "5": "Credit",
                  "6": "Active"
                },
                {
                  "0": "28",
                  "1": "John Doe",
                  "2": "123 Elm St",
                  "3": "dan437@sample.net",
                  "4": "555-0100028",
                  "5": "Savings",
                  "6": "Active"
                },
                {
                  "0": "105",
                  "1": "Emma Davis",
                  "2": "789 Pine St",
                  "3": "rajesh@gmail.com",
                  "4": "555-0100105",
                  "5": "Savings",
                  "6": "Active"
                },
                {
                  "0": "108",
                  "1": "Emma Davis",
                  "2": "202 Birch St",
                  "3": "mike210@example.com",
                  "4": "555-1056987",
                  "5": "Savings",
                  "6": "Active"
                },
                {
                  "0": "38",
                  "1": "John Doe",
                  "2": "202 Birch St",
                  "3": "laura207@demo.org",
                  "4": "555-0100038",
                  "5": "Savings",
                  "6": "Active"
                },
                {
                  "0": "136",
                  "1": "Jane Smith",
                  "2": "789 Pine St",
                  "3": "carlos425@placeholder.co",
                  "4": "555-0100136",
                  "5": "Savings",
                  "6": "Dormant"
                },
                {
                  "0": "177",
                  "1": "Bob Brown",
                  "2": "202 Birch St",
                  "3": "mike20@sample.net",
                  "4": "555-0100177",
                  "5": "Checking",
                  "6": "Dormant"
                },
                {
                  "0": "191",
                  "1": "John Doe",
                  "2": "202 Birch St",
                  "3": "dan410@placeholder.co",
                  "4": "555-0100191",
                  "5": "Checking",
                  "6": "Active"
                },
                {
                  "0": "153",
                  "1": "Alice Johnson",
                  "2": "123 Elm St",
                  "3": "carlos46@test.edu",
                  "4": "555-1056987",
                  "5": "Credit",
                  "6": "Active"
                },
                {
                  "0": "7",
                  "1": "Emma Davis",
                  "2": "456 Oak St",
                  "3": "john47@example.com",
                  "4": "555-0100007",
                  "5": "Checking",
                  "6": "Active"
                },
                {
                  "0": "44",
                  "1": "John Doe",
                  "2": "202 Birch St",
                  "3": "bob35@example.com",
                  "4": "555-0100044",
                  "5": "Savings",
                  "6": "Active"
                },
                {
                  "0": "52",
                  "1": "Alice Johnson",
                  "2": "789 Pine St",
                  "3": "mike384@placeholder.co",
                  "4": "555-0100052",
                  "5": "Credit",
                  "6": "Dormant"
                },
                {
                  "0": "101",
                  "1": "Alice Johnson",
                  "2": "789 Pine St",
                  "3": "alice348@test.edu",
                  "4": "555-0100101",
                  "5": "Credit",
                  "6": "Active"
                },
                {
                  "0": "87",
                  "1": "Jane Smith",
                  "2": "456 Oak St",
                  "3": "rajesh@gmail.com",
                  "4": "555-1056987",
                  "5": "Savings",
                  "6": "Active"
                },
                {
                  "0": "127",
                  "1": "Bob Brown",
                  "2": "456 Oak St",
                  "3": "mike175@sample.net",
                  "4": "555-1056987",
                  "5": "Savings",
                  "6": "Dormant"
                },
                {
                  "0": "30",
                  "1": "Jane Smith",
                  "2": "101 Maple St",
                  "3": "mike95@example.com",
                  "4": "555-0100030",
                  "5": "Savings",
                  "6": "Active"
                },
                {
                  "0": "47",
                  "1": "Bob Brown",
                  "2": "789 Pine St",
                  "3": "rajesh@gmail.com",
                  "4": "555-0100047",
                  "5": "Savings",
                  "6": "Dormant"
                },
                {
                  "0": "130",
                  "1": "Bob Brown",
                  "2": "456 Oak St",
                  "3": "mike217@sample.net",
                  "4": "555-1056987",
                  "5": "Checking",
                  "6": "Active"
                },
                {
                  "0": "91",
                  "1": "Alice Johnson",
                  "2": "202 Birch St",
                  "3": "rajesh@gmail.com",
                  "4": "555-0100091",
                  "5": "Credit",
                  "6": "Dormant"
                },
                {
                  "0": "185",
                  "1": "Emma Davis",
                  "2": "456 Oak St",
                  "3": "john285@demo.org",
                  "4": "555-1056987",
                  "5": "Checking",
                  "6": "Active"
                },
                {
                  "0": "161",
                  "1": "John Doe",
                  "2": "789 Pine St",
                  "3": "mike265@sample.net",
                  "4": "555-0100161",
                  "5": "Credit",
                  "6": "Active"
                },
                {
                  "0": "184",
                  "1": "John Doe",
                  "2": "123 Elm St",
                  "3": "mike368@test.edu",
                  "4": "555-1056987",
                  "5": "Credit",
                  "6": "Active"
                },
                {
                  "0": "96",
                  "1": "Bob Brown",
                  "2": "123 Elm St",
                  "3": "bob62@test.edu",
                  "4": "555-0100096",
                  "5": "Checking",
                  "6": "Active"
                },
                {
                  "0": "196",
                  "1": "John Doe",
                  "2": "101 Maple St",
                  "3": "laura73@placeholder.co",
                  "4": "555-0100196",
                  "5": "Savings",
                  "6": "Active"
                },
                {
                  "0": "49",
                  "1": "Jane Smith",
                  "2": "101 Maple St",
                  "3": "laura293@example.com",
                  "4": "555-1056987",
                  "5": "Checking",
                  "6": "Active"
                },
                {
                  "0": "145",
                  "1": "Bob Brown",
                  "2": "202 Birch St",
                  "3": "emma432@demo.org",
                  "4": "555-0100145",
                  "5": "Savings",
                  "6": "Dormant"
                },
                {
                  "0": "179",
                  "1": "Bob Brown",
                  "2": "202 Birch St",
                  "3": "mike55@sample.net",
                  "4": "555-0100179",
                  "5": "Savings",
                  "6": "Active"
                },
                {
                  "0": "39",
                  "1": "Emma Davis",
                  "2": "456 Oak St",
                  "3": "dan89@demo.org",
                  "4": "555-0100039",
                  "5": "Credit",
                  "6": "Dormant"
                },
                {
                  "0": "63",
                  "1": "Alice Johnson",
                  "2": "456 Oak St",
                  "3": "carlos159@placeholder.co",
                  "4": "555-0100063",
                  "5": "Savings",
                  "6": "Dormant"
                },
                {
                  "0": "131",
                  "1": "Alice Johnson",
                  "2": "789 Pine St",
                  "3": "sara333@test.edu",
                  "4": "555-1056987",
                  "5": "Credit",
                  "6": "Active"
                },
                {
                  "0": "165",
                  "1": "Bob Brown",
                  "2": "586 pinegrove rd",
                  "3": "bob228@placeholder.co",
                  "4": "555-0100165",
                  "5": "Credit",
                  "6": "Active"
                },
                {
                  "0": "98",
                  "1": "Bob Brown",
                  "2": "101 Maple St",
                  "3": "bob464@test.edu",
                  "4": "555-0100098",
                  "5": "Savings",
                  "6": "Active"
                },
                {
                  "0": "117",
                  "1": "Jane Smith",
                  "2": "789 Pine St",
                  "3": "bob463@demo.org",
                  "4": "555-0100117",
                  "5": "Checking",
                  "6": "Active"
                },
                {
                  "0": "41",
                  "1": "Alice Johnson",
                  "2": "202 Birch St",
                  "3": "laura281@sample.net",
                  "4": "555-0100041",
                  "5": "Savings",
                  "6": "Active"
                },
                {
                  "0": "66",
                  "1": "Emma Davis",
                  "2": "101 Maple St",
                  "3": "carlos155@sample.net",
                  "4": "555-0100066",
                  "5": "Checking",
                  "6": "Active"
                },
                {
                  "0": "133",
                  "1": "John Doe",
                  "2": "456 Oak St",
                  "3": "sara492@test.edu",
                  "4": "555-0100133",
                  "5": "Checking",
                  "6": "Dormant"
                },
                {
                  "0": "182",
                  "1": "Alice Johnson",
                  "2": "586 pinegrove rd",
                  "3": "john425@placeholder.co",
                  "4": "555-0100182",
                  "5": "Checking",
                  "6": "Dormant"
                },
                {
                  "0": "76",
                  "1": "Alice Johnson",
                  "2": "101 Maple St",
                  "3": "rajesh@gmail.com",
                  "4": "555-0100076",
                  "5": "Credit",
                  "6": "Active"
                },
                {
                  "0": "93",
                  "1": "Bob Brown",
                  "2": "456 Oak St",
                  "3": "dan207@placeholder.co",
                  "4": "555-0100093",
                  "5": "Credit",
                  "6": "Dormant"
                },
                {
                  "0": "155",
                  "1": "Emma Davis",
                  "2": "789 Pine St",
                  "3": "rajesh@gmail.com",
                  "4": "555-1056987",
                  "5": "Credit",
                  "6": "Active"
                },
                {
                  "0": "9",
                  "1": "Emma Davis",
                  "2": "789 Pine St",
                  "3": "bob416@example.com",
                  "4": "555-0100009",
                  "5": "Credit",
                  "6": "Active"
                },
                {
                  "0": "23",
                  "1": "Alice Johnson",
                  "2": "202 Birch St",
                  "3": "rajesh@gmail.com",
                  "4": "555-0100023",
                  "5": "Checking",
                  "6": "Active"
                },
                {
                  "0": "60",
                  "1": "John Doe",
                  "2": "789 Pine St",
                  "3": "carlos202@demo.org",
                  "4": "555-1056987",
                  "5": "Credit",
                  "6": "Dormant"
                },
                {
                  "0": "57",
                  "1": "Alice Johnson",
                  "2": "202 Birch St",
                  "3": "emma80@test.edu",
                  "4": "555-0100057",
                  "5": "Credit",
                  "6": "Dormant"
                },
                {
                  "0": "198",
                  "1": "Emma Davis",
                  "2": "202 Birch St",
                  "3": "john460@sample.net",
                  "4": "555-1056987",
                  "5": "Checking",
                  "6": "Dormant"
                },
                {
                  "0": "19",
                  "1": "Emma Davis",
                  "2": "789 Pine St",
                  "3": "rajesh@gmail.com",
                  "4": "555-0100019",
                  "5": "Savings",
                  "6": "Active"
                },
                {
                  "0": "59",
                  "1": "John Doe",
                  "2": "789 Pine St",
                  "3": "laura466@placeholder.co",
                  "4": "555-0100059",
                  "5": "Savings",
                  "6": "Active"
                },
                {
                  "0": "169",
                  "1": "Alice Johnson",
                  "2": "789 Pine St",
                  "3": "sara381@example.com",
                  "4": "555-1056987",
                  "5": "Savings",
                  "6": "Dormant"
                },
                {
                  "0": "95",
                  "1": "Alice Johnson",
                  "2": "789 Pine St",
                  "3": "mike298@placeholder.co",
                  "4": "555-0100095",
                  "5": "Credit",
                  "6": "Active"
                },
                {
                  "0": "69",
                  "1": "Jane Smith",
                  "2": "456 Oak St",
                  "3": "rajesh@gmail.com",
                  "4": "555-0100069",
                  "5": "Checking",
                  "6": "Dormant"
                },
                {
                  "0": "114",
                  "1": "John Doe",
                  "2": "202 Birch St",
                  "3": "emma329@placeholder.co",
                  "4": "555-0100114",
                  "5": "Checking",
                  "6": "Dormant"
                },
                {
                  "0": "149",
                  "1": "Alice Johnson",
                  "2": "101 Maple St",
                  "3": "rajesh@gmail.com",
                  "4": "555-0100149",
                  "5": "Savings",
                  "6": "Dormant"
                },
                {
                  "0": "26",
                  "1": "Bob Brown",
                  "2": "456 Oak St",
                  "3": "alice365@sample.net",
                  "4": "555-0100026",
                  "5": "Credit",
                  "6": "Dormant"
                },
                {
                  "0": "150",
                  "1": "Jane Smith",
                  "2": "123 Elm St",
                  "3": "mike403@demo.org",
                  "4": "555-1056987",
                  "5": "Checking",
                  "6": "Active"
                },
                {
                  "0": "13",
                  "1": "John Doe",
                  "2": "202 Birch St",
                  "3": "bob39@demo.org",
                  "4": "555-0100013",
                  "5": "Checking",
                  "6": "Dormant"
                },
                {
                  "0": "50",
                  "1": "Jane Smith",
                  "2": "123 Elm St",
                  "3": "carlos456@sample.net",
                  "4": "555-0100050",
                  "5": "Checking",
                  "6": "Active"
                },
                {
                  "0": "121",
                  "1": "Alice Johnson",
                  "2": "789 Pine St",
                  "3": "emma442@test.edu",
                  "4": "555-1056987",
                  "5": "Savings",
                  "6": "Active"
                },
                {
                  "0": "73",
                  "1": "Bob Brown",
                  "2": "789 Pine St",
                  "3": "rajesh@gmail.com",
                  "4": "555-1056987",
                  "5": "Savings",
                  "6": "Active"
                },
                {
                  "0": "197",
                  "1": "Emma Davis",
                  "2": "101 Maple St",
                  "3": "bob323@placeholder.co",
                  "4": "555-0100197",
                  "5": "Savings",
                  "6": "Active"
                },
                {
                  "0": "83",
                  "1": "Alice Johnson",
                  "2": "123 Elm St",
                  "3": "rajesh@gmail.com",
                  "4": "555-0100083",
                  "5": "Checking",
                  "6": "Dormant"
                },
                {
                  "0": "4",
                  "1": "suman das",
                  "2": "202 Birch St",
                  "3": "laura323@demo.org",
                  "4": "555-0100004",
                  "5": "Checking",
                  "6": "Active"
                },
                {
                  "0": "78",
                  "1": "Alice Johnson",
                  "2": "202 Birch St",
                  "3": "rajesh@gmail.com",
                  "4": "555-0100078",
                  "5": "Credit",
                  "6": "Active"
                },
                {
                  "0": "10",
                  "1": "Alice Johnson",
                  "2": "101 Maple St",
                  "3": "rajesh@gmail.com",
                  "4": "555-0100010",
                  "5": "Savings",
                  "6": "Dormant"
                },
                {
                  "0": "157",
                  "1": "John Doe",
                  "2": "101 Maple St",
                  "3": "mike320@sample.net",
                  "4": "555-1056987",
                  "5": "Checking",
                  "6": "Active"
                },
                {
                  "0": "58",
                  "1": "Bob Brown",
                  "2": "101 Maple St",
                  "3": "sara264@placeholder.co",
                  "4": "555-0100058",
                  "5": "Credit",
                  "6": "Active"
                },
                {
                  "0": "17",
                  "1": "Emma Davis",
                  "2": "101 Maple St",
                  "3": "carlos97@example.com",
                  "4": "555-0100017",
                  "5": "Checking",
                  "6": "Dormant"
                },
                {
                  "0": "42",
                  "1": "Jane Smith",
                  "2": "101 Maple St",
                  "3": "sara172@placeholder.co",
                  "4": "555-0100042",
                  "5": "Credit",
                  "6": "Dormant"
                },
                {
                  "0": "16",
                  "1": "Emma Davis",
                  "2": "123 Elm St",
                  "3": "rajesh@gmail.com",
                  "4": "555-0100016",
                  "5": "Credit",
                  "6": "Active"
                },
                {
                  "0": "79",
                  "1": "Emma Davis",
                  "2": "202 Birch St",
                  "3": "rajesh@gmail.com",
                  "4": "555-0100079",
                  "5": "Savings",
                  "6": "Dormant"
                },
                {
                  "0": "120",
                  "1": "Emma Davis",
                  "2": "789 Pine St",
                  "3": "john414@test.edu",
                  "4": "555-1056987",
                  "5": "Credit",
                  "6": "Active"
                },
                {
                  "0": "183",
                  "1": "Bob Brown",
                  "2": "456 Oak St",
                  "3": "rajesh@gmail.com",
                  "4": "555-0100183",
                  "5": "Checking",
                  "6": "Active"
                },
                {
                  "0": "45",
                  "1": "Bob Brown",
                  "2": "456 Oak St",
                  "3": "emma245@example.com",
                  "4": "555-1056987",
                  "5": "Savings",
                  "6": "Dormant"
                },
                {
                  "0": "48",
                  "1": "Alice Johnson",
                  "2": "202 Birch St",
                  "3": "laura118@test.edu",
                  "4": "555-1056987",
                  "5": "Savings",
                  "6": "Dormant"
                },
                {
                  "0": "67",
                  "1": "Bob Brown",
                  "2": "101 Maple St",
                  "3": "mike361@test.edu",
                  "4": "555-1056987",
                  "5": "Credit",
                  "6": "Dormant"
                },
                {
                  "0": "110",
                  "1": "John Doe",
                  "2": "123 Elm St",
                  "3": "mike210@test.edu",
                  "4": "555-0100110",
                  "5": "Savings",
                  "6": "Active"
                },
                {
                  "0": "146",
                  "1": "John Doe",
                  "2": "456 Oak St",
                  "3": "emma96@placeholder.co",
                  "4": "555-0100146",
                  "5": "Credit",
                  "6": "Dormant"
                },
                {
                  "0": "174",
                  "1": "Alice Johnson",
                  "2": "456 Oak St",
                  "3": "rajesh@gmail.com",
                  "4": "555-0100174",
                  "5": "Credit",
                  "6": "Dormant"
                },
                {
                  "0": "94",
                  "1": "Emma Davis",
                  "2": "456 Oak St",
                  "3": "rajesh@gmail.com",
                  "4": "555-1056987",
                  "5": "Credit",
                  "6": "Dormant"
                },
                {
                  "0": "29",
                  "1": "Alice Johnson",
                  "2": "202 Birch St",
                  "3": "emma280@test.edu",
                  "4": "555-0100029",
                  "5": "Credit",
                  "6": "Dormant"
                },
                {
                  "0": "25",
                  "1": "Bob Brown",
                  "2": "202 Birch St",
                  "3": "carlos375@demo.org",
                  "4": "555-0100025",
                  "5": "Savings",
                  "6": "Active"
                },
                {
                  "0": "55",
                  "1": "John Doe",
                  "2": "123 Elm St",
                  "3": "alice234@placeholder.co",
                  "4": "555-0100055",
                  "5": "Savings",
                  "6": "Active"
                },
                {
                  "0": "147",
                  "1": "Emma Davis",
                  "2": "202 Birch St",
                  "3": "alice415@example.com",
                  "4": "555-0100147",
                  "5": "Credit",
                  "6": "Dormant"
                },
                {
                  "0": "31",
                  "1": "Emma Davis",
                  "2": "101 Maple St",
                  "3": "rajesh@gmail.com",
                  "4": "555-1056987",
                  "5": "Savings",
                  "6": "Active"
                },
                {
                  "0": "15",
                  "1": "Bob Brown",
                  "2": "456 Oak St",
                  "3": "sara133@example.com",
                  "4": "555-1056987",
                  "5": "Savings",
                  "6": "Dormant"
                },
                {
                  "0": "107",
                  "1": "Alice Johnson",
                  "2": "202 Birch St",
                  "3": "bob370@test.edu",
                  "4": "555-1056987",
                  "5": "Savings",
                  "6": "Active"
                },
                {
                  "0": "99",
                  "1": "John Doe",
                  "2": "456 Oak St",
                  "3": "bob444@sample.net",
                  "4": "555-0100099",
                  "5": "Savings",
                  "6": "Active"
                },
                {
                  "0": "162",
                  "1": "Jane Smith",
                  "2": "101 Maple St",
                  "3": "laura437@demo.org",
                  "4": "555-0100162",
                  "5": "Credit",
                  "6": "Active"
                },
                {
                  "0": "62",
                  "1": "Alice Johnson",
                  "2": "456 Oak St",
                  "3": "mike321@placeholder.co",
                  "4": "555-0100062",
                  "5": "Savings",
                  "6": "Active"
                },
                {
                  "0": "22",
                  "1": "suman das",
                  "2": "789 Pine St",
                  "3": "laura243@test.edu",
                  "4": "555-1056987",
                  "5": "Checking",
                  "6": "Active"
                },
                {
                  "0": "56",
                  "1": "Alice Johnson",
                  "2": "202 Birch St",
                  "3": "rajesh@gmail.com",
                  "4": "555-1056987",
                  "5": "Savings",
                  "6": "Active"
                },
                {
                  "0": "72",
                  "1": "Bob Brown",
                  "2": "789 Pine St",
                  "3": "sara229@demo.org",
                  "4": "555-0100072",
                  "5": "Savings",
                  "6": "Active"
                },
                {
                  "0": "138",
                  "1": "Bob Brown",
                  "2": "123 Elm St",
                  "3": "carlos367@example.com",
                  "4": "555-0100138",
                  "5": "Checking",
                  "6": "Dormant"
                },
                {
                  "0": "113",
                  "1": "Emma Davis",
                  "2": "789 Pine St",
                  "3": "carlos476@example.com",
                  "4": "555-0100113",
                  "5": "Checking",
                  "6": "Active"
                },
                {
                  "0": "142",
                  "1": "Emma Davis",
                  "2": "101 Maple St",
                  "3": "alice31@placeholder.co",
                  "4": "555-0100142",
                  "5": "Checking",
                  "6": "Dormant"
                }
              ],
              "schema": [
                {
                  "key": "0",
                  "name": "Customer_ID",
                  "type": "int"
                },
                {
                  "key": "1",
                  "name": "Name",
                  "type": "string"
                },
                {
                  "key": "2",
                  "name": "Address",
                  "type": "string"
                },
                {
                  "key": "3",
                  "name": "Email",
                  "type": "string"
                },
                {
                  "key": "4",
                  "name": "Phone_Number",
                  "type": "string"
                },
                {
                  "key": "5",
                  "name": "Account_Type",
                  "type": "string"
                },
                {
                  "key": "6",
                  "name": "Account_Status",
                  "type": "string"
                }
              ],
              "truncated": false
            },
            "isSummary": false,
            "language": "scala",
            "wranglerEntryContext": {
              "candidateVariableNames": [
                "df2"
              ],
              "dataframeType": "pyspark"
            }
          },
          "persist_state": {
            "view": {
              "type": "details",
              "tableOptions": {},
              "chartOptions": {
                "chartType": "bar",
                "aggregationType": "sum",
                "categoryFieldKeys": [
                  "1"
                ],
                "seriesFieldKeys": [
                  "0"
                ],
                "isStacked": false
              }
            }
          }
        },
        "e4608842-b20a-469d-b869-b6a5f3c5cc3a": {
          "type": "Synapse.DataFrame",
          "sync_state": {
            "table": {
              "rows": [
                {
                  "0": "1",
                  "1": "Alice Johnson",
                  "2": "789 Pine St",
                  "3": "",
                  "4": "555-0100001",
                  "5": "Credit",
                  "6": "Dormant"
                },
                {
                  "0": "1",
                  "1": "Alice Johnson",
                  "2": "789 Pine St",
                  "3": "",
                  "4": "555-0100001",
                  "5": "Credit",
                  "6": "Dormant"
                },
                {
                  "0": "2",
                  "1": "Emma Davis",
                  "2": "101 Maple St",
                  "3": "sara7@demo.org",
                  "4": "",
                  "5": "Savings",
                  "6": "Dormant"
                },
                {
                  "0": "3",
                  "1": "Bob Brown",
                  "2": "202 Birch St",
                  "3": "",
                  "4": "555-0100003",
                  "5": "Credit",
                  "6": "Dormant"
                },
                {
                  "0": "4",
                  "1": "None",
                  "2": "202 Birch St",
                  "3": "laura323@demo.org",
                  "4": "555-0100004",
                  "5": "Checking",
                  "6": "Active"
                },
                {
                  "0": "5",
                  "1": "Emma Davis",
                  "2": "101 Maple St",
                  "3": "laura410@test.edu",
                  "4": "555-0100005",
                  "5": "Savings",
                  "6": "Dormant"
                },
                {
                  "0": "6",
                  "1": "Alice Johnson",
                  "2": "None",
                  "3": "bob96@test.edu",
                  "4": "555-0100006",
                  "5": "Credit",
                  "6": "Dormant"
                },
                {
                  "0": "7",
                  "1": "Emma Davis",
                  "2": "456 Oak St",
                  "3": "john47@example.com",
                  "4": "555-0100007",
                  "5": "Checking",
                  "6": "Active"
                },
                {
                  "0": "8",
                  "1": "Alice Johnson",
                  "2": "None",
                  "3": "bob69@demo.org",
                  "4": "555-0100008",
                  "5": "Checking",
                  "6": "Dormant"
                },
                {
                  "0": "9",
                  "1": "Emma Davis",
                  "2": "789 Pine St",
                  "3": "bob416@example.com",
                  "4": "555-0100009",
                  "5": "Credit",
                  "6": "Active"
                },
                {
                  "0": "10",
                  "1": "Alice Johnson",
                  "2": "101 Maple St",
                  "3": "",
                  "4": "555-0100010",
                  "5": "Savings",
                  "6": "Dormant"
                },
                {
                  "0": "11",
                  "1": "Emma Davis",
                  "2": "456 Oak St",
                  "3": "john156@example.com",
                  "4": "555-0100011",
                  "5": "Credit",
                  "6": "Active"
                },
                {
                  "0": "12",
                  "1": "None",
                  "2": "456 Oak St",
                  "3": "",
                  "4": "555-0100012",
                  "5": "Credit",
                  "6": "Dormant"
                },
                {
                  "0": "13",
                  "1": "John Doe",
                  "2": "202 Birch St",
                  "3": "bob39@demo.org",
                  "4": "555-0100013",
                  "5": "Checking",
                  "6": "Dormant"
                },
                {
                  "0": "14",
                  "1": "Emma Davis",
                  "2": "456 Oak St",
                  "3": "mike308@demo.org",
                  "4": "555-0100014",
                  "5": "Savings",
                  "6": "Active"
                },
                {
                  "0": "15",
                  "1": "Bob Brown",
                  "2": "456 Oak St",
                  "3": "sara133@example.com",
                  "4": "",
                  "5": "Savings",
                  "6": "Dormant"
                },
                {
                  "0": "16",
                  "1": "Emma Davis",
                  "2": "123 Elm St",
                  "3": "",
                  "4": "555-0100016",
                  "5": "Credit",
                  "6": "Active"
                },
                {
                  "0": "17",
                  "1": "Emma Davis",
                  "2": "101 Maple St",
                  "3": "carlos97@example.com",
                  "4": "555-0100017",
                  "5": "Checking",
                  "6": "Dormant"
                },
                {
                  "0": "18",
                  "1": "Bob Brown",
                  "2": "123 Elm St",
                  "3": "mike492@placeholder.co",
                  "4": "",
                  "5": "Savings",
                  "6": "Dormant"
                },
                {
                  "0": "19",
                  "1": "Emma Davis",
                  "2": "789 Pine St",
                  "3": "",
                  "4": "555-0100019",
                  "5": "Savings",
                  "6": "Active"
                },
                {
                  "0": "20",
                  "1": "John Doe",
                  "2": "123 Elm St",
                  "3": "bob443@test.edu",
                  "4": "555-0100020",
                  "5": "Credit",
                  "6": "Dormant"
                },
                {
                  "0": "21",
                  "1": "Bob Brown",
                  "2": "789 Pine St",
                  "3": "laura40@demo.org",
                  "4": "",
                  "5": "Savings",
                  "6": "Dormant"
                },
                {
                  "0": "22",
                  "1": "None",
                  "2": "789 Pine St",
                  "3": "laura243@test.edu",
                  "4": "",
                  "5": "Checking",
                  "6": "Active"
                },
                {
                  "0": "23",
                  "1": "Alice Johnson",
                  "2": "202 Birch St",
                  "3": "",
                  "4": "555-0100023",
                  "5": "Checking",
                  "6": "Active"
                },
                {
                  "0": "24",
                  "1": "Alice Johnson",
                  "2": "123 Elm St",
                  "3": "mike461@test.edu",
                  "4": "",
                  "5": "Credit",
                  "6": "Dormant"
                },
                {
                  "0": "25",
                  "1": "Bob Brown",
                  "2": "202 Birch St",
                  "3": "carlos375@demo.org",
                  "4": "555-0100025",
                  "5": "Savings",
                  "6": "Active"
                },
                {
                  "0": "26",
                  "1": "Bob Brown",
                  "2": "456 Oak St",
                  "3": "alice365@sample.net",
                  "4": "555-0100026",
                  "5": "Credit",
                  "6": "Dormant"
                },
                {
                  "0": "27",
                  "1": "Emma Davis",
                  "2": "202 Birch St",
                  "3": "emma428@sample.net",
                  "4": "555-0100027",
                  "5": "Checking",
                  "6": "Active"
                },
                {
                  "0": "28",
                  "1": "John Doe",
                  "2": "123 Elm St",
                  "3": "dan437@sample.net",
                  "4": "555-0100028",
                  "5": "Savings",
                  "6": "Active"
                },
                {
                  "0": "29",
                  "1": "Alice Johnson",
                  "2": "202 Birch St",
                  "3": "emma280@test.edu",
                  "4": "555-0100029",
                  "5": "Credit",
                  "6": "Dormant"
                },
                {
                  "0": "30",
                  "1": "Jane Smith",
                  "2": "101 Maple St",
                  "3": "mike95@example.com",
                  "4": "555-0100030",
                  "5": "Savings",
                  "6": "None"
                },
                {
                  "0": "31",
                  "1": "Emma Davis",
                  "2": "101 Maple St",
                  "3": "",
                  "4": "",
                  "5": "Savings",
                  "6": "Active"
                },
                {
                  "0": "32",
                  "1": "Emma Davis",
                  "2": "101 Maple St",
                  "3": "john87@demo.org",
                  "4": "",
                  "5": "Checking",
                  "6": "Dormant"
                },
                {
                  "0": "33",
                  "1": "John Doe",
                  "2": "456 Oak St",
                  "3": "bob305@test.edu",
                  "4": "555-0100033",
                  "5": "Credit",
                  "6": "Active"
                },
                {
                  "0": "34",
                  "1": "Alice Johnson",
                  "2": "123 Elm St",
                  "3": "",
                  "4": "555-0100034",
                  "5": "Savings",
                  "6": "Dormant"
                },
                {
                  "0": "35",
                  "1": "Jane Smith",
                  "2": "123 Elm St",
                  "3": "sara305@placeholder.co",
                  "4": "555-0100035",
                  "5": "Credit",
                  "6": "Active"
                },
                {
                  "0": "36",
                  "1": "Alice Johnson",
                  "2": "101 Maple St",
                  "3": "bob301@example.com",
                  "4": "555-0100036",
                  "5": "Credit",
                  "6": "Dormant"
                },
                {
                  "0": "37",
                  "1": "Alice Johnson",
                  "2": "101 Maple St",
                  "3": "sara499@example.com",
                  "4": "555-0100037",
                  "5": "Credit",
                  "6": "Dormant"
                },
                {
                  "0": "38",
                  "1": "John Doe",
                  "2": "202 Birch St",
                  "3": "laura207@demo.org",
                  "4": "555-0100038",
                  "5": "Savings",
                  "6": "Active"
                },
                {
                  "0": "39",
                  "1": "Emma Davis",
                  "2": "456 Oak St",
                  "3": "dan89@demo.org",
                  "4": "555-0100039",
                  "5": "Credit",
                  "6": "Dormant"
                },
                {
                  "0": "40",
                  "1": "John Doe",
                  "2": "456 Oak St",
                  "3": "",
                  "4": "",
                  "5": "Checking",
                  "6": "Dormant"
                },
                {
                  "0": "41",
                  "1": "Alice Johnson",
                  "2": "202 Birch St",
                  "3": "laura281@sample.net",
                  "4": "555-0100041",
                  "5": "None",
                  "6": "Active"
                },
                {
                  "0": "42",
                  "1": "Jane Smith",
                  "2": "101 Maple St",
                  "3": "sara172@placeholder.co",
                  "4": "555-0100042",
                  "5": "Credit",
                  "6": "Dormant"
                },
                {
                  "0": "43",
                  "1": "Emma Davis",
                  "2": "123 Elm St",
                  "3": "emma392@placeholder.co",
                  "4": "555-0100043",
                  "5": "Savings",
                  "6": "Dormant"
                },
                {
                  "0": "44",
                  "1": "John Doe",
                  "2": "202 Birch St",
                  "3": "bob35@example.com",
                  "4": "555-0100044",
                  "5": "Savings",
                  "6": "Active"
                },
                {
                  "0": "45",
                  "1": "Bob Brown",
                  "2": "456 Oak St",
                  "3": "emma245@example.com",
                  "4": "",
                  "5": "Savings",
                  "6": "Dormant"
                },
                {
                  "0": "46",
                  "1": "Jane Smith",
                  "2": "101 Maple St",
                  "3": "mike206@placeholder.co",
                  "4": "555-0100046",
                  "5": "Checking",
                  "6": "Dormant"
                },
                {
                  "0": "47",
                  "1": "Bob Brown",
                  "2": "789 Pine St",
                  "3": "",
                  "4": "555-0100047",
                  "5": "Savings",
                  "6": "Dormant"
                },
                {
                  "0": "48",
                  "1": "Alice Johnson",
                  "2": "202 Birch St",
                  "3": "laura118@test.edu",
                  "4": "",
                  "5": "Savings",
                  "6": "Dormant"
                },
                {
                  "0": "49",
                  "1": "Jane Smith",
                  "2": "101 Maple St",
                  "3": "laura293@example.com",
                  "4": "",
                  "5": "Checking",
                  "6": "Active"
                },
                {
                  "0": "50",
                  "1": "Jane Smith",
                  "2": "123 Elm St",
                  "3": "carlos456@sample.net",
                  "4": "555-0100050",
                  "5": "Checking",
                  "6": "Active"
                },
                {
                  "0": "51",
                  "1": "Emma Davis",
                  "2": "789 Pine St",
                  "3": "john137@test.edu",
                  "4": "555-0100051",
                  "5": "Credit",
                  "6": "Dormant"
                },
                {
                  "0": "52",
                  "1": "Alice Johnson",
                  "2": "789 Pine St",
                  "3": "mike384@placeholder.co",
                  "4": "555-0100052",
                  "5": "Credit",
                  "6": "Dormant"
                },
                {
                  "0": "53",
                  "1": "John Doe",
                  "2": "123 Elm St",
                  "3": "emma143@sample.net",
                  "4": "555-0100053",
                  "5": "Credit",
                  "6": "Dormant"
                },
                {
                  "0": "54",
                  "1": "Jane Smith",
                  "2": "123 Elm St",
                  "3": "bob406@example.com",
                  "4": "555-0100054",
                  "5": "Credit",
                  "6": "Dormant"
                },
                {
                  "0": "55",
                  "1": "John Doe",
                  "2": "123 Elm St",
                  "3": "alice234@placeholder.co",
                  "4": "555-0100055",
                  "5": "Savings",
                  "6": "Active"
                },
                {
                  "0": "56",
                  "1": "Alice Johnson",
                  "2": "202 Birch St",
                  "3": "",
                  "4": "",
                  "5": "Savings",
                  "6": "Active"
                },
                {
                  "0": "57",
                  "1": "Alice Johnson",
                  "2": "202 Birch St",
                  "3": "emma80@test.edu",
                  "4": "555-0100057",
                  "5": "Credit",
                  "6": "Dormant"
                },
                {
                  "0": "58",
                  "1": "Bob Brown",
                  "2": "101 Maple St",
                  "3": "sara264@placeholder.co",
                  "4": "555-0100058",
                  "5": "Credit",
                  "6": "Active"
                },
                {
                  "0": "59",
                  "1": "John Doe",
                  "2": "789 Pine St",
                  "3": "laura466@placeholder.co",
                  "4": "555-0100059",
                  "5": "Savings",
                  "6": "Active"
                },
                {
                  "0": "60",
                  "1": "John Doe",
                  "2": "789 Pine St",
                  "3": "carlos202@demo.org",
                  "4": "",
                  "5": "Credit",
                  "6": "Dormant"
                },
                {
                  "0": "61",
                  "1": "Emma Davis",
                  "2": "789 Pine St",
                  "3": "emma119@placeholder.co",
                  "4": "",
                  "5": "Savings",
                  "6": "Active"
                },
                {
                  "0": "62",
                  "1": "Alice Johnson",
                  "2": "456 Oak St",
                  "3": "mike321@placeholder.co",
                  "4": "555-0100062",
                  "5": "Savings",
                  "6": "Active"
                },
                {
                  "0": "63",
                  "1": "Alice Johnson",
                  "2": "456 Oak St",
                  "3": "carlos159@placeholder.co",
                  "4": "555-0100063",
                  "5": "Savings",
                  "6": "Dormant"
                },
                {
                  "0": "64",
                  "1": "Alice Johnson",
                  "2": "123 Elm St",
                  "3": "",
                  "4": "",
                  "5": "Savings",
                  "6": "Active"
                },
                {
                  "0": "65",
                  "1": "Alice Johnson",
                  "2": "789 Pine St",
                  "3": "emma25@demo.org",
                  "4": "555-0100065",
                  "5": "Checking",
                  "6": "Dormant"
                },
                {
                  "0": "66",
                  "1": "Emma Davis",
                  "2": "101 Maple St",
                  "3": "carlos155@sample.net",
                  "4": "555-0100066",
                  "5": "Checking",
                  "6": "Active"
                },
                {
                  "0": "67",
                  "1": "Bob Brown",
                  "2": "101 Maple St",
                  "3": "mike361@test.edu",
                  "4": "",
                  "5": "Credit",
                  "6": "Dormant"
                },
                {
                  "0": "68",
                  "1": "Alice Johnson",
                  "2": "101 Maple St",
                  "3": "carlos437@test.edu",
                  "4": "",
                  "5": "Checking",
                  "6": "Active"
                },
                {
                  "0": "69",
                  "1": "Jane Smith",
                  "2": "456 Oak St",
                  "3": "",
                  "4": "555-0100069",
                  "5": "Checking",
                  "6": "Dormant"
                },
                {
                  "0": "70",
                  "1": "Bob Brown",
                  "2": "456 Oak St",
                  "3": "",
                  "4": "555-0100070",
                  "5": "Savings",
                  "6": "Active"
                },
                {
                  "0": "71",
                  "1": "Emma Davis",
                  "2": "202 Birch St",
                  "3": "",
                  "4": "",
                  "5": "Savings",
                  "6": "Dormant"
                },
                {
                  "0": "72",
                  "1": "Bob Brown",
                  "2": "789 Pine St",
                  "3": "sara229@demo.org",
                  "4": "555-0100072",
                  "5": "None",
                  "6": "Active"
                },
                {
                  "0": "73",
                  "1": "Bob Brown",
                  "2": "789 Pine St",
                  "3": "",
                  "4": "",
                  "5": "None",
                  "6": "Active"
                },
                {
                  "0": "74",
                  "1": "Emma Davis",
                  "2": "789 Pine St",
                  "3": "",
                  "4": "555-0100074",
                  "5": "Checking",
                  "6": "Active"
                },
                {
                  "0": "75",
                  "1": "Jane Smith",
                  "2": "202 Birch St",
                  "3": "carlos15@demo.org",
                  "4": "555-0100075",
                  "5": "Credit",
                  "6": "Dormant"
                },
                {
                  "0": "76",
                  "1": "Alice Johnson",
                  "2": "101 Maple St",
                  "3": "",
                  "4": "555-0100076",
                  "5": "Credit",
                  "6": "Active"
                },
                {
                  "0": "77",
                  "1": "Jane Smith",
                  "2": "101 Maple St",
                  "3": "",
                  "4": "",
                  "5": "Savings",
                  "6": "Active"
                },
                {
                  "0": "78",
                  "1": "Alice Johnson",
                  "2": "202 Birch St",
                  "3": "",
                  "4": "555-0100078",
                  "5": "Credit",
                  "6": "Active"
                },
                {
                  "0": "79",
                  "1": "Emma Davis",
                  "2": "202 Birch St",
                  "3": "",
                  "4": "555-0100079",
                  "5": "Savings",
                  "6": "Dormant"
                },
                {
                  "0": "80",
                  "1": "John Doe",
                  "2": "789 Pine St",
                  "3": "",
                  "4": "555-0100080",
                  "5": "Checking",
                  "6": "Active"
                },
                {
                  "0": "81",
                  "1": "Emma Davis",
                  "2": "202 Birch St",
                  "3": "sara308@test.edu",
                  "4": "555-0100081",
                  "5": "Credit",
                  "6": "Dormant"
                },
                {
                  "0": "82",
                  "1": "Bob Brown",
                  "2": "789 Pine St",
                  "3": "john202@sample.net",
                  "4": "555-0100082",
                  "5": "Credit",
                  "6": "Active"
                },
                {
                  "0": "83",
                  "1": "Alice Johnson",
                  "2": "123 Elm St",
                  "3": "",
                  "4": "555-0100083",
                  "5": "Checking",
                  "6": "Dormant"
                },
                {
                  "0": "84",
                  "1": "Emma Davis",
                  "2": "789 Pine St",
                  "3": "john439@example.com",
                  "4": "555-0100084",
                  "5": "Credit",
                  "6": "Dormant"
                },
                {
                  "0": "85",
                  "1": "Jane Smith",
                  "2": "123 Elm St",
                  "3": "",
                  "4": "555-0100085",
                  "5": "Checking",
                  "6": "Active"
                },
                {
                  "0": "86",
                  "1": "John Doe",
                  "2": "456 Oak St",
                  "3": "dan405@placeholder.co",
                  "4": "555-0100086",
                  "5": "Savings",
                  "6": "Dormant"
                },
                {
                  "0": "87",
                  "1": "Jane Smith",
                  "2": "456 Oak St",
                  "3": "",
                  "4": "",
                  "5": "Savings",
                  "6": "Active"
                },
                {
                  "0": "88",
                  "1": "Jane Smith",
                  "2": "789 Pine St",
                  "3": "mike282@example.com",
                  "4": "",
                  "5": "Checking",
                  "6": "Active"
                },
                {
                  "0": "89",
                  "1": "Bob Brown",
                  "2": "456 Oak St",
                  "3": "mike330@placeholder.co",
                  "4": "",
                  "5": "Credit",
                  "6": "Dormant"
                },
                {
                  "0": "90",
                  "1": "Alice Johnson",
                  "2": "789 Pine St",
                  "3": "sara146@demo.org",
                  "4": "555-0100090",
                  "5": "Checking",
                  "6": "Active"
                },
                {
                  "0": "91",
                  "1": "Alice Johnson",
                  "2": "202 Birch St",
                  "3": "",
                  "4": "555-0100091",
                  "5": "Credit",
                  "6": "Dormant"
                },
                {
                  "0": "92",
                  "1": "Emma Davis",
                  "2": "202 Birch St",
                  "3": "laura445@placeholder.co",
                  "4": "555-0100092",
                  "5": "Savings",
                  "6": "Active"
                },
                {
                  "0": "93",
                  "1": "Bob Brown",
                  "2": "456 Oak St",
                  "3": "dan207@placeholder.co",
                  "4": "555-0100093",
                  "5": "Credit",
                  "6": "Dormant"
                },
                {
                  "0": "94",
                  "1": "Emma Davis",
                  "2": "456 Oak St",
                  "3": "",
                  "4": "",
                  "5": "Credit",
                  "6": "Dormant"
                },
                {
                  "0": "95",
                  "1": "Alice Johnson",
                  "2": "789 Pine St",
                  "3": "mike298@placeholder.co",
                  "4": "555-0100095",
                  "5": "Credit",
                  "6": "Active"
                },
                {
                  "0": "96",
                  "1": "Bob Brown",
                  "2": "123 Elm St",
                  "3": "bob62@test.edu",
                  "4": "555-0100096",
                  "5": "Checking",
                  "6": "Active"
                },
                {
                  "0": "97",
                  "1": "Alice Johnson",
                  "2": "123 Elm St",
                  "3": "emma319@placeholder.co",
                  "4": "",
                  "5": "Credit",
                  "6": "Active"
                },
                {
                  "0": "98",
                  "1": "Bob Brown",
                  "2": "101 Maple St",
                  "3": "bob464@test.edu",
                  "4": "555-0100098",
                  "5": "Savings",
                  "6": "Active"
                },
                {
                  "0": "99",
                  "1": "John Doe",
                  "2": "456 Oak St",
                  "3": "bob444@sample.net",
                  "4": "555-0100099",
                  "5": "Savings",
                  "6": "Active"
                },
                {
                  "0": "100",
                  "1": "John Doe",
                  "2": "456 Oak St",
                  "3": "laura292@test.edu",
                  "4": "555-0100100",
                  "5": "Credit",
                  "6": "Active"
                },
                {
                  "0": "101",
                  "1": "Alice Johnson",
                  "2": "789 Pine St",
                  "3": "alice348@test.edu",
                  "4": "555-0100101",
                  "5": "Credit",
                  "6": "Active"
                },
                {
                  "0": "102",
                  "1": "Bob Brown",
                  "2": "456 Oak St",
                  "3": "",
                  "4": "555-0100102",
                  "5": "Savings",
                  "6": "Dormant"
                },
                {
                  "0": "103",
                  "1": "Emma Davis",
                  "2": "789 Pine St",
                  "3": "dan15@placeholder.co",
                  "4": "555-0100103",
                  "5": "Checking",
                  "6": "None"
                },
                {
                  "0": "104",
                  "1": "John Doe",
                  "2": "None",
                  "3": "bob178@demo.org",
                  "4": "",
                  "5": "Savings",
                  "6": "Dormant"
                },
                {
                  "0": "105",
                  "1": "Emma Davis",
                  "2": "789 Pine St",
                  "3": "",
                  "4": "555-0100105",
                  "5": "Savings",
                  "6": "Active"
                },
                {
                  "0": "106",
                  "1": "John Doe",
                  "2": "123 Elm St",
                  "3": "emma236@demo.org",
                  "4": "555-0100106",
                  "5": "Savings",
                  "6": "Dormant"
                },
                {
                  "0": "107",
                  "1": "Alice Johnson",
                  "2": "202 Birch St",
                  "3": "bob370@test.edu",
                  "4": "",
                  "5": "Savings",
                  "6": "Active"
                },
                {
                  "0": "108",
                  "1": "Emma Davis",
                  "2": "202 Birch St",
                  "3": "mike210@example.com",
                  "4": "",
                  "5": "Savings",
                  "6": "Active"
                },
                {
                  "0": "109",
                  "1": "Bob Brown",
                  "2": "456 Oak St",
                  "3": "laura325@placeholder.co",
                  "4": "555-0100109",
                  "5": "Checking",
                  "6": "Dormant"
                },
                {
                  "0": "110",
                  "1": "John Doe",
                  "2": "123 Elm St",
                  "3": "mike210@test.edu",
                  "4": "555-0100110",
                  "5": "Savings",
                  "6": "Active"
                },
                {
                  "0": "111",
                  "1": "Bob Brown",
                  "2": "202 Birch St",
                  "3": "john473@sample.net",
                  "4": "",
                  "5": "Checking",
                  "6": "Active"
                },
                {
                  "0": "112",
                  "1": "Jane Smith",
                  "2": "202 Birch St",
                  "3": "alice304@placeholder.co",
                  "4": "",
                  "5": "Checking",
                  "6": "Dormant"
                },
                {
                  "0": "113",
                  "1": "Emma Davis",
                  "2": "789 Pine St",
                  "3": "carlos476@example.com",
                  "4": "555-0100113",
                  "5": "Checking",
                  "6": "Active"
                },
                {
                  "0": "114",
                  "1": "John Doe",
                  "2": "202 Birch St",
                  "3": "emma329@placeholder.co",
                  "4": "555-0100114",
                  "5": "Checking",
                  "6": "Dormant"
                },
                {
                  "0": "115",
                  "1": "Bob Brown",
                  "2": "456 Oak St",
                  "3": "alice327@example.com",
                  "4": "555-0100115",
                  "5": "Savings",
                  "6": "Active"
                },
                {
                  "0": "116",
                  "1": "Alice Johnson",
                  "2": "123 Elm St",
                  "3": "emma359@sample.net",
                  "4": "",
                  "5": "Savings",
                  "6": "Dormant"
                },
                {
                  "0": "117",
                  "1": "Jane Smith",
                  "2": "789 Pine St",
                  "3": "bob463@demo.org",
                  "4": "555-0100117",
                  "5": "Checking",
                  "6": "Active"
                },
                {
                  "0": "118",
                  "1": "Jane Smith",
                  "2": "101 Maple St",
                  "3": "bob184@sample.net",
                  "4": "555-0100118",
                  "5": "Credit",
                  "6": "Active"
                },
                {
                  "0": "119",
                  "1": "Bob Brown",
                  "2": "456 Oak St",
                  "3": "jane187@example.com",
                  "4": "555-0100119",
                  "5": "Savings",
                  "6": "Active"
                },
                {
                  "0": "120",
                  "1": "Emma Davis",
                  "2": "789 Pine St",
                  "3": "john414@test.edu",
                  "4": "",
                  "5": "Credit",
                  "6": "Active"
                },
                {
                  "0": "121",
                  "1": "Alice Johnson",
                  "2": "789 Pine St",
                  "3": "emma442@test.edu",
                  "4": "",
                  "5": "None",
                  "6": "Active"
                },
                {
                  "0": "122",
                  "1": "Bob Brown",
                  "2": "101 Maple St",
                  "3": "laura351@placeholder.co",
                  "4": "555-0100122",
                  "5": "Checking",
                  "6": "Dormant"
                },
                {
                  "0": "123",
                  "1": "Bob Brown",
                  "2": "123 Elm St",
                  "3": "laura455@test.edu",
                  "4": "555-0100123",
                  "5": "Savings",
                  "6": "Dormant"
                },
                {
                  "0": "124",
                  "1": "Bob Brown",
                  "2": "101 Maple St",
                  "3": "mike70@example.com",
                  "4": "",
                  "5": "Credit",
                  "6": "Active"
                },
                {
                  "0": "125",
                  "1": "Bob Brown",
                  "2": "101 Maple St",
                  "3": "",
                  "4": "",
                  "5": "Savings",
                  "6": "Dormant"
                },
                {
                  "0": "126",
                  "1": "Bob Brown",
                  "2": "456 Oak St",
                  "3": "dan305@test.edu",
                  "4": "555-0100126",
                  "5": "Savings",
                  "6": "Dormant"
                },
                {
                  "0": "127",
                  "1": "Bob Brown",
                  "2": "456 Oak St",
                  "3": "mike175@sample.net",
                  "4": "",
                  "5": "Savings",
                  "6": "Dormant"
                },
                {
                  "0": "128",
                  "1": "Alice Johnson",
                  "2": "202 Birch St",
                  "3": "jane468@example.com",
                  "4": "",
                  "5": "Credit",
                  "6": "Active"
                },
                {
                  "0": "129",
                  "1": "Alice Johnson",
                  "2": "789 Pine St",
                  "3": "jane359@sample.net",
                  "4": "555-0100129",
                  "5": "Checking",
                  "6": "Dormant"
                },
                {
                  "0": "130",
                  "1": "Bob Brown",
                  "2": "456 Oak St",
                  "3": "mike217@sample.net",
                  "4": "",
                  "5": "Checking",
                  "6": "Active"
                },
                {
                  "0": "131",
                  "1": "Alice Johnson",
                  "2": "789 Pine St",
                  "3": "sara333@test.edu",
                  "4": "",
                  "5": "Credit",
                  "6": "Active"
                },
                {
                  "0": "132",
                  "1": "John Doe",
                  "2": "101 Maple St",
                  "3": "",
                  "4": "555-0100132",
                  "5": "Savings",
                  "6": "Dormant"
                },
                {
                  "0": "133",
                  "1": "John Doe",
                  "2": "456 Oak St",
                  "3": "sara492@test.edu",
                  "4": "555-0100133",
                  "5": "Checking",
                  "6": "Dormant"
                },
                {
                  "0": "134",
                  "1": "Jane Smith",
                  "2": "456 Oak St",
                  "3": "dan319@test.edu",
                  "4": "555-0100134",
                  "5": "Credit",
                  "6": "Active"
                },
                {
                  "0": "135",
                  "1": "John Doe",
                  "2": "101 Maple St",
                  "3": "sara96@example.com",
                  "4": "",
                  "5": "Checking",
                  "6": "Dormant"
                },
                {
                  "0": "136",
                  "1": "Jane Smith",
                  "2": "789 Pine St",
                  "3": "carlos425@placeholder.co",
                  "4": "555-0100136",
                  "5": "Savings",
                  "6": "Dormant"
                },
                {
                  "0": "137",
                  "1": "Alice Johnson",
                  "2": "789 Pine St",
                  "3": "bob18@demo.org",
                  "4": "",
                  "5": "Credit",
                  "6": "Active"
                },
                {
                  "0": "138",
                  "1": "Bob Brown",
                  "2": "123 Elm St",
                  "3": "carlos367@example.com",
                  "4": "555-0100138",
                  "5": "Checking",
                  "6": "Dormant"
                },
                {
                  "0": "139",
                  "1": "Bob Brown",
                  "2": "123 Elm St",
                  "3": "dan305@test.edu",
                  "4": "",
                  "5": "Checking",
                  "6": "Active"
                },
                {
                  "0": "140",
                  "1": "John Doe",
                  "2": "123 Elm St",
                  "3": "dan490@example.com",
                  "4": "",
                  "5": "Checking",
                  "6": "Dormant"
                },
                {
                  "0": "141",
                  "1": "Alice Johnson",
                  "2": "789 Pine St",
                  "3": "carlos298@test.edu",
                  "4": "555-0100141",
                  "5": "Savings",
                  "6": "Active"
                },
                {
                  "0": "142",
                  "1": "Emma Davis",
                  "2": "101 Maple St",
                  "3": "alice31@placeholder.co",
                  "4": "555-0100142",
                  "5": "Checking",
                  "6": "Dormant"
                },
                {
                  "0": "143",
                  "1": "Bob Brown",
                  "2": "202 Birch St",
                  "3": "dan269@example.com",
                  "4": "555-0100143",
                  "5": "Checking",
                  "6": "Dormant"
                },
                {
                  "0": "144",
                  "1": "Alice Johnson",
                  "2": "202 Birch St",
                  "3": "sara356@test.edu",
                  "4": "555-0100144",
                  "5": "Credit",
                  "6": "Active"
                },
                {
                  "0": "145",
                  "1": "Bob Brown",
                  "2": "202 Birch St",
                  "3": "emma432@demo.org",
                  "4": "555-0100145",
                  "5": "Savings",
                  "6": "Dormant"
                },
                {
                  "0": "146",
                  "1": "John Doe",
                  "2": "456 Oak St",
                  "3": "emma96@placeholder.co",
                  "4": "555-0100146",
                  "5": "Credit",
                  "6": "Dormant"
                },
                {
                  "0": "147",
                  "1": "Emma Davis",
                  "2": "202 Birch St",
                  "3": "alice415@example.com",
                  "4": "555-0100147",
                  "5": "Credit",
                  "6": "Dormant"
                },
                {
                  "0": "148",
                  "1": "Bob Brown",
                  "2": "202 Birch St",
                  "3": "emma154@sample.net",
                  "4": "555-0100148",
                  "5": "Credit",
                  "6": "Active"
                },
                {
                  "0": "149",
                  "1": "Alice Johnson",
                  "2": "101 Maple St",
                  "3": "",
                  "4": "555-0100149",
                  "5": "Savings",
                  "6": "Dormant"
                },
                {
                  "0": "150",
                  "1": "Jane Smith",
                  "2": "123 Elm St",
                  "3": "mike403@demo.org",
                  "4": "",
                  "5": "Checking",
                  "6": "Active"
                },
                {
                  "0": "151",
                  "1": "Bob Brown",
                  "2": "101 Maple St",
                  "3": "carlos206@demo.org",
                  "4": "555-0100151",
                  "5": "Savings",
                  "6": "Active"
                },
                {
                  "0": "152",
                  "1": "Jane Smith",
                  "2": "456 Oak St",
                  "3": "john402@demo.org",
                  "4": "555-0100152",
                  "5": "Checking",
                  "6": "Active"
                },
                {
                  "0": "153",
                  "1": "Alice Johnson",
                  "2": "123 Elm St",
                  "3": "carlos46@test.edu",
                  "4": "",
                  "5": "Credit",
                  "6": "None"
                },
                {
                  "0": "154",
                  "1": "Bob Brown",
                  "2": "789 Pine St",
                  "3": "john88@placeholder.co",
                  "4": "555-0100154",
                  "5": "Savings",
                  "6": "Active"
                },
                {
                  "0": "155",
                  "1": "Emma Davis",
                  "2": "789 Pine St",
                  "3": "",
                  "4": "",
                  "5": "Credit",
                  "6": "Active"
                },
                {
                  "0": "156",
                  "1": "John Doe",
                  "2": "456 Oak St",
                  "3": "",
                  "4": "555-0100156",
                  "5": "Savings",
                  "6": "Active"
                },
                {
                  "0": "157",
                  "1": "John Doe",
                  "2": "101 Maple St",
                  "3": "mike320@sample.net",
                  "4": "",
                  "5": "Checking",
                  "6": "Active"
                },
                {
                  "0": "158",
                  "1": "Alice Johnson",
                  "2": "101 Maple St",
                  "3": "laura157@test.edu",
                  "4": "",
                  "5": "Checking",
                  "6": "Active"
                },
                {
                  "0": "159",
                  "1": "Emma Davis",
                  "2": "789 Pine St",
                  "3": "jane438@sample.net",
                  "4": "",
                  "5": "Checking",
                  "6": "Dormant"
                },
                {
                  "0": "160",
                  "1": "Emma Davis",
                  "2": "101 Maple St",
                  "3": "dan2@test.edu",
                  "4": "555-0100160",
                  "5": "Credit",
                  "6": "Dormant"
                },
                {
                  "0": "161",
                  "1": "John Doe",
                  "2": "789 Pine St",
                  "3": "mike265@sample.net",
                  "4": "555-0100161",
                  "5": "Credit",
                  "6": "Active"
                },
                {
                  "0": "162",
                  "1": "Jane Smith",
                  "2": "101 Maple St",
                  "3": "laura437@demo.org",
                  "4": "555-0100162",
                  "5": "Credit",
                  "6": "Active"
                },
                {
                  "0": "163",
                  "1": "Alice Johnson",
                  "2": "456 Oak St",
                  "3": "bob237@sample.net",
                  "4": "555-0100163",
                  "5": "Savings",
                  "6": "Dormant"
                },
                {
                  "0": "164",
                  "1": "Emma Davis",
                  "2": "101 Maple St",
                  "3": "jane102@sample.net",
                  "4": "555-0100164",
                  "5": "Credit",
                  "6": "Active"
                },
                {
                  "0": "165",
                  "1": "Bob Brown",
                  "2": "None",
                  "3": "bob228@placeholder.co",
                  "4": "555-0100165",
                  "5": "Credit",
                  "6": "Active"
                },
                {
                  "0": "166",
                  "1": "Alice Johnson",
                  "2": "101 Maple St",
                  "3": "emma67@demo.org",
                  "4": "555-0100166",
                  "5": "Credit",
                  "6": "Active"
                },
                {
                  "0": "167",
                  "1": "John Doe",
                  "2": "202 Birch St",
                  "3": "sara10@sample.net",
                  "4": "555-0100167",
                  "5": "Checking",
                  "6": "Dormant"
                },
                {
                  "0": "168",
                  "1": "Bob Brown",
                  "2": "202 Birch St",
                  "3": "emma312@example.com",
                  "4": "555-0100168",
                  "5": "Credit",
                  "6": "Active"
                },
                {
                  "0": "169",
                  "1": "Alice Johnson",
                  "2": "789 Pine St",
                  "3": "sara381@example.com",
                  "4": "",
                  "5": "Savings",
                  "6": "Dormant"
                },
                {
                  "0": "170",
                  "1": "Alice Johnson",
                  "2": "456 Oak St",
                  "3": "dan405@sample.net",
                  "4": "555-0100170",
                  "5": "Checking",
                  "6": "Active"
                },
                {
                  "0": "171",
                  "1": "Jane Smith",
                  "2": "456 Oak St",
                  "3": "emma175@test.edu",
                  "4": "555-0100171",
                  "5": "Savings",
                  "6": "Dormant"
                },
                {
                  "0": "172",
                  "1": "Bob Brown",
                  "2": "202 Birch St",
                  "3": "alice306@demo.org",
                  "4": "555-0100172",
                  "5": "Checking",
                  "6": "Dormant"
                },
                {
                  "0": "173",
                  "1": "John Doe",
                  "2": "789 Pine St",
                  "3": "",
                  "4": "555-0100173",
                  "5": "Checking",
                  "6": "Dormant"
                },
                {
                  "0": "174",
                  "1": "Alice Johnson",
                  "2": "456 Oak St",
                  "3": "",
                  "4": "555-0100174",
                  "5": "Credit",
                  "6": "Dormant"
                },
                {
                  "0": "175",
                  "1": "Jane Smith",
                  "2": "456 Oak St",
                  "3": "dan465@sample.net",
                  "4": "",
                  "5": "Checking",
                  "6": "Dormant"
                },
                {
                  "0": "176",
                  "1": "John Doe",
                  "2": "101 Maple St",
                  "3": "john276@placeholder.co",
                  "4": "",
                  "5": "Credit",
                  "6": "None"
                },
                {
                  "0": "177",
                  "1": "Bob Brown",
                  "2": "202 Birch St",
                  "3": "mike20@sample.net",
                  "4": "555-0100177",
                  "5": "Checking",
                  "6": "Dormant"
                },
                {
                  "0": "178",
                  "1": "John Doe",
                  "2": "456 Oak St",
                  "3": "emma334@placeholder.co",
                  "4": "555-0100178",
                  "5": "Savings",
                  "6": "Dormant"
                },
                {
                  "0": "179",
                  "1": "Bob Brown",
                  "2": "202 Birch St",
                  "3": "mike55@sample.net",
                  "4": "555-0100179",
                  "5": "Savings",
                  "6": "Active"
                },
                {
                  "0": "180",
                  "1": "John Doe",
                  "2": "101 Maple St",
                  "3": "laura330@placeholder.co",
                  "4": "",
                  "5": "Checking",
                  "6": "Dormant"
                },
                {
                  "0": "181",
                  "1": "Bob Brown",
                  "2": "202 Birch St",
                  "3": "",
                  "4": "555-0100181",
                  "5": "Credit",
                  "6": "Dormant"
                },
                {
                  "0": "182",
                  "1": "Alice Johnson",
                  "2": "None",
                  "3": "john425@placeholder.co",
                  "4": "555-0100182",
                  "5": "Checking",
                  "6": "Dormant"
                },
                {
                  "0": "183",
                  "1": "Bob Brown",
                  "2": "456 Oak St",
                  "3": "",
                  "4": "555-0100183",
                  "5": "Checking",
                  "6": "Active"
                },
                {
                  "0": "184",
                  "1": "John Doe",
                  "2": "123 Elm St",
                  "3": "mike368@test.edu",
                  "4": "",
                  "5": "Credit",
                  "6": "None"
                },
                {
                  "0": "185",
                  "1": "Emma Davis",
                  "2": "456 Oak St",
                  "3": "john285@demo.org",
                  "4": "",
                  "5": "Checking",
                  "6": "Active"
                },
                {
                  "0": "186",
                  "1": "John Doe",
                  "2": "456 Oak St",
                  "3": "",
                  "4": "555-0100186",
                  "5": "Savings",
                  "6": "Dormant"
                },
                {
                  "0": "187",
                  "1": "John Doe",
                  "2": "101 Maple St",
                  "3": "dan43@example.com",
                  "4": "555-0100187",
                  "5": "Credit",
                  "6": "Dormant"
                },
                {
                  "0": "188",
                  "1": "John Doe",
                  "2": "456 Oak St",
                  "3": "jane121@example.com",
                  "4": "555-0100188",
                  "5": "Savings",
                  "6": "Dormant"
                },
                {
                  "0": "189",
                  "1": "Emma Davis",
                  "2": "202 Birch St",
                  "3": "laura380@example.com",
                  "4": "",
                  "5": "Checking",
                  "6": "Dormant"
                },
                {
                  "0": "190",
                  "1": "John Doe",
                  "2": "456 Oak St",
                  "3": "alice480@placeholder.co",
                  "4": "555-0100190",
                  "5": "Credit",
                  "6": "Dormant"
                },
                {
                  "0": "191",
                  "1": "John Doe",
                  "2": "202 Birch St",
                  "3": "dan410@placeholder.co",
                  "4": "555-0100191",
                  "5": "Checking",
                  "6": "Active"
                },
                {
                  "0": "192",
                  "1": "Alice Johnson",
                  "2": "123 Elm St",
                  "3": "laura380@demo.org",
                  "4": "555-0100192",
                  "5": "Checking",
                  "6": "Active"
                },
                {
                  "0": "193",
                  "1": "Jane Smith",
                  "2": "202 Birch St",
                  "3": "laura235@sample.net",
                  "4": "555-0100193",
                  "5": "Credit",
                  "6": "Active"
                },
                {
                  "0": "194",
                  "1": "Emma Davis",
                  "2": "202 Birch St",
                  "3": "",
                  "4": "555-0100194",
                  "5": "Savings",
                  "6": "Active"
                },
                {
                  "0": "195",
                  "1": "Emma Davis",
                  "2": "101 Maple St",
                  "3": "",
                  "4": "",
                  "5": "Savings",
                  "6": "Active"
                },
                {
                  "0": "196",
                  "1": "John Doe",
                  "2": "101 Maple St",
                  "3": "laura73@placeholder.co",
                  "4": "555-0100196",
                  "5": "Savings",
                  "6": "Active"
                },
                {
                  "0": "197",
                  "1": "Emma Davis",
                  "2": "101 Maple St",
                  "3": "bob323@placeholder.co",
                  "4": "555-0100197",
                  "5": "Savings",
                  "6": "Active"
                },
                {
                  "0": "198",
                  "1": "Emma Davis",
                  "2": "202 Birch St",
                  "3": "john460@sample.net",
                  "4": "",
                  "5": "Checking",
                  "6": "Dormant"
                },
                {
                  "0": "199",
                  "1": "Bob Brown",
                  "2": "456 Oak St",
                  "3": "sara437@example.com",
                  "4": "",
                  "5": "Checking",
                  "6": "Active"
                },
                {
                  "0": "200",
                  "1": "Jane Smith",
                  "2": "101 Maple St",
                  "3": "dan198@placeholder.co",
                  "4": "",
                  "5": "Credit",
                  "6": "Active"
                }
              ],
              "schema": [
                {
                  "key": "0",
                  "name": "Customer_ID",
                  "type": "int"
                },
                {
                  "key": "1",
                  "name": "Name",
                  "type": "string"
                },
                {
                  "key": "2",
                  "name": "Address",
                  "type": "string"
                },
                {
                  "key": "3",
                  "name": "Email",
                  "type": "string"
                },
                {
                  "key": "4",
                  "name": "Phone_Number",
                  "type": "string"
                },
                {
                  "key": "5",
                  "name": "Account_Type",
                  "type": "string"
                },
                {
                  "key": "6",
                  "name": "Account_Status",
                  "type": "string"
                }
              ],
              "truncated": false
            },
            "isSummary": false,
            "language": "scala",
            "wranglerEntryContext": {
              "candidateVariableNames": [
                "df"
              ],
              "dataframeType": "pyspark"
            }
          },
          "persist_state": {
            "view": {
              "type": "details",
              "tableOptions": {},
              "chartOptions": {
                "chartType": "bar",
                "aggregationType": "sum",
                "categoryFieldKeys": [
                  "1"
                ],
                "seriesFieldKeys": [
                  "0"
                ],
                "isStacked": false
              }
            }
          }
        },
        "72a10c81-f6dd-4939-b0ee-01d095f28b0e": {
          "type": "Synapse.DataFrame",
          "sync_state": {
            "table": {
              "rows": [
                {
                  "0": "53",
                  "1": "John Doe",
                  "2": "123 Elm St",
                  "3": "emma143@sample.net",
                  "4": "555-0100053",
                  "5": "Credit",
                  "6": "Dormant",
                  "7": "191",
                  "8": "4497.68",
                  "9": "2025-02-01",
                  "10": "1.26"
                },
                {
                  "0": "108",
                  "1": "Emma Davis",
                  "2": "202 Birch St",
                  "3": "mike210@example.com",
                  "4": "555-1056987",
                  "5": "Savings",
                  "6": "Active",
                  "7": "11",
                  "8": "8268.12",
                  "9": "2024-11-06",
                  "10": "2.32"
                },
                {
                  "0": "34",
                  "1": "Alice Johnson",
                  "2": "123 Elm St",
                  "3": "rajesh@gmail.com",
                  "4": "555-0100034",
                  "5": "Savings",
                  "6": "Dormant",
                  "7": "138",
                  "8": "119.18",
                  "9": "2024-10-08",
                  "10": "4.07"
                },
                {
                  "0": "115",
                  "1": "Bob Brown",
                  "2": "456 Oak St",
                  "3": "alice327@example.com",
                  "4": "555-0100115",
                  "5": "Savings",
                  "6": "Active",
                  "7": "58",
                  "8": "6476.57",
                  "9": "2025-02-26",
                  "10": "3.49"
                },
                {
                  "0": "28",
                  "1": "John Doe",
                  "2": "123 Elm St",
                  "3": "dan437@sample.net",
                  "4": "555-0100028",
                  "5": "Savings",
                  "6": "Active",
                  "7": "153",
                  "8": "7897.38",
                  "9": "2024-10-21",
                  "10": "3.81"
                },
                {
                  "0": "159",
                  "1": "Emma Davis",
                  "2": "789 Pine St",
                  "3": "jane438@sample.net",
                  "4": "555-1056987",
                  "5": "Checking",
                  "6": "Dormant",
                  "7": "15",
                  "8": "5861.67",
                  "9": "2024-10-03",
                  "10": "2.27"
                },
                {
                  "0": "12",
                  "1": "suman das",
                  "2": "456 Oak St",
                  "3": "rajesh@gmail.com",
                  "4": "555-0100012",
                  "5": "Credit",
                  "6": "Dormant",
                  "7": "72",
                  "8": "5716.28",
                  "9": "2024-06-21",
                  "10": "1.82"
                },
                {
                  "0": "177",
                  "1": "Bob Brown",
                  "2": "202 Birch St",
                  "3": "mike20@sample.net",
                  "4": "555-0100177",
                  "5": "Checking",
                  "6": "Dormant",
                  "7": "139",
                  "8": "1602.55",
                  "9": "2025-02-17",
                  "10": "4.31"
                },
                {
                  "0": "152",
                  "1": "Jane Smith",
                  "2": "456 Oak St",
                  "3": "john402@demo.org",
                  "4": "555-0100152",
                  "5": "Checking",
                  "6": "Active",
                  "7": "64",
                  "8": "4606.66",
                  "9": "2024-12-10",
                  "10": "4.66"
                },
                {
                  "0": "86",
                  "1": "John Doe",
                  "2": "456 Oak St",
                  "3": "dan405@placeholder.co",
                  "4": "555-0100086",
                  "5": "Savings",
                  "6": "Dormant",
                  "7": "187",
                  "8": "585.10",
                  "9": "2024-04-20",
                  "10": "2.70"
                },
                {
                  "0": "139",
                  "1": "Bob Brown",
                  "2": "123 Elm St",
                  "3": "dan305@test.edu",
                  "4": "555-1056987",
                  "5": "Checking",
                  "6": "Active",
                  "7": "30",
                  "8": "5091.80",
                  "9": "2024-12-13",
                  "10": "4.96"
                },
                {
                  "0": "41",
                  "1": "Alice Johnson",
                  "2": "202 Birch St",
                  "3": "laura281@sample.net",
                  "4": "555-0100041",
                  "5": "Savings",
                  "6": "Active",
                  "7": "116",
                  "8": "4298.08",
                  "9": "2024-12-10",
                  "10": "1.46"
                },
                {
                  "0": "15",
                  "1": "Bob Brown",
                  "2": "456 Oak St",
                  "3": "sara133@example.com",
                  "4": "555-1056987",
                  "5": "Savings",
                  "6": "Dormant",
                  "7": "47",
                  "8": "4847.18",
                  "9": "2024-12-19",
                  "10": "3.26"
                },
                {
                  "0": "112",
                  "1": "Jane Smith",
                  "2": "202 Birch St",
                  "3": "alice304@placeholder.co",
                  "4": "555-1056987",
                  "5": "Checking",
                  "6": "Dormant",
                  "7": "67",
                  "8": "9348.78",
                  "9": "2024-12-18",
                  "10": "2.64"
                },
                {
                  "0": "165",
                  "1": "Bob Brown",
                  "2": "586 pinegrove rd",
                  "3": "bob228@placeholder.co",
                  "4": "555-0100165",
                  "5": "Credit",
                  "6": "Active",
                  "7": "3",
                  "8": "7481.62",
                  "9": "2024-06-11",
                  "10": "1.90"
                },
                {
                  "0": "196",
                  "1": "John Doe",
                  "2": "101 Maple St",
                  "3": "laura73@placeholder.co",
                  "4": "555-0100196",
                  "5": "Savings",
                  "6": "Active",
                  "7": "145",
                  "8": "8864.05",
                  "9": "2025-01-07",
                  "10": "4.97"
                },
                {
                  "0": "55",
                  "1": "John Doe",
                  "2": "123 Elm St",
                  "3": "alice234@placeholder.co",
                  "4": "555-0100055",
                  "5": "Savings",
                  "6": "Active",
                  "7": "46",
                  "8": "142.78",
                  "9": "2025-03-23",
                  "10": "3.77"
                },
                {
                  "0": "55",
                  "1": "John Doe",
                  "2": "123 Elm St",
                  "3": "alice234@placeholder.co",
                  "4": "555-0100055",
                  "5": "Savings",
                  "6": "Active",
                  "7": "124",
                  "8": "8558.51",
                  "9": "2025-02-09",
                  "10": "2.85"
                },
                {
                  "0": "100",
                  "1": "John Doe",
                  "2": "456 Oak St",
                  "3": "laura292@test.edu",
                  "4": "555-0100100",
                  "5": "Credit",
                  "6": "Active",
                  "7": "48",
                  "8": "6732.85",
                  "9": "2024-07-25",
                  "10": "1.87"
                },
                {
                  "0": "130",
                  "1": "Bob Brown",
                  "2": "456 Oak St",
                  "3": "mike217@sample.net",
                  "4": "555-1056987",
                  "5": "Checking",
                  "6": "Active",
                  "7": "89",
                  "8": "6101.21",
                  "9": "2025-03-06",
                  "10": "4.89"
                },
                {
                  "0": "97",
                  "1": "Alice Johnson",
                  "2": "123 Elm St",
                  "3": "emma319@placeholder.co",
                  "4": "555-1056987",
                  "5": "Credit",
                  "6": "Active",
                  "7": "41",
                  "8": "1789.41",
                  "9": "2024-05-05",
                  "10": "1.96"
                },
                {
                  "0": "102",
                  "1": "Bob Brown",
                  "2": "456 Oak St",
                  "3": "rajesh@gmail.com",
                  "4": "555-0100102",
                  "5": "Savings",
                  "6": "Dormant",
                  "7": "161",
                  "8": "8267.61",
                  "9": "2024-04-27",
                  "10": "2.15"
                },
                {
                  "0": "24",
                  "1": "Alice Johnson",
                  "2": "123 Elm St",
                  "3": "mike461@test.edu",
                  "4": "555-1056987",
                  "5": "Credit",
                  "6": "Dormant",
                  "7": "126",
                  "8": "4827.83",
                  "9": "2024-05-30",
                  "10": "4.42"
                },
                {
                  "0": "143",
                  "1": "Bob Brown",
                  "2": "202 Birch St",
                  "3": "dan269@example.com",
                  "4": "555-0100143",
                  "5": "Checking",
                  "6": "Dormant",
                  "7": "117",
                  "8": "1555.17",
                  "9": "2024-12-02",
                  "10": "4.94"
                },
                {
                  "0": "60",
                  "1": "John Doe",
                  "2": "789 Pine St",
                  "3": "carlos202@demo.org",
                  "4": "555-1056987",
                  "5": "Credit",
                  "6": "Dormant",
                  "7": "110",
                  "8": "5562.20",
                  "9": "2024-08-14",
                  "10": "4.77"
                },
                {
                  "0": "90",
                  "1": "Alice Johnson",
                  "2": "789 Pine St",
                  "3": "sara146@demo.org",
                  "4": "555-0100090",
                  "5": "Checking",
                  "6": "Active",
                  "7": "147",
                  "8": "5563.24",
                  "9": "2024-07-02",
                  "10": "3.70"
                },
                {
                  "0": "90",
                  "1": "Alice Johnson",
                  "2": "789 Pine St",
                  "3": "sara146@demo.org",
                  "4": "555-0100090",
                  "5": "Checking",
                  "6": "Active",
                  "7": "192",
                  "8": "7152.39",
                  "9": "2024-06-29",
                  "10": "4.08"
                },
                {
                  "0": "151",
                  "1": "Bob Brown",
                  "2": "101 Maple St",
                  "3": "carlos206@demo.org",
                  "4": "555-0100151",
                  "5": "Savings",
                  "6": "Active",
                  "7": "28",
                  "8": "9546.80",
                  "9": "2024-06-22",
                  "10": "4.04"
                },
                {
                  "0": "151",
                  "1": "Bob Brown",
                  "2": "101 Maple St",
                  "3": "carlos206@demo.org",
                  "4": "555-0100151",
                  "5": "Savings",
                  "6": "Active",
                  "7": "82",
                  "8": "6738.04",
                  "9": "2024-07-02",
                  "10": "4.92"
                },
                {
                  "0": "151",
                  "1": "Bob Brown",
                  "2": "101 Maple St",
                  "3": "carlos206@demo.org",
                  "4": "555-0100151",
                  "5": "Savings",
                  "6": "Active",
                  "7": "102",
                  "8": "4282.52",
                  "9": "2024-04-08",
                  "10": "1.33"
                },
                {
                  "0": "56",
                  "1": "Alice Johnson",
                  "2": "202 Birch St",
                  "3": "rajesh@gmail.com",
                  "4": "555-1056987",
                  "5": "Savings",
                  "6": "Active",
                  "7": "10",
                  "8": "2195.45",
                  "9": "2024-11-09",
                  "10": "3.52"
                },
                {
                  "0": "105",
                  "1": "Emma Davis",
                  "2": "789 Pine St",
                  "3": "rajesh@gmail.com",
                  "4": "555-0100105",
                  "5": "Savings",
                  "6": "Active",
                  "7": "56",
                  "8": "732.85",
                  "9": "2024-10-01",
                  "10": "1.64"
                },
                {
                  "0": "116",
                  "1": "Alice Johnson",
                  "2": "123 Elm St",
                  "3": "emma359@sample.net",
                  "4": "555-1056987",
                  "5": "Savings",
                  "6": "Dormant",
                  "7": "196",
                  "8": "6395.79",
                  "9": "2024-09-29",
                  "10": "3.80"
                },
                {
                  "0": "123",
                  "1": "Bob Brown",
                  "2": "123 Elm St",
                  "3": "laura455@test.edu",
                  "4": "555-0100123",
                  "5": "Savings",
                  "6": "Dormant",
                  "7": "112",
                  "8": "8300.52",
                  "9": "2024-09-26",
                  "10": "2.34"
                },
                {
                  "0": "119",
                  "1": "Bob Brown",
                  "2": "456 Oak St",
                  "3": "jane187@example.com",
                  "4": "555-0100119",
                  "5": "Savings",
                  "6": "Active",
                  "7": "109",
                  "8": "9905.72",
                  "9": "2025-02-03",
                  "10": "3.01"
                },
                {
                  "0": "79",
                  "1": "Emma Davis",
                  "2": "202 Birch St",
                  "3": "rajesh@gmail.com",
                  "4": "555-0100079",
                  "5": "Savings",
                  "6": "Dormant",
                  "7": "171",
                  "8": "2886.31",
                  "9": "2024-05-23",
                  "10": "4.09"
                },
                {
                  "0": "118",
                  "1": "Jane Smith",
                  "2": "101 Maple St",
                  "3": "bob184@sample.net",
                  "4": "555-0100118",
                  "5": "Credit",
                  "6": "Active",
                  "7": "73",
                  "8": "3274.95",
                  "9": "2024-12-13",
                  "10": "2.86"
                },
                {
                  "0": "186",
                  "1": "John Doe",
                  "2": "456 Oak St",
                  "3": "rajesh@gmail.com",
                  "4": "555-0100186",
                  "5": "Savings",
                  "6": "Dormant",
                  "7": "176",
                  "8": "2033.04",
                  "9": "2025-02-22",
                  "10": "4.85"
                },
                {
                  "0": "172",
                  "1": "Bob Brown",
                  "2": "202 Birch St",
                  "3": "alice306@demo.org",
                  "4": "555-0100172",
                  "5": "Checking",
                  "6": "Dormant",
                  "7": "26",
                  "8": "1507.16",
                  "9": "2024-07-26",
                  "10": "2.99"
                },
                {
                  "0": "144",
                  "1": "Alice Johnson",
                  "2": "202 Birch St",
                  "3": "sara356@test.edu",
                  "4": "555-0100144",
                  "5": "Credit",
                  "6": "Active",
                  "7": "24",
                  "8": "2648.19",
                  "9": "2025-02-19",
                  "10": "4.22"
                },
                {
                  "0": "138",
                  "1": "Bob Brown",
                  "2": "123 Elm St",
                  "3": "carlos367@example.com",
                  "4": "555-0100138",
                  "5": "Checking",
                  "6": "Dormant",
                  "7": "137",
                  "8": "1719.51",
                  "9": "2024-10-13",
                  "10": "4.88"
                },
                {
                  "0": "180",
                  "1": "John Doe",
                  "2": "101 Maple St",
                  "3": "laura330@placeholder.co",
                  "4": "555-1056987",
                  "5": "Checking",
                  "6": "Dormant",
                  "7": "96",
                  "8": "3027.13",
                  "9": "2024-08-28",
                  "10": "4.92"
                },
                {
                  "0": "89",
                  "1": "Bob Brown",
                  "2": "456 Oak St",
                  "3": "mike330@placeholder.co",
                  "4": "555-1056987",
                  "5": "Credit",
                  "6": "Dormant",
                  "7": "200",
                  "8": "9438.83",
                  "9": "2024-12-20",
                  "10": "4.36"
                }
              ],
              "schema": [
                {
                  "key": "0",
                  "name": "Customer_ID",
                  "type": "int"
                },
                {
                  "key": "1",
                  "name": "Name",
                  "type": "string"
                },
                {
                  "key": "2",
                  "name": "Address",
                  "type": "string"
                },
                {
                  "key": "3",
                  "name": "Email",
                  "type": "string"
                },
                {
                  "key": "4",
                  "name": "Phone_Number",
                  "type": "string"
                },
                {
                  "key": "5",
                  "name": "Account_Type",
                  "type": "string"
                },
                {
                  "key": "6",
                  "name": "Account_Status",
                  "type": "string"
                },
                {
                  "key": "7",
                  "name": "Account_ID",
                  "type": "int"
                },
                {
                  "key": "8",
                  "name": "Balance",
                  "type": "decimal"
                },
                {
                  "key": "9",
                  "name": "Account_Creation_Date",
                  "type": "date"
                },
                {
                  "key": "10",
                  "name": "Interest_Rate",
                  "type": "decimal"
                }
              ],
              "truncated": false
            },
            "isSummary": false,
            "language": "scala",
            "wranglerEntryContext": {
              "candidateVariableNames": [
                "df4"
              ],
              "dataframeType": "pyspark"
            }
          },
          "persist_state": {
            "view": {
              "type": "details",
              "tableOptions": {},
              "chartOptions": {
                "chartType": "bar",
                "aggregationType": "sum",
                "categoryFieldKeys": [
                  "1"
                ],
                "seriesFieldKeys": [
                  "0"
                ],
                "isStacked": false
              }
            }
          }
        },
        "d63ea14d-dbef-4800-902c-4716ef33a1ca": {
          "type": "Synapse.DataFrame",
          "sync_state": {
            "table": {
              "rows": [
                {
                  "0": "101",
                  "1": "12",
                  "2": "2023-03-01 09:00:00",
                  "3": "Deposit",
                  "4": "1200.00",
                  "5": "USD",
                  "6": "Online",
                  "7": "Clothing",
                  "8": "101"
                },
                {
                  "0": "102",
                  "1": "45",
                  "2": "2023-03-01 10:00:00",
                  "3": "Withdrawal",
                  "4": "500.00",
                  "5": "CAD",
                  "6": "ATM",
                  "7": "None",
                  "8": "102"
                },
                {
                  "0": "103",
                  "1": "78",
                  "2": "2023-03-01 11:00:00",
                  "3": "Payment",
                  "4": "300.00",
                  "5": "EUR",
                  "6": "Store",
                  "7": "Electronics",
                  "8": "103"
                },
                {
                  "0": "104",
                  "1": "90",
                  "2": "2023-03-01 12:00:00",
                  "3": "Transfer",
                  "4": "1500.00",
                  "5": "GBP",
                  "6": "Online",
                  "7": "None",
                  "8": "104"
                },
                {
                  "0": "105",
                  "1": "33",
                  "2": "2023-03-01 13:00:00",
                  "3": "Deposit",
                  "4": "850.00",
                  "5": "USD",
                  "6": "Online",
                  "7": "Sports",
                  "8": "105"
                },
                {
                  "0": "106",
                  "1": "135",
                  "2": "2024-12-09 07:44:14",
                  "3": "Payment",
                  "4": "3937.67",
                  "5": "USD",
                  "6": "ATM",
                  "7": "Grocery",
                  "8": "181"
                },
                {
                  "0": "107",
                  "1": "416",
                  "2": "2024-10-10 20:44:05",
                  "3": "Deposit",
                  "4": "970.42",
                  "5": "GBP",
                  "6": "Store",
                  "7": "Grocery",
                  "8": "114"
                },
                {
                  "0": "108",
                  "1": "526",
                  "2": "2024-08-21 09:54:17",
                  "3": "Transfer",
                  "4": "3630.46",
                  "5": "GBP",
                  "6": "Online",
                  "7": "Electronics",
                  "8": "211"
                },
                {
                  "0": "109",
                  "1": "819",
                  "2": "2024-06-29 07:38:55",
                  "3": "Payment",
                  "4": "2649.81",
                  "5": "EUR",
                  "6": "Store",
                  "7": "Clothing",
                  "8": "220"
                },
                {
                  "0": "110",
                  "1": "255",
                  "2": "2024-04-24 05:55:37",
                  "3": "Withdrawal",
                  "4": "1929.94",
                  "5": "USD",
                  "6": "Branch",
                  "7": "Clothing",
                  "8": "178"
                },
                {
                  "0": "111",
                  "1": "644",
                  "2": "2024-06-26 13:57:09",
                  "3": "Withdrawal",
                  "4": "4831.58",
                  "5": "USD",
                  "6": "ATM",
                  "7": "Electronics",
                  "8": "234"
                },
                {
                  "0": "112",
                  "1": "319",
                  "2": "2024-09-24 16:54:11",
                  "3": "Payment",
                  "4": "3331.01",
                  "5": "USD",
                  "6": "ATM",
                  "7": "Electronics",
                  "8": "104"
                },
                {
                  "0": "113",
                  "1": "422",
                  "2": "2024-08-09 13:35:22",
                  "3": "Payment",
                  "4": "3189.13",
                  "5": "USD",
                  "6": "ATM",
                  "7": "None",
                  "8": "102"
                },
                {
                  "0": "114",
                  "1": "686",
                  "2": "2024-07-13 12:54:47",
                  "3": "Payment",
                  "4": "2750.47",
                  "5": "CAD",
                  "6": "Online",
                  "7": "Grocery",
                  "8": "246"
                },
                {
                  "0": "115",
                  "1": "495",
                  "2": "2025-02-25 08:48:25",
                  "3": "Deposit",
                  "4": "1862.71",
                  "5": "GBP",
                  "6": "Online",
                  "7": "Electronics",
                  "8": "236"
                },
                {
                  "0": "116",
                  "1": "385",
                  "2": "2025-03-10 03:10:53",
                  "3": "Deposit",
                  "4": "4989.12",
                  "5": "USD",
                  "6": "Branch",
                  "7": "Clothing",
                  "8": "239"
                },
                {
                  "0": "117",
                  "1": "312",
                  "2": "2024-04-03 06:19:40",
                  "3": "Withdrawal",
                  "4": "2481.26",
                  "5": "EUR",
                  "6": "ATM",
                  "7": "None",
                  "8": "236"
                },
                {
                  "0": "118",
                  "1": "216",
                  "2": "2025-03-06 13:39:01",
                  "3": "Withdrawal",
                  "4": "3999.20",
                  "5": "EUR",
                  "6": "Store",
                  "7": "Books",
                  "8": "154"
                },
                {
                  "0": "119",
                  "1": "236",
                  "2": "2024-10-22 22:02:46",
                  "3": "Deposit",
                  "4": "3359.90",
                  "5": "CAD",
                  "6": "Branch",
                  "7": "None",
                  "8": "171"
                },
                {
                  "0": "120",
                  "1": "780",
                  "2": "2025-01-25 15:59:50",
                  "3": "Payment",
                  "4": "745.93",
                  "5": "EUR",
                  "6": "Branch",
                  "7": "Electronics",
                  "8": "135"
                },
                {
                  "0": "121",
                  "1": "185",
                  "2": "2024-06-12 20:48:57",
                  "3": "Deposit",
                  "4": "4795.66",
                  "5": "GBP",
                  "6": "Online",
                  "7": "Electronics",
                  "8": "263"
                },
                {
                  "0": "122",
                  "1": "524",
                  "2": "2024-10-27 15:06:58",
                  "3": "Deposit",
                  "4": "282.72",
                  "5": "EUR",
                  "6": "Store",
                  "7": "Grocery",
                  "8": "106"
                },
                {
                  "0": "123",
                  "1": "339",
                  "2": "2024-12-09 06:32:08",
                  "3": "Payment",
                  "4": "2097.75",
                  "5": "USD",
                  "6": "Online",
                  "7": "Grocery",
                  "8": "292"
                },
                {
                  "0": "124",
                  "1": "927",
                  "2": "2024-10-25 10:17:48",
                  "3": "Deposit",
                  "4": "4112.99",
                  "5": "CAD",
                  "6": "Branch",
                  "7": "None",
                  "8": "241"
                },
                {
                  "0": "125",
                  "1": "249",
                  "2": "2025-02-15 23:54:39",
                  "3": "Withdrawal",
                  "4": "1301.50",
                  "5": "USD",
                  "6": "ATM",
                  "7": "Books",
                  "8": "150"
                },
                {
                  "0": "126",
                  "1": "813",
                  "2": "2024-07-31 12:23:29",
                  "3": "Transfer",
                  "4": "1750.87",
                  "5": "CAD",
                  "6": "ATM",
                  "7": "Books",
                  "8": "151"
                },
                {
                  "0": "127",
                  "1": "101",
                  "2": "2025-02-08 16:17:55",
                  "3": "Withdrawal",
                  "4": "4326.86",
                  "5": "USD",
                  "6": "ATM",
                  "7": "None",
                  "8": "181"
                },
                {
                  "0": "128",
                  "1": "962",
                  "2": "2024-08-17 16:07:32",
                  "3": "Withdrawal",
                  "4": "2603.17",
                  "5": "EUR",
                  "6": "Online",
                  "7": "Grocery",
                  "8": "196"
                },
                {
                  "0": "129",
                  "1": "379",
                  "2": "2024-10-07 07:40:14",
                  "3": "Withdrawal",
                  "4": "2189.53",
                  "5": "USD",
                  "6": "Online",
                  "7": "Clothing",
                  "8": "240"
                },
                {
                  "0": "130",
                  "1": "245",
                  "2": "2025-02-18 17:14:53",
                  "3": "Transfer",
                  "4": "582.69",
                  "5": "USD",
                  "6": "Store",
                  "7": "Electronics",
                  "8": "225"
                },
                {
                  "0": "131",
                  "1": "805",
                  "2": "2024-05-17 12:31:19",
                  "3": "Payment",
                  "4": "4609.79",
                  "5": "GBP",
                  "6": "Online",
                  "7": "None",
                  "8": "146"
                },
                {
                  "0": "132",
                  "1": "210",
                  "2": "2025-01-15 17:48:54",
                  "3": "Withdrawal",
                  "4": "600.18",
                  "5": "CAD",
                  "6": "Store",
                  "7": "Sports",
                  "8": "151"
                },
                {
                  "0": "133",
                  "1": "37",
                  "2": "2024-07-03 17:55:56",
                  "3": "Payment",
                  "4": "1909.74",
                  "5": "USD",
                  "6": "ATM",
                  "7": "Clothing",
                  "8": "175"
                },
                {
                  "0": "134",
                  "1": "244",
                  "2": "2024-12-16 20:16:50",
                  "3": "Withdrawal",
                  "4": "3943.67",
                  "5": "CAD",
                  "6": "Online",
                  "7": "Grocery",
                  "8": "239"
                },
                {
                  "0": "135",
                  "1": "26",
                  "2": "2024-11-26 04:06:14",
                  "3": "Payment",
                  "4": "2798.64",
                  "5": "CAD",
                  "6": "Store",
                  "7": "Electronics",
                  "8": "105"
                },
                {
                  "0": "136",
                  "1": "201",
                  "2": "2024-12-05 00:54:41",
                  "3": "Deposit",
                  "4": "2933.51",
                  "5": "EUR",
                  "6": "ATM",
                  "7": "Grocery",
                  "8": "130"
                },
                {
                  "0": "137",
                  "1": "202",
                  "2": "2024-09-12 04:44:42",
                  "3": "Withdrawal",
                  "4": "3959.44",
                  "5": "EUR",
                  "6": "Store",
                  "7": "Grocery",
                  "8": "142"
                },
                {
                  "0": "138",
                  "1": "476",
                  "2": "2025-03-28 22:19:09",
                  "3": "Withdrawal",
                  "4": "415.92",
                  "5": "USD",
                  "6": "ATM",
                  "7": "Grocery",
                  "8": "150"
                },
                {
                  "0": "139",
                  "1": "970",
                  "2": "2024-10-14 21:35:24",
                  "3": "Transfer",
                  "4": "2415.98",
                  "5": "USD",
                  "6": "Store",
                  "7": "Sports",
                  "8": "149"
                },
                {
                  "0": "140",
                  "1": "59",
                  "2": "2024-05-22 20:06:38",
                  "3": "Transfer",
                  "4": "3672.90",
                  "5": "GBP",
                  "6": "Branch",
                  "7": "None",
                  "8": "257"
                },
                {
                  "0": "141",
                  "1": "720",
                  "2": "2024-07-22 02:43:28",
                  "3": "Deposit",
                  "4": "964.04",
                  "5": "EUR",
                  "6": "ATM",
                  "7": "Books",
                  "8": "129"
                },
                {
                  "0": "142",
                  "1": "610",
                  "2": "2024-05-15 13:53:47",
                  "3": "Withdrawal",
                  "4": "1563.78",
                  "5": "USD",
                  "6": "Online",
                  "7": "None",
                  "8": "138"
                },
                {
                  "0": "143",
                  "1": "495",
                  "2": "2024-06-04 21:38:06",
                  "3": "Transfer",
                  "4": "2160.15",
                  "5": "GBP",
                  "6": "Online",
                  "7": "Clothing",
                  "8": "299"
                },
                {
                  "0": "144",
                  "1": "437",
                  "2": "2024-10-29 19:24:02",
                  "3": "Deposit",
                  "4": "3388.27",
                  "5": "USD",
                  "6": "ATM",
                  "7": "Sports",
                  "8": "208"
                },
                {
                  "0": "145",
                  "1": "163",
                  "2": "2025-03-09 15:47:03",
                  "3": "Transfer",
                  "4": "864.41",
                  "5": "EUR",
                  "6": "Online",
                  "7": "Clothing",
                  "8": "210"
                },
                {
                  "0": "146",
                  "1": "714",
                  "2": "2024-05-13 11:28:02",
                  "3": "Withdrawal",
                  "4": "4958.08",
                  "5": "USD",
                  "6": "Online",
                  "7": "Sports",
                  "8": "262"
                },
                {
                  "0": "147",
                  "1": "709",
                  "2": "2024-07-23 15:53:33",
                  "3": "Deposit",
                  "4": "1637.65",
                  "5": "EUR",
                  "6": "ATM",
                  "7": "Electronics",
                  "8": "266"
                },
                {
                  "0": "148",
                  "1": "549",
                  "2": "2025-02-24 08:41:13",
                  "3": "Withdrawal",
                  "4": "2358.28",
                  "5": "USD",
                  "6": "Online",
                  "7": "Electronics",
                  "8": "128"
                },
                {
                  "0": "149",
                  "1": "643",
                  "2": "2024-07-30 14:19:26",
                  "3": "Withdrawal",
                  "4": "3246.10",
                  "5": "USD",
                  "6": "Store",
                  "7": "None",
                  "8": "130"
                },
                {
                  "0": "150",
                  "1": "413",
                  "2": "2024-09-01 16:53:09",
                  "3": "Withdrawal",
                  "4": "4021.38",
                  "5": "EUR",
                  "6": "ATM",
                  "7": "Sports",
                  "8": "298"
                },
                {
                  "0": "151",
                  "1": "662",
                  "2": "2025-01-28 21:34:41",
                  "3": "Payment",
                  "4": "332.59",
                  "5": "GBP",
                  "6": "Online",
                  "7": "None",
                  "8": "144"
                },
                {
                  "0": "152",
                  "1": "655",
                  "2": "2024-08-18 11:18:57",
                  "3": "Withdrawal",
                  "4": "2801.04",
                  "5": "EUR",
                  "6": "Store",
                  "7": "Sports",
                  "8": "285"
                },
                {
                  "0": "153",
                  "1": "46",
                  "2": "2024-09-14 22:44:47",
                  "3": "Withdrawal",
                  "4": "4628.49",
                  "5": "CAD",
                  "6": "Branch",
                  "7": "Books",
                  "8": "100"
                },
                {
                  "0": "154",
                  "1": "702",
                  "2": "2024-04-18 22:36:04",
                  "3": "Deposit",
                  "4": "852.25",
                  "5": "USD",
                  "6": "Store",
                  "7": "Sports",
                  "8": "295"
                },
                {
                  "0": "155",
                  "1": "254",
                  "2": "2025-02-25 10:58:42",
                  "3": "Payment",
                  "4": "937.84",
                  "5": "CAD",
                  "6": "Store",
                  "7": "Books",
                  "8": "269"
                },
                {
                  "0": "156",
                  "1": "413",
                  "2": "2025-03-15 03:50:42",
                  "3": "Payment",
                  "4": "1152.72",
                  "5": "CAD",
                  "6": "Online",
                  "7": "Sports",
                  "8": "115"
                },
                {
                  "0": "157",
                  "1": "540",
                  "2": "2024-04-14 02:25:00",
                  "3": "Transfer",
                  "4": "3481.12",
                  "5": "CAD",
                  "6": "Store",
                  "7": "Grocery",
                  "8": "204"
                },
                {
                  "0": "158",
                  "1": "55",
                  "2": "2024-08-10 06:57:41",
                  "3": "Payment",
                  "4": "813.72",
                  "5": "EUR",
                  "6": "Branch",
                  "7": "None",
                  "8": "259"
                },
                {
                  "0": "159",
                  "1": "864",
                  "2": "2024-12-19 17:37:10",
                  "3": "Payment",
                  "4": "3512.62",
                  "5": "USD",
                  "6": "Online",
                  "7": "Sports",
                  "8": "171"
                },
                {
                  "0": "160",
                  "1": "814",
                  "2": "2024-09-12 17:27:16",
                  "3": "Payment",
                  "4": "4365.04",
                  "5": "GBP",
                  "6": "Online",
                  "7": "Clothing",
                  "8": "117"
                },
                {
                  "0": "161",
                  "1": "836",
                  "2": "2024-07-22 16:42:06",
                  "3": "Payment",
                  "4": "3406.16",
                  "5": "USD",
                  "6": "ATM",
                  "7": "None",
                  "8": "195"
                },
                {
                  "0": "162",
                  "1": "431",
                  "2": "2024-11-28 00:07:18",
                  "3": "Transfer",
                  "4": "4482.56",
                  "5": "GBP",
                  "6": "Branch",
                  "7": "Clothing",
                  "8": "266"
                },
                {
                  "0": "163",
                  "1": "768",
                  "2": "2024-11-06 05:06:49",
                  "3": "Payment",
                  "4": "3814.01",
                  "5": "EUR",
                  "6": "Online",
                  "7": "Sports",
                  "8": "102"
                },
                {
                  "0": "164",
                  "1": "490",
                  "2": "2024-11-30 06:13:40",
                  "3": "Withdrawal",
                  "4": "2453.90",
                  "5": "EUR",
                  "6": "ATM",
                  "7": "Electronics",
                  "8": "188"
                },
                {
                  "0": "165",
                  "1": "148",
                  "2": "2024-10-25 11:21:53",
                  "3": "Deposit",
                  "4": "2671.54",
                  "5": "USD",
                  "6": "Online",
                  "7": "Sports",
                  "8": "161"
                },
                {
                  "0": "166",
                  "1": "29",
                  "2": "2024-04-04 07:58:44",
                  "3": "Withdrawal",
                  "4": "1817.49",
                  "5": "CAD",
                  "6": "Branch",
                  "7": "Clothing",
                  "8": "148"
                },
                {
                  "0": "167",
                  "1": "794",
                  "2": "2024-10-09 22:02:28",
                  "3": "Withdrawal",
                  "4": "4426.55",
                  "5": "GBP",
                  "6": "Store",
                  "7": "Electronics",
                  "8": "140"
                },
                {
                  "0": "168",
                  "1": "963",
                  "2": "2025-03-08 06:53:58",
                  "3": "Payment",
                  "4": "1310.42",
                  "5": "USD",
                  "6": "ATM",
                  "7": "None",
                  "8": "272"
                },
                {
                  "0": "169",
                  "1": "192",
                  "2": "2024-07-21 02:02:33",
                  "3": "Deposit",
                  "4": "381.55",
                  "5": "GBP",
                  "6": "Store",
                  "7": "Grocery",
                  "8": "206"
                },
                {
                  "0": "170",
                  "1": "167",
                  "2": "2024-08-23 05:59:26",
                  "3": "Deposit",
                  "4": "4346.21",
                  "5": "USD",
                  "6": "Online",
                  "7": "Books",
                  "8": "130"
                },
                {
                  "0": "171",
                  "1": "556",
                  "2": "2024-12-29 11:36:53",
                  "3": "Payment",
                  "4": "2151.04",
                  "5": "GBP",
                  "6": "Store",
                  "7": "Books",
                  "8": "147"
                },
                {
                  "0": "172",
                  "1": "557",
                  "2": "2024-08-03 17:20:56",
                  "3": "Payment",
                  "4": "282.45",
                  "5": "EUR",
                  "6": "Store",
                  "7": "Electronics",
                  "8": "290"
                },
                {
                  "0": "173",
                  "1": "449",
                  "2": "2024-09-28 08:34:18",
                  "3": "Transfer",
                  "4": "1585.57",
                  "5": "CAD",
                  "6": "Online",
                  "7": "None",
                  "8": "197"
                },
                {
                  "0": "174",
                  "1": "876",
                  "2": "2024-12-23 23:48:58",
                  "3": "Withdrawal",
                  "4": "4360.92",
                  "5": "CAD",
                  "6": "Branch",
                  "7": "Electronics",
                  "8": "241"
                },
                {
                  "0": "175",
                  "1": "572",
                  "2": "2024-07-23 13:06:31",
                  "3": "Transfer",
                  "4": "2765.31",
                  "5": "EUR",
                  "6": "Store",
                  "7": "None",
                  "8": "261"
                },
                {
                  "0": "176",
                  "1": "213",
                  "2": "2024-11-23 01:40:02",
                  "3": "Payment",
                  "4": "630.67",
                  "5": "USD",
                  "6": "Branch",
                  "7": "Electronics",
                  "8": "218"
                },
                {
                  "0": "177",
                  "1": "568",
                  "2": "2025-02-10 15:10:53",
                  "3": "Deposit",
                  "4": "332.94",
                  "5": "GBP",
                  "6": "Online",
                  "7": "Sports",
                  "8": "249"
                },
                {
                  "0": "178",
                  "1": "885",
                  "2": "2024-11-20 00:52:05",
                  "3": "Withdrawal",
                  "4": "1279.82",
                  "5": "GBP",
                  "6": "Store",
                  "7": "Sports",
                  "8": "291"
                },
                {
                  "0": "179",
                  "1": "414",
                  "2": "2025-02-25 08:56:44",
                  "3": "Transfer",
                  "4": "1009.47",
                  "5": "EUR",
                  "6": "ATM",
                  "7": "Grocery",
                  "8": "221"
                },
                {
                  "0": "180",
                  "1": "918",
                  "2": "2024-05-09 12:02:16",
                  "3": "Withdrawal",
                  "4": "2645.14",
                  "5": "USD",
                  "6": "Branch",
                  "7": "Sports",
                  "8": "288"
                },
                {
                  "0": "181",
                  "1": "51",
                  "2": "2025-03-15 17:40:38",
                  "3": "Withdrawal",
                  "4": "2483.00",
                  "5": "USD",
                  "6": "Branch",
                  "7": "Sports",
                  "8": "209"
                },
                {
                  "0": "182",
                  "1": "614",
                  "2": "2024-04-15 12:53:40",
                  "3": "Withdrawal",
                  "4": "2012.05",
                  "5": "USD",
                  "6": "Store",
                  "7": "None",
                  "8": "217"
                },
                {
                  "0": "183",
                  "1": "531",
                  "2": "2025-01-15 14:15:16",
                  "3": "Payment",
                  "4": "1463.95",
                  "5": "GBP",
                  "6": "Online",
                  "7": "Books",
                  "8": "177"
                },
                {
                  "0": "184",
                  "1": "32",
                  "2": "2025-03-30 20:55:40",
                  "3": "Withdrawal",
                  "4": "217.69",
                  "5": "GBP",
                  "6": "ATM",
                  "7": "None",
                  "8": "275"
                },
                {
                  "0": "185",
                  "1": "503",
                  "2": "2024-12-20 06:55:25",
                  "3": "Transfer",
                  "4": "626.03",
                  "5": "CAD",
                  "6": "Branch",
                  "7": "Electronics",
                  "8": "271"
                },
                {
                  "0": "186",
                  "1": "698",
                  "2": "2025-01-03 19:51:40",
                  "3": "Payment",
                  "4": "3440.63",
                  "5": "CAD",
                  "6": "Store",
                  "7": "Electronics",
                  "8": "155"
                },
                {
                  "0": "187",
                  "1": "400",
                  "2": "2024-09-07 09:59:02",
                  "3": "Deposit",
                  "4": "1232.83",
                  "5": "USD",
                  "6": "Online",
                  "7": "Grocery",
                  "8": "238"
                },
                {
                  "0": "188",
                  "1": "283",
                  "2": "2024-05-01 07:47:27",
                  "3": "Payment",
                  "4": "3433.28",
                  "5": "EUR",
                  "6": "Online",
                  "7": "Clothing",
                  "8": "126"
                },
                {
                  "0": "189",
                  "1": "502",
                  "2": "2024-08-20 20:41:30",
                  "3": "Transfer",
                  "4": "3677.86",
                  "5": "EUR",
                  "6": "Branch",
                  "7": "Grocery",
                  "8": "178"
                },
                {
                  "0": "190",
                  "1": "984",
                  "2": "2025-02-02 04:44:32",
                  "3": "Deposit",
                  "4": "2485.95",
                  "5": "EUR",
                  "6": "Store",
                  "7": "None",
                  "8": "165"
                },
                {
                  "0": "191",
                  "1": "466",
                  "2": "2024-04-08 00:24:25",
                  "3": "Deposit",
                  "4": "1344.11",
                  "5": "EUR",
                  "6": "Store",
                  "7": "Books",
                  "8": "111"
                },
                {
                  "0": "192",
                  "1": "194",
                  "2": "2024-06-28 21:57:56",
                  "3": "Withdrawal",
                  "4": "1854.92",
                  "5": "CAD",
                  "6": "Online",
                  "7": "Clothing",
                  "8": "121"
                },
                {
                  "0": "193",
                  "1": "973",
                  "2": "2024-06-18 22:30:30",
                  "3": "Transfer",
                  "4": "4157.34",
                  "5": "CAD",
                  "6": "Online",
                  "7": "Books",
                  "8": "143"
                },
                {
                  "0": "194",
                  "1": "601",
                  "2": "2025-02-27 04:32:16",
                  "3": "Transfer",
                  "4": "4284.45",
                  "5": "USD",
                  "6": "Branch",
                  "7": "Electronics",
                  "8": "259"
                },
                {
                  "0": "195",
                  "1": "914",
                  "2": "2024-06-12 09:00:36",
                  "3": "Payment",
                  "4": "1005.20",
                  "5": "EUR",
                  "6": "Store",
                  "7": "Clothing",
                  "8": "264"
                },
                {
                  "0": "196",
                  "1": "322",
                  "2": "2024-09-14 07:45:14",
                  "3": "Deposit",
                  "4": "765.51",
                  "5": "USD",
                  "6": "Store",
                  "7": "Sports",
                  "8": "202"
                },
                {
                  "0": "197",
                  "1": "742",
                  "2": "2025-01-25 20:41:43",
                  "3": "Payment",
                  "4": "2680.19",
                  "5": "EUR",
                  "6": "Branch",
                  "7": "Electronics",
                  "8": "189"
                },
                {
                  "0": "198",
                  "1": "957",
                  "2": "2024-09-13 16:05:28",
                  "3": "Withdrawal",
                  "4": "1915.77",
                  "5": "USD",
                  "6": "Store",
                  "7": "Clothing",
                  "8": "140"
                },
                {
                  "0": "199",
                  "1": "397",
                  "2": "2024-04-19 22:10:01",
                  "3": "Withdrawal",
                  "4": "4239.93",
                  "5": "GBP",
                  "6": "Store",
                  "7": "Sports",
                  "8": "253"
                },
                {
                  "0": "200",
                  "1": "522",
                  "2": "2024-08-03 14:29:37",
                  "3": "Withdrawal",
                  "4": "1358.25",
                  "5": "USD",
                  "6": "Online",
                  "7": "None",
                  "8": "130"
                },
                {
                  "0": "201",
                  "1": "579",
                  "2": "2024-07-27 00:26:15",
                  "3": "Payment",
                  "4": "2178.53",
                  "5": "USD",
                  "6": "Branch",
                  "7": "Electronics",
                  "8": "141"
                },
                {
                  "0": "202",
                  "1": "173",
                  "2": "2024-11-24 10:46:03",
                  "3": "Transfer",
                  "4": "169.15",
                  "5": "CAD",
                  "6": "ATM",
                  "7": "Sports",
                  "8": "197"
                },
                {
                  "0": "203",
                  "1": "618",
                  "2": "2025-03-04 03:24:29",
                  "3": "Deposit",
                  "4": "3574.38",
                  "5": "USD",
                  "6": "Store",
                  "7": "Books",
                  "8": "157"
                },
                {
                  "0": "204",
                  "1": "806",
                  "2": "2025-03-11 20:51:10",
                  "3": "Deposit",
                  "4": "261.04",
                  "5": "GBP",
                  "6": "ATM",
                  "7": "Grocery",
                  "8": "263"
                },
                {
                  "0": "205",
                  "1": "967",
                  "2": "2024-08-17 07:26:35",
                  "3": "Payment",
                  "4": "4271.93",
                  "5": "GBP",
                  "6": "Branch",
                  "7": "None",
                  "8": "137"
                },
                {
                  "0": "206",
                  "1": "217",
                  "2": "2024-04-19 15:19:54",
                  "3": "Transfer",
                  "4": "2937.30",
                  "5": "USD",
                  "6": "Online",
                  "7": "Grocery",
                  "8": "151"
                },
                {
                  "0": "207",
                  "1": "979",
                  "2": "2024-11-05 09:34:21",
                  "3": "Transfer",
                  "4": "796.55",
                  "5": "GBP",
                  "6": "ATM",
                  "7": "Electronics",
                  "8": "116"
                },
                {
                  "0": "208",
                  "1": "495",
                  "2": "2024-07-04 23:02:29",
                  "3": "Transfer",
                  "4": "3591.09",
                  "5": "EUR",
                  "6": "ATM",
                  "7": "Clothing",
                  "8": "205"
                },
                {
                  "0": "209",
                  "1": "225",
                  "2": "2024-11-15 10:12:32",
                  "3": "Transfer",
                  "4": "4998.59",
                  "5": "CAD",
                  "6": "ATM",
                  "7": "Electronics",
                  "8": "186"
                },
                {
                  "0": "210",
                  "1": "629",
                  "2": "2025-02-07 19:02:45",
                  "3": "Transfer",
                  "4": "3913.62",
                  "5": "GBP",
                  "6": "Online",
                  "7": "Sports",
                  "8": "213"
                },
                {
                  "0": "211",
                  "1": "774",
                  "2": "2024-12-21 05:28:54",
                  "3": "Transfer",
                  "4": "3121.63",
                  "5": "CAD",
                  "6": "Branch",
                  "7": "None",
                  "8": "204"
                },
                {
                  "0": "212",
                  "1": "564",
                  "2": "2024-08-29 04:47:49",
                  "3": "Deposit",
                  "4": "1227.79",
                  "5": "GBP",
                  "6": "Online",
                  "7": "Sports",
                  "8": "279"
                },
                {
                  "0": "213",
                  "1": "770",
                  "2": "2024-09-14 18:04:53",
                  "3": "Transfer",
                  "4": "2282.14",
                  "5": "CAD",
                  "6": "Store",
                  "7": "Clothing",
                  "8": "187"
                },
                {
                  "0": "214",
                  "1": "599",
                  "2": "2025-02-26 03:47:19",
                  "3": "Payment",
                  "4": "1945.31",
                  "5": "EUR",
                  "6": "Store",
                  "7": "Sports",
                  "8": "134"
                },
                {
                  "0": "215",
                  "1": "607",
                  "2": "2025-03-01 12:22:38",
                  "3": "Payment",
                  "4": "726.35",
                  "5": "USD",
                  "6": "Branch",
                  "7": "Sports",
                  "8": "185"
                },
                {
                  "0": "216",
                  "1": "554",
                  "2": "2024-09-03 15:33:34",
                  "3": "Payment",
                  "4": "2788.74",
                  "5": "CAD",
                  "6": "ATM",
                  "7": "Grocery",
                  "8": "295"
                },
                {
                  "0": "217",
                  "1": "676",
                  "2": "2024-05-10 10:14:35",
                  "3": "Payment",
                  "4": "165.08",
                  "5": "EUR",
                  "6": "Online",
                  "7": "Books",
                  "8": "258"
                },
                {
                  "0": "218",
                  "1": "387",
                  "2": "2024-12-26 04:12:13",
                  "3": "Payment",
                  "4": "1265.71",
                  "5": "USD",
                  "6": "ATM",
                  "7": "Books",
                  "8": "198"
                },
                {
                  "0": "219",
                  "1": "344",
                  "2": "2024-10-12 07:58:49",
                  "3": "Deposit",
                  "4": "4902.05",
                  "5": "USD",
                  "6": "ATM",
                  "7": "None",
                  "8": "153"
                },
                {
                  "0": "220",
                  "1": "225",
                  "2": "2025-02-04 21:09:43",
                  "3": "Payment",
                  "4": "4761.60",
                  "5": "EUR",
                  "6": "Store",
                  "7": "Books",
                  "8": "277"
                },
                {
                  "0": "221",
                  "1": "39",
                  "2": "2024-07-17 21:59:00",
                  "3": "Transfer",
                  "4": "3191.56",
                  "5": "CAD",
                  "6": "Online",
                  "7": "Electronics",
                  "8": "258"
                },
                {
                  "0": "222",
                  "1": "987",
                  "2": "2024-07-29 16:56:55",
                  "3": "Transfer",
                  "4": "4195.84",
                  "5": "CAD",
                  "6": "Branch",
                  "7": "Sports",
                  "8": "100"
                },
                {
                  "0": "223",
                  "1": "173",
                  "2": "2024-05-18 02:54:16",
                  "3": "Withdrawal",
                  "4": "2917.75",
                  "5": "CAD",
                  "6": "Store",
                  "7": "None",
                  "8": "275"
                },
                {
                  "0": "224",
                  "1": "837",
                  "2": "2024-12-22 00:24:17",
                  "3": "Payment",
                  "4": "339.37",
                  "5": "CAD",
                  "6": "Store",
                  "7": "Clothing",
                  "8": "243"
                },
                {
                  "0": "225",
                  "1": "111",
                  "2": "2024-09-02 20:21:57",
                  "3": "Transfer",
                  "4": "2516.52",
                  "5": "EUR",
                  "6": "Online",
                  "7": "None",
                  "8": "168"
                },
                {
                  "0": "226",
                  "1": "662",
                  "2": "2024-07-31 13:32:41",
                  "3": "Transfer",
                  "4": "2624.52",
                  "5": "EUR",
                  "6": "Store",
                  "7": "Electronics",
                  "8": "268"
                },
                {
                  "0": "227",
                  "1": "499",
                  "2": "2024-05-21 08:16:37",
                  "3": "Transfer",
                  "4": "4802.79",
                  "5": "EUR",
                  "6": "Online",
                  "7": "Clothing",
                  "8": "206"
                },
                {
                  "0": "228",
                  "1": "984",
                  "2": "2024-07-28 21:08:43",
                  "3": "Deposit",
                  "4": "1666.51",
                  "5": "USD",
                  "6": "ATM",
                  "7": "Electronics",
                  "8": "245"
                },
                {
                  "0": "229",
                  "1": "147",
                  "2": "2025-02-01 00:30:46",
                  "3": "Deposit",
                  "4": "896.18",
                  "5": "CAD",
                  "6": "Branch",
                  "7": "Grocery",
                  "8": "166"
                },
                {
                  "0": "230",
                  "1": "424",
                  "2": "2024-04-29 01:48:32",
                  "3": "Payment",
                  "4": "330.09",
                  "5": "EUR",
                  "6": "Store",
                  "7": "Electronics",
                  "8": "140"
                },
                {
                  "0": "231",
                  "1": "567",
                  "2": "2024-06-16 09:31:35",
                  "3": "Transfer",
                  "4": "4050.57",
                  "5": "USD",
                  "6": "Store",
                  "7": "Sports",
                  "8": "130"
                },
                {
                  "0": "232",
                  "1": "98",
                  "2": "2025-01-22 19:15:45",
                  "3": "Withdrawal",
                  "4": "1235.56",
                  "5": "GBP",
                  "6": "ATM",
                  "7": "Clothing",
                  "8": "255"
                },
                {
                  "0": "233",
                  "1": "15",
                  "2": "2025-03-23 21:08:24",
                  "3": "Transfer",
                  "4": "863.20",
                  "5": "GBP",
                  "6": "Store",
                  "7": "None",
                  "8": "206"
                },
                {
                  "0": "234",
                  "1": "147",
                  "2": "2024-10-31 16:53:50",
                  "3": "Withdrawal",
                  "4": "1684.70",
                  "5": "EUR",
                  "6": "Store",
                  "7": "Grocery",
                  "8": "182"
                },
                {
                  "0": "235",
                  "1": "411",
                  "2": "2025-03-23 16:51:15",
                  "3": "Deposit",
                  "4": "2417.19",
                  "5": "GBP",
                  "6": "Online",
                  "7": "Books",
                  "8": "182"
                },
                {
                  "0": "236",
                  "1": "613",
                  "2": "2024-06-01 18:41:38",
                  "3": "Transfer",
                  "4": "350.15",
                  "5": "EUR",
                  "6": "Branch",
                  "7": "Clothing",
                  "8": "204"
                },
                {
                  "0": "237",
                  "1": "71",
                  "2": "2024-10-10 12:32:07",
                  "3": "Transfer",
                  "4": "2617.98",
                  "5": "EUR",
                  "6": "Branch",
                  "7": "Books",
                  "8": "228"
                },
                {
                  "0": "238",
                  "1": "170",
                  "2": "2024-10-10 11:36:35",
                  "3": "Transfer",
                  "4": "128.44",
                  "5": "GBP",
                  "6": "Branch",
                  "7": "None",
                  "8": "256"
                },
                {
                  "0": "239",
                  "1": "559",
                  "2": "2024-04-25 01:31:48",
                  "3": "Withdrawal",
                  "4": "4135.29",
                  "5": "USD",
                  "6": "Branch",
                  "7": "Clothing",
                  "8": "285"
                },
                {
                  "0": "240",
                  "1": "73",
                  "2": "2025-03-18 12:20:30",
                  "3": "Payment",
                  "4": "4531.92",
                  "5": "USD",
                  "6": "Store",
                  "7": "Clothing",
                  "8": "196"
                },
                {
                  "0": "241",
                  "1": "537",
                  "2": "2024-07-18 17:54:40",
                  "3": "Transfer",
                  "4": "3249.03",
                  "5": "CAD",
                  "6": "Online",
                  "7": "None",
                  "8": "271"
                },
                {
                  "0": "242",
                  "1": "312",
                  "2": "2024-12-19 11:57:42",
                  "3": "Deposit",
                  "4": "1491.60",
                  "5": "EUR",
                  "6": "Branch",
                  "7": "Sports",
                  "8": "261"
                },
                {
                  "0": "243",
                  "1": "707",
                  "2": "2024-08-22 03:28:46",
                  "3": "Transfer",
                  "4": "3023.97",
                  "5": "EUR",
                  "6": "ATM",
                  "7": "Sports",
                  "8": "286"
                },
                {
                  "0": "244",
                  "1": "299",
                  "2": "2024-12-01 09:50:22",
                  "3": "Deposit",
                  "4": "2692.63",
                  "5": "GBP",
                  "6": "Store",
                  "7": "Clothing",
                  "8": "262"
                },
                {
                  "0": "245",
                  "1": "576",
                  "2": "2024-10-23 19:52:10",
                  "3": "Deposit",
                  "4": "1698.15",
                  "5": "CAD",
                  "6": "Branch",
                  "7": "Books",
                  "8": "274"
                },
                {
                  "0": "246",
                  "1": "203",
                  "2": "2024-08-05 02:57:37",
                  "3": "Payment",
                  "4": "3190.45",
                  "5": "EUR",
                  "6": "Branch",
                  "7": "Books",
                  "8": "284"
                },
                {
                  "0": "247",
                  "1": "431",
                  "2": "2024-04-09 06:48:02",
                  "3": "Withdrawal",
                  "4": "1112.52",
                  "5": "USD",
                  "6": "ATM",
                  "7": "Clothing",
                  "8": "250"
                },
                {
                  "0": "248",
                  "1": "785",
                  "2": "2025-03-24 11:11:42",
                  "3": "Transfer",
                  "4": "3782.42",
                  "5": "EUR",
                  "6": "Branch",
                  "7": "Sports",
                  "8": "265"
                },
                {
                  "0": "249",
                  "1": "815",
                  "2": "2024-10-13 16:54:24",
                  "3": "Payment",
                  "4": "2680.06",
                  "5": "EUR",
                  "6": "Branch",
                  "7": "Sports",
                  "8": "270"
                },
                {
                  "0": "250",
                  "1": "146",
                  "2": "2024-06-14 16:51:19",
                  "3": "Deposit",
                  "4": "1616.90",
                  "5": "GBP",
                  "6": "ATM",
                  "7": "Grocery",
                  "8": "117"
                },
                {
                  "0": "251",
                  "1": "427",
                  "2": "2024-06-10 05:43:15",
                  "3": "Deposit",
                  "4": "1077.66",
                  "5": "CAD",
                  "6": "Branch",
                  "7": "Clothing",
                  "8": "218"
                },
                {
                  "0": "252",
                  "1": "625",
                  "2": "2024-05-05 00:06:33",
                  "3": "Deposit",
                  "4": "2589.72",
                  "5": "CAD",
                  "6": "Store",
                  "7": "Books",
                  "8": "153"
                },
                {
                  "0": "253",
                  "1": "273",
                  "2": "2024-10-28 14:07:34",
                  "3": "Deposit",
                  "4": "2280.79",
                  "5": "EUR",
                  "6": "ATM",
                  "7": "Books",
                  "8": "297"
                },
                {
                  "0": "254",
                  "1": "842",
                  "2": "2025-01-17 10:03:03",
                  "3": "Payment",
                  "4": "548.92",
                  "5": "CAD",
                  "6": "Branch",
                  "7": "Clothing",
                  "8": "255"
                },
                {
                  "0": "255",
                  "1": "886",
                  "2": "2024-10-17 14:32:32",
                  "3": "Payment",
                  "4": "1913.76",
                  "5": "GBP",
                  "6": "ATM",
                  "7": "None",
                  "8": "228"
                },
                {
                  "0": "256",
                  "1": "496",
                  "2": "2024-09-17 10:50:55",
                  "3": "Transfer",
                  "4": "2994.46",
                  "5": "USD",
                  "6": "Store",
                  "7": "Clothing",
                  "8": "266"
                },
                {
                  "0": "257",
                  "1": "717",
                  "2": "2024-09-22 20:38:05",
                  "3": "Payment",
                  "4": "430.85",
                  "5": "CAD",
                  "6": "Branch",
                  "7": "Electronics",
                  "8": "210"
                },
                {
                  "0": "258",
                  "1": "369",
                  "2": "2024-08-30 16:03:58",
                  "3": "Payment",
                  "4": "2354.85",
                  "5": "CAD",
                  "6": "Store",
                  "7": "Electronics",
                  "8": "280"
                },
                {
                  "0": "259",
                  "1": "931",
                  "2": "2024-05-10 05:42:19",
                  "3": "Withdrawal",
                  "4": "668.00",
                  "5": "GBP",
                  "6": "Online",
                  "7": "Sports",
                  "8": "276"
                },
                {
                  "0": "260",
                  "1": "499",
                  "2": "2025-03-23 13:04:22",
                  "3": "Transfer",
                  "4": "2087.68",
                  "5": "GBP",
                  "6": "Online",
                  "7": "None",
                  "8": "278"
                },
                {
                  "0": "261",
                  "1": "234",
                  "2": "2024-12-06 18:37:58",
                  "3": "Payment",
                  "4": "4183.29",
                  "5": "USD",
                  "6": "ATM",
                  "7": "Electronics",
                  "8": "191"
                },
                {
                  "0": "262",
                  "1": "687",
                  "2": "2024-07-29 08:06:39",
                  "3": "Deposit",
                  "4": "4219.28",
                  "5": "USD",
                  "6": "Store",
                  "7": "Sports",
                  "8": "243"
                },
                {
                  "0": "263",
                  "1": "219",
                  "2": "2024-09-18 01:38:35",
                  "3": "Withdrawal",
                  "4": "2615.35",
                  "5": "EUR",
                  "6": "Store",
                  "7": "Electronics",
                  "8": "104"
                },
                {
                  "0": "264",
                  "1": "856",
                  "2": "2024-11-23 21:54:50",
                  "3": "Transfer",
                  "4": "4905.07",
                  "5": "EUR",
                  "6": "Branch",
                  "7": "Sports",
                  "8": "256"
                },
                {
                  "0": "265",
                  "1": "812",
                  "2": "2024-06-09 11:14:40",
                  "3": "Withdrawal",
                  "4": "4340.31",
                  "5": "CAD",
                  "6": "Branch",
                  "7": "Electronics",
                  "8": "155"
                },
                {
                  "0": "266",
                  "1": "635",
                  "2": "2024-08-16 04:31:12",
                  "3": "Deposit",
                  "4": "1466.67",
                  "5": "EUR",
                  "6": "Online",
                  "7": "None",
                  "8": "247"
                },
                {
                  "0": "267",
                  "1": "480",
                  "2": "2024-08-28 06:11:26",
                  "3": "Transfer",
                  "4": "4374.10",
                  "5": "USD",
                  "6": "Store",
                  "7": "Electronics",
                  "8": "187"
                },
                {
                  "0": "268",
                  "1": "100",
                  "2": "2024-08-11 05:39:49",
                  "3": "Deposit",
                  "4": "3435.84",
                  "5": "GBP",
                  "6": "Online",
                  "7": "Clothing",
                  "8": "150"
                },
                {
                  "0": "269",
                  "1": "598",
                  "2": "2024-08-10 03:28:44",
                  "3": "Payment",
                  "4": "4662.61",
                  "5": "EUR",
                  "6": "Branch",
                  "7": "Electronics",
                  "8": "118"
                },
                {
                  "0": "270",
                  "1": "89",
                  "2": "2024-10-28 23:20:52",
                  "3": "Deposit",
                  "4": "749.45",
                  "5": "USD",
                  "6": "Online",
                  "7": "None",
                  "8": "249"
                },
                {
                  "0": "271",
                  "1": "955",
                  "2": "2024-11-13 19:58:10",
                  "3": "Transfer",
                  "4": "4646.37",
                  "5": "GBP",
                  "6": "Store",
                  "7": "None",
                  "8": "204"
                },
                {
                  "0": "272",
                  "1": "715",
                  "2": "2024-12-19 02:58:56",
                  "3": "Transfer",
                  "4": "4409.23",
                  "5": "CAD",
                  "6": "Online",
                  "7": "Clothing",
                  "8": "277"
                },
                {
                  "0": "273",
                  "1": "719",
                  "2": "2024-06-12 16:21:12",
                  "3": "Withdrawal",
                  "4": "2905.74",
                  "5": "GBP",
                  "6": "Branch",
                  "7": "Books",
                  "8": "184"
                },
                {
                  "0": "274",
                  "1": "916",
                  "2": "2024-05-06 12:11:55",
                  "3": "Transfer",
                  "4": "586.48",
                  "5": "GBP",
                  "6": "Branch",
                  "7": "Clothing",
                  "8": "214"
                },
                {
                  "0": "275",
                  "1": "499",
                  "2": "2025-01-12 17:31:00",
                  "3": "Deposit",
                  "4": "648.86",
                  "5": "CAD",
                  "6": "Store",
                  "7": "Books",
                  "8": "269"
                },
                {
                  "0": "276",
                  "1": "25",
                  "2": "2025-02-12 10:26:51",
                  "3": "Payment",
                  "4": "3781.00",
                  "5": "EUR",
                  "6": "Online",
                  "7": "Clothing",
                  "8": "288"
                },
                {
                  "0": "277",
                  "1": "8",
                  "2": "2025-03-13 13:16:44",
                  "3": "Withdrawal",
                  "4": "570.25",
                  "5": "CAD",
                  "6": "ATM",
                  "7": "None",
                  "8": "188"
                },
                {
                  "0": "278",
                  "1": "265",
                  "2": "2024-04-27 04:54:28",
                  "3": "Withdrawal",
                  "4": "297.78",
                  "5": "GBP",
                  "6": "Store",
                  "7": "None",
                  "8": "149"
                },
                {
                  "0": "279",
                  "1": "604",
                  "2": "2024-09-24 01:09:48",
                  "3": "Transfer",
                  "4": "1758.29",
                  "5": "CAD",
                  "6": "ATM",
                  "7": "Electronics",
                  "8": "234"
                },
                {
                  "0": "280",
                  "1": "337",
                  "2": "2024-04-30 19:38:03",
                  "3": "Withdrawal",
                  "4": "253.56",
                  "5": "USD",
                  "6": "Branch",
                  "7": "None",
                  "8": "101"
                },
                {
                  "0": "281",
                  "1": "305",
                  "2": "2024-07-21 17:51:56",
                  "3": "Withdrawal",
                  "4": "2615.02",
                  "5": "CAD",
                  "6": "Branch",
                  "7": "Electronics",
                  "8": "142"
                },
                {
                  "0": "282",
                  "1": "444",
                  "2": "2025-02-04 10:27:42",
                  "3": "Transfer",
                  "4": "1239.19",
                  "5": "CAD",
                  "6": "Online",
                  "7": "None",
                  "8": "272"
                },
                {
                  "0": "283",
                  "1": "995",
                  "2": "2025-03-07 20:56:57",
                  "3": "Transfer",
                  "4": "1882.46",
                  "5": "USD",
                  "6": "Online",
                  "7": "Grocery",
                  "8": "167"
                },
                {
                  "0": "284",
                  "1": "903",
                  "2": "2024-07-29 21:03:16",
                  "3": "Transfer",
                  "4": "1682.86",
                  "5": "CAD",
                  "6": "Branch",
                  "7": "None",
                  "8": "162"
                },
                {
                  "0": "285",
                  "1": "897",
                  "2": "2024-10-15 22:42:03",
                  "3": "Deposit",
                  "4": "3122.06",
                  "5": "CAD",
                  "6": "Online",
                  "7": "None",
                  "8": "125"
                },
                {
                  "0": "286",
                  "1": "595",
                  "2": "2024-07-05 18:09:00",
                  "3": "Transfer",
                  "4": "4685.86",
                  "5": "EUR",
                  "6": "Branch",
                  "7": "Grocery",
                  "8": "148"
                },
                {
                  "0": "287",
                  "1": "100",
                  "2": "2025-01-19 23:22:19",
                  "3": "Deposit",
                  "4": "3777.87",
                  "5": "GBP",
                  "6": "Branch",
                  "7": "Clothing",
                  "8": "154"
                },
                {
                  "0": "288",
                  "1": "383",
                  "2": "2024-04-10 07:18:47",
                  "3": "Withdrawal",
                  "4": "3677.92",
                  "5": "USD",
                  "6": "Store",
                  "7": "Books",
                  "8": "243"
                },
                {
                  "0": "289",
                  "1": "396",
                  "2": "2024-09-07 15:33:35",
                  "3": "Payment",
                  "4": "1168.17",
                  "5": "EUR",
                  "6": "Online",
                  "7": "None",
                  "8": "259"
                },
                {
                  "0": "290",
                  "1": "93",
                  "2": "2024-06-14 04:10:03",
                  "3": "Payment",
                  "4": "4090.01",
                  "5": "GBP",
                  "6": "ATM",
                  "7": "Clothing",
                  "8": "241"
                },
                {
                  "0": "291",
                  "1": "395",
                  "2": "2025-03-03 20:11:09",
                  "3": "Withdrawal",
                  "4": "3910.62",
                  "5": "EUR",
                  "6": "Branch",
                  "7": "Electronics",
                  "8": "188"
                },
                {
                  "0": "292",
                  "1": "806",
                  "2": "2024-04-24 02:25:54",
                  "3": "Withdrawal",
                  "4": "3140.82",
                  "5": "CAD",
                  "6": "Branch",
                  "7": "None",
                  "8": "287"
                },
                {
                  "0": "293",
                  "1": "148",
                  "2": "2024-05-30 09:55:16",
                  "3": "Withdrawal",
                  "4": "1009.53",
                  "5": "CAD",
                  "6": "Online",
                  "7": "Clothing",
                  "8": "288"
                },
                {
                  "0": "294",
                  "1": "599",
                  "2": "2024-04-16 17:33:20",
                  "3": "Transfer",
                  "4": "2495.35",
                  "5": "USD",
                  "6": "Store",
                  "7": "Sports",
                  "8": "201"
                },
                {
                  "0": "295",
                  "1": "972",
                  "2": "2025-03-23 06:45:30",
                  "3": "Withdrawal",
                  "4": "4192.83",
                  "5": "USD",
                  "6": "ATM",
                  "7": "Electronics",
                  "8": "237"
                },
                {
                  "0": "296",
                  "1": "816",
                  "2": "2025-01-23 12:20:39",
                  "3": "Withdrawal",
                  "4": "3584.25",
                  "5": "EUR",
                  "6": "Branch",
                  "7": "Clothing",
                  "8": "109"
                },
                {
                  "0": "297",
                  "1": "146",
                  "2": "2025-01-01 22:33:38",
                  "3": "Withdrawal",
                  "4": "1565.87",
                  "5": "USD",
                  "6": "Online",
                  "7": "Books",
                  "8": "179"
                },
                {
                  "0": "298",
                  "1": "849",
                  "2": "2024-08-26 16:37:49",
                  "3": "Deposit",
                  "4": "4999.97",
                  "5": "USD",
                  "6": "Branch",
                  "7": "Books",
                  "8": "295"
                },
                {
                  "0": "299",
                  "1": "393",
                  "2": "2025-03-03 18:43:42",
                  "3": "Withdrawal",
                  "4": "382.26",
                  "5": "CAD",
                  "6": "ATM",
                  "7": "None",
                  "8": "290"
                },
                {
                  "0": "300",
                  "1": "648",
                  "2": "2024-06-24 18:05:12",
                  "3": "Payment",
                  "4": "1047.01",
                  "5": "GBP",
                  "6": "Online",
                  "7": "Clothing",
                  "8": "170"
                },
                {
                  "0": "301",
                  "1": "8",
                  "2": "2024-12-12 15:05:08",
                  "3": "Payment",
                  "4": "4656.03",
                  "5": "CAD",
                  "6": "Store",
                  "7": "Electronics",
                  "8": "162"
                },
                {
                  "0": "302",
                  "1": "650",
                  "2": "2024-06-19 16:48:11",
                  "3": "Withdrawal",
                  "4": "1351.11",
                  "5": "EUR",
                  "6": "Online",
                  "7": "Clothing",
                  "8": "104"
                },
                {
                  "0": "303",
                  "1": "500",
                  "2": "2025-01-30 21:24:36",
                  "3": "Deposit",
                  "4": "3302.87",
                  "5": "USD",
                  "6": "Store",
                  "7": "Grocery",
                  "8": "122"
                },
                {
                  "0": "304",
                  "1": "573",
                  "2": "2024-12-14 03:37:15",
                  "3": "Transfer",
                  "4": "3664.33",
                  "5": "EUR",
                  "6": "ATM",
                  "7": "Clothing",
                  "8": "218"
                },
                {
                  "0": "305",
                  "1": "933",
                  "2": "2024-07-03 02:51:08",
                  "3": "Withdrawal",
                  "4": "303.06",
                  "5": "GBP",
                  "6": "Branch",
                  "7": "None",
                  "8": "159"
                }
              ],
              "schema": [
                {
                  "key": "0",
                  "name": "Transaction_ID",
                  "type": "int"
                },
                {
                  "key": "1",
                  "name": "Customer_ID",
                  "type": "int"
                },
                {
                  "key": "2",
                  "name": "Date_and_Time",
                  "type": "timestamp"
                },
                {
                  "key": "3",
                  "name": "Transaction_Type",
                  "type": "string"
                },
                {
                  "key": "4",
                  "name": "Amount",
                  "type": "decimal"
                },
                {
                  "key": "5",
                  "name": "Currency",
                  "type": "string"
                },
                {
                  "key": "6",
                  "name": "Location",
                  "type": "string"
                },
                {
                  "key": "7",
                  "name": "Merchant_Category",
                  "type": "string"
                },
                {
                  "key": "8",
                  "name": "Product_ID",
                  "type": "int"
                }
              ],
              "truncated": false
            },
            "isSummary": false,
            "language": "scala",
            "wranglerEntryContext": {
              "candidateVariableNames": [
                "df5"
              ],
              "dataframeType": "pyspark"
            }
          },
          "persist_state": {
            "view": {
              "type": "details",
              "tableOptions": {},
              "chartOptions": {
                "chartType": "bar",
                "aggregationType": "sum",
                "categoryFieldKeys": [
                  "1"
                ],
                "seriesFieldKeys": [
                  "0"
                ],
                "isStacked": false
              }
            }
          }
        },
        "efd58b8a-a799-4080-ba44-ce1ea6e07d34": {
          "type": "Synapse.DataFrame",
          "sync_state": {
            "table": {
              "rows": [
                {
                  "0": "86",
                  "1": "John Doe",
                  "2": "456 Oak St",
                  "3": "dan405@placeholder.co",
                  "4": "555-0100086",
                  "5": "Savings",
                  "6": "Dormant",
                  "7": "187",
                  "8": "585.10",
                  "9": "2024-04-20",
                  "10": "2.70"
                },
                {
                  "0": "180",
                  "1": "John Doe",
                  "2": "101 Maple St",
                  "3": "laura330@placeholder.co",
                  "4": "555-1056987",
                  "5": "Checking",
                  "6": "Dormant",
                  "7": "96",
                  "8": "3027.13",
                  "9": "2024-08-28",
                  "10": "4.92"
                },
                {
                  "0": "100",
                  "1": "John Doe",
                  "2": "456 Oak St",
                  "3": "laura292@test.edu",
                  "4": "555-0100100",
                  "5": "Credit",
                  "6": "Active",
                  "7": "48",
                  "8": "6732.85",
                  "9": "2024-07-25",
                  "10": "1.87",
                  "11": "287",
                  "12": "2025-01-19 23:22:19",
                  "13": "Deposit",
                  "14": "3777.87",
                  "15": "GBP",
                  "16": "Branch",
                  "17": "Clothing",
                  "18": "154"
                },
                {
                  "0": "100",
                  "1": "John Doe",
                  "2": "456 Oak St",
                  "3": "laura292@test.edu",
                  "4": "555-0100100",
                  "5": "Credit",
                  "6": "Active",
                  "7": "48",
                  "8": "6732.85",
                  "9": "2024-07-25",
                  "10": "1.87",
                  "11": "268",
                  "12": "2024-08-11 05:39:49",
                  "13": "Deposit",
                  "14": "3435.84",
                  "15": "GBP",
                  "16": "Online",
                  "17": "Clothing",
                  "18": "150"
                },
                {
                  "0": "89",
                  "1": "Bob Brown",
                  "2": "456 Oak St",
                  "3": "mike330@placeholder.co",
                  "4": "555-1056987",
                  "5": "Credit",
                  "6": "Dormant",
                  "7": "200",
                  "8": "9438.83",
                  "9": "2024-12-20",
                  "10": "4.36",
                  "11": "270",
                  "12": "2024-10-28 23:20:52",
                  "13": "Deposit",
                  "14": "749.45",
                  "15": "USD",
                  "16": "Online",
                  "17": "None",
                  "18": "249"
                },
                {
                  "0": "123",
                  "1": "Bob Brown",
                  "2": "123 Elm St",
                  "3": "laura455@test.edu",
                  "4": "555-0100123",
                  "5": "Savings",
                  "6": "Dormant",
                  "7": "112",
                  "8": "8300.52",
                  "9": "2024-09-26",
                  "10": "2.34"
                },
                {
                  "0": "115",
                  "1": "Bob Brown",
                  "2": "456 Oak St",
                  "3": "alice327@example.com",
                  "4": "555-0100115",
                  "5": "Savings",
                  "6": "Active",
                  "7": "58",
                  "8": "6476.57",
                  "9": "2025-02-26",
                  "10": "3.49"
                },
                {
                  "0": "159",
                  "1": "Emma Davis",
                  "2": "789 Pine St",
                  "3": "jane438@sample.net",
                  "4": "555-1056987",
                  "5": "Checking",
                  "6": "Dormant",
                  "7": "15",
                  "8": "5861.67",
                  "9": "2024-10-03",
                  "10": "2.27"
                },
                {
                  "0": "97",
                  "1": "Alice Johnson",
                  "2": "123 Elm St",
                  "3": "emma319@placeholder.co",
                  "4": "555-1056987",
                  "5": "Credit",
                  "6": "Active",
                  "7": "41",
                  "8": "1789.41",
                  "9": "2024-05-05",
                  "10": "1.96"
                },
                {
                  "0": "53",
                  "1": "John Doe",
                  "2": "123 Elm St",
                  "3": "emma143@sample.net",
                  "4": "555-0100053",
                  "5": "Credit",
                  "6": "Dormant",
                  "7": "191",
                  "8": "4497.68",
                  "9": "2025-02-01",
                  "10": "1.26"
                },
                {
                  "0": "172",
                  "1": "Bob Brown",
                  "2": "202 Birch St",
                  "3": "alice306@demo.org",
                  "4": "555-0100172",
                  "5": "Checking",
                  "6": "Dormant",
                  "7": "26",
                  "8": "1507.16",
                  "9": "2024-07-26",
                  "10": "2.99"
                },
                {
                  "0": "139",
                  "1": "Bob Brown",
                  "2": "123 Elm St",
                  "3": "dan305@test.edu",
                  "4": "555-1056987",
                  "5": "Checking",
                  "6": "Active",
                  "7": "30",
                  "8": "5091.80",
                  "9": "2024-12-13",
                  "10": "4.96"
                },
                {
                  "0": "151",
                  "1": "Bob Brown",
                  "2": "101 Maple St",
                  "3": "carlos206@demo.org",
                  "4": "555-0100151",
                  "5": "Savings",
                  "6": "Active",
                  "7": "102",
                  "8": "4282.52",
                  "9": "2024-04-08",
                  "10": "1.33"
                },
                {
                  "0": "151",
                  "1": "Bob Brown",
                  "2": "101 Maple St",
                  "3": "carlos206@demo.org",
                  "4": "555-0100151",
                  "5": "Savings",
                  "6": "Active",
                  "7": "82",
                  "8": "6738.04",
                  "9": "2024-07-02",
                  "10": "4.92"
                },
                {
                  "0": "151",
                  "1": "Bob Brown",
                  "2": "101 Maple St",
                  "3": "carlos206@demo.org",
                  "4": "555-0100151",
                  "5": "Savings",
                  "6": "Active",
                  "7": "28",
                  "8": "9546.80",
                  "9": "2024-06-22",
                  "10": "4.04"
                },
                {
                  "0": "34",
                  "1": "Alice Johnson",
                  "2": "123 Elm St",
                  "3": "rajesh@gmail.com",
                  "4": "555-0100034",
                  "5": "Savings",
                  "6": "Dormant",
                  "7": "138",
                  "8": "119.18",
                  "9": "2024-10-08",
                  "10": "4.07"
                },
                {
                  "0": "143",
                  "1": "Bob Brown",
                  "2": "202 Birch St",
                  "3": "dan269@example.com",
                  "4": "555-0100143",
                  "5": "Checking",
                  "6": "Dormant",
                  "7": "117",
                  "8": "1555.17",
                  "9": "2024-12-02",
                  "10": "4.94"
                },
                {
                  "0": "152",
                  "1": "Jane Smith",
                  "2": "456 Oak St",
                  "3": "john402@demo.org",
                  "4": "555-0100152",
                  "5": "Checking",
                  "6": "Active",
                  "7": "64",
                  "8": "4606.66",
                  "9": "2024-12-10",
                  "10": "4.66"
                },
                {
                  "0": "116",
                  "1": "Alice Johnson",
                  "2": "123 Elm St",
                  "3": "emma359@sample.net",
                  "4": "555-1056987",
                  "5": "Savings",
                  "6": "Dormant",
                  "7": "196",
                  "8": "6395.79",
                  "9": "2024-09-29",
                  "10": "3.80"
                },
                {
                  "0": "118",
                  "1": "Jane Smith",
                  "2": "101 Maple St",
                  "3": "bob184@sample.net",
                  "4": "555-0100118",
                  "5": "Credit",
                  "6": "Active",
                  "7": "73",
                  "8": "3274.95",
                  "9": "2024-12-13",
                  "10": "2.86"
                },
                {
                  "0": "90",
                  "1": "Alice Johnson",
                  "2": "789 Pine St",
                  "3": "sara146@demo.org",
                  "4": "555-0100090",
                  "5": "Checking",
                  "6": "Active",
                  "7": "192",
                  "8": "7152.39",
                  "9": "2024-06-29",
                  "10": "4.08",
                  "11": "104",
                  "12": "2023-03-01 12:00:00",
                  "13": "Transfer",
                  "14": "1500.00",
                  "15": "GBP",
                  "16": "Online",
                  "17": "None",
                  "18": "104"
                },
                {
                  "0": "90",
                  "1": "Alice Johnson",
                  "2": "789 Pine St",
                  "3": "sara146@demo.org",
                  "4": "555-0100090",
                  "5": "Checking",
                  "6": "Active",
                  "7": "147",
                  "8": "5563.24",
                  "9": "2024-07-02",
                  "10": "3.70",
                  "11": "104",
                  "12": "2023-03-01 12:00:00",
                  "13": "Transfer",
                  "14": "1500.00",
                  "15": "GBP",
                  "16": "Online",
                  "17": "None",
                  "18": "104"
                },
                {
                  "0": "12",
                  "1": "suman das",
                  "2": "456 Oak St",
                  "3": "rajesh@gmail.com",
                  "4": "555-0100012",
                  "5": "Credit",
                  "6": "Dormant",
                  "7": "72",
                  "8": "5716.28",
                  "9": "2024-06-21",
                  "10": "1.82",
                  "11": "101",
                  "12": "2023-03-01 09:00:00",
                  "13": "Deposit",
                  "14": "1200.00",
                  "15": "USD",
                  "16": "Online",
                  "17": "Clothing",
                  "18": "101"
                },
                {
                  "0": "186",
                  "1": "John Doe",
                  "2": "456 Oak St",
                  "3": "rajesh@gmail.com",
                  "4": "555-0100186",
                  "5": "Savings",
                  "6": "Dormant",
                  "7": "176",
                  "8": "2033.04",
                  "9": "2025-02-22",
                  "10": "4.85"
                },
                {
                  "0": "102",
                  "1": "Bob Brown",
                  "2": "456 Oak St",
                  "3": "rajesh@gmail.com",
                  "4": "555-0100102",
                  "5": "Savings",
                  "6": "Dormant",
                  "7": "161",
                  "8": "8267.61",
                  "9": "2024-04-27",
                  "10": "2.15"
                },
                {
                  "0": "119",
                  "1": "Bob Brown",
                  "2": "456 Oak St",
                  "3": "jane187@example.com",
                  "4": "555-0100119",
                  "5": "Savings",
                  "6": "Active",
                  "7": "109",
                  "8": "9905.72",
                  "9": "2025-02-03",
                  "10": "3.01"
                },
                {
                  "0": "24",
                  "1": "Alice Johnson",
                  "2": "123 Elm St",
                  "3": "mike461@test.edu",
                  "4": "555-1056987",
                  "5": "Credit",
                  "6": "Dormant",
                  "7": "126",
                  "8": "4827.83",
                  "9": "2024-05-30",
                  "10": "4.42"
                },
                {
                  "0": "112",
                  "1": "Jane Smith",
                  "2": "202 Birch St",
                  "3": "alice304@placeholder.co",
                  "4": "555-1056987",
                  "5": "Checking",
                  "6": "Dormant",
                  "7": "67",
                  "8": "9348.78",
                  "9": "2024-12-18",
                  "10": "2.64"
                },
                {
                  "0": "144",
                  "1": "Alice Johnson",
                  "2": "202 Birch St",
                  "3": "sara356@test.edu",
                  "4": "555-0100144",
                  "5": "Credit",
                  "6": "Active",
                  "7": "24",
                  "8": "2648.19",
                  "9": "2025-02-19",
                  "10": "4.22"
                },
                {
                  "0": "28",
                  "1": "John Doe",
                  "2": "123 Elm St",
                  "3": "dan437@sample.net",
                  "4": "555-0100028",
                  "5": "Savings",
                  "6": "Active",
                  "7": "153",
                  "8": "7897.38",
                  "9": "2024-10-21",
                  "10": "3.81"
                },
                {
                  "0": "105",
                  "1": "Emma Davis",
                  "2": "789 Pine St",
                  "3": "rajesh@gmail.com",
                  "4": "555-0100105",
                  "5": "Savings",
                  "6": "Active",
                  "7": "56",
                  "8": "732.85",
                  "9": "2024-10-01",
                  "10": "1.64"
                },
                {
                  "0": "108",
                  "1": "Emma Davis",
                  "2": "202 Birch St",
                  "3": "mike210@example.com",
                  "4": "555-1056987",
                  "5": "Savings",
                  "6": "Active",
                  "7": "11",
                  "8": "8268.12",
                  "9": "2024-11-06",
                  "10": "2.32"
                },
                {
                  "0": "177",
                  "1": "Bob Brown",
                  "2": "202 Birch St",
                  "3": "mike20@sample.net",
                  "4": "555-0100177",
                  "5": "Checking",
                  "6": "Dormant",
                  "7": "139",
                  "8": "1602.55",
                  "9": "2025-02-17",
                  "10": "4.31"
                },
                {
                  "0": "130",
                  "1": "Bob Brown",
                  "2": "456 Oak St",
                  "3": "mike217@sample.net",
                  "4": "555-1056987",
                  "5": "Checking",
                  "6": "Active",
                  "7": "89",
                  "8": "6101.21",
                  "9": "2025-03-06",
                  "10": "4.89"
                },
                {
                  "0": "196",
                  "1": "John Doe",
                  "2": "101 Maple St",
                  "3": "laura73@placeholder.co",
                  "4": "555-0100196",
                  "5": "Savings",
                  "6": "Active",
                  "7": "145",
                  "8": "8864.05",
                  "9": "2025-01-07",
                  "10": "4.97"
                },
                {
                  "0": "165",
                  "1": "Bob Brown",
                  "2": "586 pinegrove rd",
                  "3": "bob228@placeholder.co",
                  "4": "555-0100165",
                  "5": "Credit",
                  "6": "Active",
                  "7": "3",
                  "8": "7481.62",
                  "9": "2024-06-11",
                  "10": "1.90"
                },
                {
                  "0": "41",
                  "1": "Alice Johnson",
                  "2": "202 Birch St",
                  "3": "laura281@sample.net",
                  "4": "555-0100041",
                  "5": "Savings",
                  "6": "Active",
                  "7": "116",
                  "8": "4298.08",
                  "9": "2024-12-10",
                  "10": "1.46"
                },
                {
                  "0": "60",
                  "1": "John Doe",
                  "2": "789 Pine St",
                  "3": "carlos202@demo.org",
                  "4": "555-1056987",
                  "5": "Credit",
                  "6": "Dormant",
                  "7": "110",
                  "8": "5562.20",
                  "9": "2024-08-14",
                  "10": "4.77"
                },
                {
                  "0": "79",
                  "1": "Emma Davis",
                  "2": "202 Birch St",
                  "3": "rajesh@gmail.com",
                  "4": "555-0100079",
                  "5": "Savings",
                  "6": "Dormant",
                  "7": "171",
                  "8": "2886.31",
                  "9": "2024-05-23",
                  "10": "4.09"
                },
                {
                  "0": "55",
                  "1": "John Doe",
                  "2": "123 Elm St",
                  "3": "alice234@placeholder.co",
                  "4": "555-0100055",
                  "5": "Savings",
                  "6": "Active",
                  "7": "124",
                  "8": "8558.51",
                  "9": "2025-02-09",
                  "10": "2.85",
                  "11": "158",
                  "12": "2024-08-10 06:57:41",
                  "13": "Payment",
                  "14": "813.72",
                  "15": "EUR",
                  "16": "Branch",
                  "17": "None",
                  "18": "259"
                },
                {
                  "0": "55",
                  "1": "John Doe",
                  "2": "123 Elm St",
                  "3": "alice234@placeholder.co",
                  "4": "555-0100055",
                  "5": "Savings",
                  "6": "Active",
                  "7": "46",
                  "8": "142.78",
                  "9": "2025-03-23",
                  "10": "3.77",
                  "11": "158",
                  "12": "2024-08-10 06:57:41",
                  "13": "Payment",
                  "14": "813.72",
                  "15": "EUR",
                  "16": "Branch",
                  "17": "None",
                  "18": "259"
                },
                {
                  "0": "15",
                  "1": "Bob Brown",
                  "2": "456 Oak St",
                  "3": "sara133@example.com",
                  "4": "555-1056987",
                  "5": "Savings",
                  "6": "Dormant",
                  "7": "47",
                  "8": "4847.18",
                  "9": "2024-12-19",
                  "10": "3.26",
                  "11": "233",
                  "12": "2025-03-23 21:08:24",
                  "13": "Transfer",
                  "14": "863.20",
                  "15": "GBP",
                  "16": "Store",
                  "17": "None",
                  "18": "206"
                },
                {
                  "0": "56",
                  "1": "Alice Johnson",
                  "2": "202 Birch St",
                  "3": "rajesh@gmail.com",
                  "4": "555-1056987",
                  "5": "Savings",
                  "6": "Active",
                  "7": "10",
                  "8": "2195.45",
                  "9": "2024-11-09",
                  "10": "3.52"
                },
                {
                  "0": "138",
                  "1": "Bob Brown",
                  "2": "123 Elm St",
                  "3": "carlos367@example.com",
                  "4": "555-0100138",
                  "5": "Checking",
                  "6": "Dormant",
                  "7": "137",
                  "8": "1719.51",
                  "9": "2024-10-13",
                  "10": "4.88"
                }
              ],
              "schema": [
                {
                  "key": "0",
                  "name": "Customer_ID",
                  "type": "int"
                },
                {
                  "key": "1",
                  "name": "Name",
                  "type": "string"
                },
                {
                  "key": "2",
                  "name": "Address",
                  "type": "string"
                },
                {
                  "key": "3",
                  "name": "Email",
                  "type": "string"
                },
                {
                  "key": "4",
                  "name": "Phone_Number",
                  "type": "string"
                },
                {
                  "key": "5",
                  "name": "Account_Type",
                  "type": "string"
                },
                {
                  "key": "6",
                  "name": "Account_Status",
                  "type": "string"
                },
                {
                  "key": "7",
                  "name": "Account_ID",
                  "type": "int"
                },
                {
                  "key": "8",
                  "name": "Balance",
                  "type": "decimal"
                },
                {
                  "key": "9",
                  "name": "Account_Creation_Date",
                  "type": "date"
                },
                {
                  "key": "10",
                  "name": "Interest_Rate",
                  "type": "decimal"
                },
                {
                  "key": "11",
                  "name": "Transaction_ID",
                  "type": "int"
                },
                {
                  "key": "12",
                  "name": "Date_and_Time",
                  "type": "timestamp"
                },
                {
                  "key": "13",
                  "name": "Transaction_Type",
                  "type": "string"
                },
                {
                  "key": "14",
                  "name": "Amount",
                  "type": "decimal"
                },
                {
                  "key": "15",
                  "name": "Currency",
                  "type": "string"
                },
                {
                  "key": "16",
                  "name": "Location",
                  "type": "string"
                },
                {
                  "key": "17",
                  "name": "Merchant_Category",
                  "type": "string"
                },
                {
                  "key": "18",
                  "name": "Product_ID",
                  "type": "int"
                }
              ],
              "truncated": false
            },
            "isSummary": false,
            "language": "scala",
            "wranglerEntryContext": {
              "candidateVariableNames": [
                "df6"
              ],
              "dataframeType": "pyspark"
            }
          },
          "persist_state": {
            "view": {
              "type": "details",
              "tableOptions": {},
              "chartOptions": {
                "chartType": "bar",
                "aggregationType": "sum",
                "categoryFieldKeys": [
                  "1"
                ],
                "seriesFieldKeys": [
                  "0"
                ],
                "isStacked": false
              }
            }
          }
        },
        "778f3675-57e0-49f3-a57b-7765ed446a4b": {
          "type": "Synapse.DataFrame",
          "sync_state": {
            "table": {
              "rows": [
                {
                  "0": "86",
                  "1": "John Doe",
                  "2": "456 Oak St",
                  "3": "dan405@placeholder.co",
                  "4": "555-0100086",
                  "5": "Savings",
                  "6": "Dormant",
                  "7": "187",
                  "8": "585.10",
                  "9": "2024-04-20",
                  "10": "2.70",
                  "11": "780",
                  "12": "2023-03-01 09:00:00",
                  "13": "Payment",
                  "14": "813.90",
                  "15": "EUR",
                  "16": "Branch",
                  "17": "Clothing",
                  "18": "814"
                },
                {
                  "0": "180",
                  "1": "John Doe",
                  "2": "101 Maple St",
                  "3": "laura330@placeholder.co",
                  "4": "555-1056987",
                  "5": "Checking",
                  "6": "Dormant",
                  "7": "96",
                  "8": "3027.13",
                  "9": "2024-08-28",
                  "10": "4.92",
                  "11": "780",
                  "12": "2023-03-01 09:00:00",
                  "13": "Payment",
                  "14": "813.90",
                  "15": "EUR",
                  "16": "Branch",
                  "17": "Clothing",
                  "18": "814"
                },
                {
                  "0": "100",
                  "1": "John Doe",
                  "2": "456 Oak St",
                  "3": "laura292@test.edu",
                  "4": "555-0100100",
                  "5": "Credit",
                  "6": "Active",
                  "7": "48",
                  "8": "6732.85",
                  "9": "2024-07-25",
                  "10": "1.87",
                  "11": "287",
                  "12": "2025-01-19 23:22:19",
                  "13": "Deposit",
                  "14": "3777.87",
                  "15": "GBP",
                  "16": "Branch",
                  "17": "Clothing",
                  "18": "154"
                },
                {
                  "0": "100",
                  "1": "John Doe",
                  "2": "456 Oak St",
                  "3": "laura292@test.edu",
                  "4": "555-0100100",
                  "5": "Credit",
                  "6": "Active",
                  "7": "48",
                  "8": "6732.85",
                  "9": "2024-07-25",
                  "10": "1.87",
                  "11": "268",
                  "12": "2024-08-11 05:39:49",
                  "13": "Deposit",
                  "14": "3435.84",
                  "15": "GBP",
                  "16": "Online",
                  "17": "Clothing",
                  "18": "150"
                },
                {
                  "0": "89",
                  "1": "Bob Brown",
                  "2": "456 Oak St",
                  "3": "mike330@placeholder.co",
                  "4": "555-1056987",
                  "5": "Credit",
                  "6": "Dormant",
                  "7": "200",
                  "8": "9438.83",
                  "9": "2024-12-20",
                  "10": "4.36",
                  "11": "270",
                  "12": "2024-10-28 23:20:52",
                  "13": "Deposit",
                  "14": "749.45",
                  "15": "USD",
                  "16": "Online",
                  "17": "Business",
                  "18": "249"
                },
                {
                  "0": "123",
                  "1": "Bob Brown",
                  "2": "123 Elm St",
                  "3": "laura455@test.edu",
                  "4": "555-0100123",
                  "5": "Savings",
                  "6": "Dormant",
                  "7": "112",
                  "8": "8300.52",
                  "9": "2024-09-26",
                  "10": "2.34",
                  "11": "780",
                  "12": "2023-03-01 09:00:00",
                  "13": "Payment",
                  "14": "813.90",
                  "15": "EUR",
                  "16": "Branch",
                  "17": "Clothing",
                  "18": "814"
                },
                {
                  "0": "115",
                  "1": "Bob Brown",
                  "2": "456 Oak St",
                  "3": "alice327@example.com",
                  "4": "555-0100115",
                  "5": "Savings",
                  "6": "Active",
                  "7": "58",
                  "8": "6476.57",
                  "9": "2025-02-26",
                  "10": "3.49",
                  "11": "780",
                  "12": "2023-03-01 09:00:00",
                  "13": "Payment",
                  "14": "813.90",
                  "15": "EUR",
                  "16": "Branch",
                  "17": "Clothing",
                  "18": "814"
                },
                {
                  "0": "159",
                  "1": "Emma Davis",
                  "2": "789 Pine St",
                  "3": "jane438@sample.net",
                  "4": "555-1056987",
                  "5": "Checking",
                  "6": "Dormant",
                  "7": "15",
                  "8": "5861.67",
                  "9": "2024-10-03",
                  "10": "2.27",
                  "11": "780",
                  "12": "2023-03-01 09:00:00",
                  "13": "Payment",
                  "14": "813.90",
                  "15": "EUR",
                  "16": "Branch",
                  "17": "Clothing",
                  "18": "814"
                },
                {
                  "0": "97",
                  "1": "Alice Johnson",
                  "2": "123 Elm St",
                  "3": "emma319@placeholder.co",
                  "4": "555-1056987",
                  "5": "Credit",
                  "6": "Active",
                  "7": "41",
                  "8": "1789.41",
                  "9": "2024-05-05",
                  "10": "1.96",
                  "11": "780",
                  "12": "2023-03-01 09:00:00",
                  "13": "Payment",
                  "14": "813.90",
                  "15": "EUR",
                  "16": "Branch",
                  "17": "Clothing",
                  "18": "814"
                },
                {
                  "0": "53",
                  "1": "John Doe",
                  "2": "123 Elm St",
                  "3": "emma143@sample.net",
                  "4": "555-0100053",
                  "5": "Credit",
                  "6": "Dormant",
                  "7": "191",
                  "8": "4497.68",
                  "9": "2025-02-01",
                  "10": "1.26",
                  "11": "780",
                  "12": "2023-03-01 09:00:00",
                  "13": "Payment",
                  "14": "813.90",
                  "15": "EUR",
                  "16": "Branch",
                  "17": "Clothing",
                  "18": "814"
                },
                {
                  "0": "172",
                  "1": "Bob Brown",
                  "2": "202 Birch St",
                  "3": "alice306@demo.org",
                  "4": "555-0100172",
                  "5": "Checking",
                  "6": "Dormant",
                  "7": "26",
                  "8": "1507.16",
                  "9": "2024-07-26",
                  "10": "2.99",
                  "11": "780",
                  "12": "2023-03-01 09:00:00",
                  "13": "Payment",
                  "14": "813.90",
                  "15": "EUR",
                  "16": "Branch",
                  "17": "Clothing",
                  "18": "814"
                },
                {
                  "0": "139",
                  "1": "Bob Brown",
                  "2": "123 Elm St",
                  "3": "dan305@test.edu",
                  "4": "555-1056987",
                  "5": "Checking",
                  "6": "Active",
                  "7": "30",
                  "8": "5091.80",
                  "9": "2024-12-13",
                  "10": "4.96",
                  "11": "780",
                  "12": "2023-03-01 09:00:00",
                  "13": "Payment",
                  "14": "813.90",
                  "15": "EUR",
                  "16": "Branch",
                  "17": "Clothing",
                  "18": "814"
                },
                {
                  "0": "151",
                  "1": "Bob Brown",
                  "2": "101 Maple St",
                  "3": "carlos206@demo.org",
                  "4": "555-0100151",
                  "5": "Savings",
                  "6": "Active",
                  "7": "102",
                  "8": "4282.52",
                  "9": "2024-04-08",
                  "10": "1.33",
                  "11": "780",
                  "12": "2023-03-01 09:00:00",
                  "13": "Payment",
                  "14": "813.90",
                  "15": "EUR",
                  "16": "Branch",
                  "17": "Clothing",
                  "18": "814"
                },
                {
                  "0": "151",
                  "1": "Bob Brown",
                  "2": "101 Maple St",
                  "3": "carlos206@demo.org",
                  "4": "555-0100151",
                  "5": "Savings",
                  "6": "Active",
                  "7": "82",
                  "8": "6738.04",
                  "9": "2024-07-02",
                  "10": "4.92",
                  "11": "780",
                  "12": "2023-03-01 09:00:00",
                  "13": "Payment",
                  "14": "813.90",
                  "15": "EUR",
                  "16": "Branch",
                  "17": "Clothing",
                  "18": "814"
                },
                {
                  "0": "151",
                  "1": "Bob Brown",
                  "2": "101 Maple St",
                  "3": "carlos206@demo.org",
                  "4": "555-0100151",
                  "5": "Savings",
                  "6": "Active",
                  "7": "28",
                  "8": "9546.80",
                  "9": "2024-06-22",
                  "10": "4.04",
                  "11": "780",
                  "12": "2023-03-01 09:00:00",
                  "13": "Payment",
                  "14": "813.90",
                  "15": "EUR",
                  "16": "Branch",
                  "17": "Clothing",
                  "18": "814"
                },
                {
                  "0": "34",
                  "1": "Alice Johnson",
                  "2": "123 Elm St",
                  "3": "rajesh@gmail.com",
                  "4": "555-0100034",
                  "5": "Savings",
                  "6": "Dormant",
                  "7": "138",
                  "8": "119.18",
                  "9": "2024-10-08",
                  "10": "4.07",
                  "11": "780",
                  "12": "2023-03-01 09:00:00",
                  "13": "Payment",
                  "14": "813.90",
                  "15": "EUR",
                  "16": "Branch",
                  "17": "Clothing",
                  "18": "814"
                },
                {
                  "0": "143",
                  "1": "Bob Brown",
                  "2": "202 Birch St",
                  "3": "dan269@example.com",
                  "4": "555-0100143",
                  "5": "Checking",
                  "6": "Dormant",
                  "7": "117",
                  "8": "1555.17",
                  "9": "2024-12-02",
                  "10": "4.94",
                  "11": "780",
                  "12": "2023-03-01 09:00:00",
                  "13": "Payment",
                  "14": "813.90",
                  "15": "EUR",
                  "16": "Branch",
                  "17": "Clothing",
                  "18": "814"
                },
                {
                  "0": "152",
                  "1": "Jane Smith",
                  "2": "456 Oak St",
                  "3": "john402@demo.org",
                  "4": "555-0100152",
                  "5": "Checking",
                  "6": "Active",
                  "7": "64",
                  "8": "4606.66",
                  "9": "2024-12-10",
                  "10": "4.66",
                  "11": "780",
                  "12": "2023-03-01 09:00:00",
                  "13": "Payment",
                  "14": "813.90",
                  "15": "EUR",
                  "16": "Branch",
                  "17": "Clothing",
                  "18": "814"
                },
                {
                  "0": "116",
                  "1": "Alice Johnson",
                  "2": "123 Elm St",
                  "3": "emma359@sample.net",
                  "4": "555-1056987",
                  "5": "Savings",
                  "6": "Dormant",
                  "7": "196",
                  "8": "6395.79",
                  "9": "2024-09-29",
                  "10": "3.80",
                  "11": "780",
                  "12": "2023-03-01 09:00:00",
                  "13": "Payment",
                  "14": "813.90",
                  "15": "EUR",
                  "16": "Branch",
                  "17": "Clothing",
                  "18": "814"
                },
                {
                  "0": "118",
                  "1": "Jane Smith",
                  "2": "101 Maple St",
                  "3": "bob184@sample.net",
                  "4": "555-0100118",
                  "5": "Credit",
                  "6": "Active",
                  "7": "73",
                  "8": "3274.95",
                  "9": "2024-12-13",
                  "10": "2.86",
                  "11": "780",
                  "12": "2023-03-01 09:00:00",
                  "13": "Payment",
                  "14": "813.90",
                  "15": "EUR",
                  "16": "Branch",
                  "17": "Clothing",
                  "18": "814"
                },
                {
                  "0": "90",
                  "1": "Alice Johnson",
                  "2": "789 Pine St",
                  "3": "sara146@demo.org",
                  "4": "555-0100090",
                  "5": "Checking",
                  "6": "Active",
                  "7": "192",
                  "8": "7152.39",
                  "9": "2024-06-29",
                  "10": "4.08",
                  "11": "104",
                  "12": "2023-03-01 12:00:00",
                  "13": "Transfer",
                  "14": "1500.00",
                  "15": "GBP",
                  "16": "Online",
                  "17": "Business",
                  "18": "104"
                },
                {
                  "0": "90",
                  "1": "Alice Johnson",
                  "2": "789 Pine St",
                  "3": "sara146@demo.org",
                  "4": "555-0100090",
                  "5": "Checking",
                  "6": "Active",
                  "7": "147",
                  "8": "5563.24",
                  "9": "2024-07-02",
                  "10": "3.70",
                  "11": "104",
                  "12": "2023-03-01 12:00:00",
                  "13": "Transfer",
                  "14": "1500.00",
                  "15": "GBP",
                  "16": "Online",
                  "17": "Business",
                  "18": "104"
                },
                {
                  "0": "12",
                  "1": "suman das",
                  "2": "456 Oak St",
                  "3": "rajesh@gmail.com",
                  "4": "555-0100012",
                  "5": "Credit",
                  "6": "Dormant",
                  "7": "72",
                  "8": "5716.28",
                  "9": "2024-06-21",
                  "10": "1.82",
                  "11": "101",
                  "12": "2023-03-01 09:00:00",
                  "13": "Deposit",
                  "14": "1200.00",
                  "15": "USD",
                  "16": "Online",
                  "17": "Clothing",
                  "18": "101"
                },
                {
                  "0": "186",
                  "1": "John Doe",
                  "2": "456 Oak St",
                  "3": "rajesh@gmail.com",
                  "4": "555-0100186",
                  "5": "Savings",
                  "6": "Dormant",
                  "7": "176",
                  "8": "2033.04",
                  "9": "2025-02-22",
                  "10": "4.85",
                  "11": "780",
                  "12": "2023-03-01 09:00:00",
                  "13": "Payment",
                  "14": "813.90",
                  "15": "EUR",
                  "16": "Branch",
                  "17": "Clothing",
                  "18": "814"
                },
                {
                  "0": "102",
                  "1": "Bob Brown",
                  "2": "456 Oak St",
                  "3": "rajesh@gmail.com",
                  "4": "555-0100102",
                  "5": "Savings",
                  "6": "Dormant",
                  "7": "161",
                  "8": "8267.61",
                  "9": "2024-04-27",
                  "10": "2.15",
                  "11": "780",
                  "12": "2023-03-01 09:00:00",
                  "13": "Payment",
                  "14": "813.90",
                  "15": "EUR",
                  "16": "Branch",
                  "17": "Clothing",
                  "18": "814"
                },
                {
                  "0": "119",
                  "1": "Bob Brown",
                  "2": "456 Oak St",
                  "3": "jane187@example.com",
                  "4": "555-0100119",
                  "5": "Savings",
                  "6": "Active",
                  "7": "109",
                  "8": "9905.72",
                  "9": "2025-02-03",
                  "10": "3.01",
                  "11": "780",
                  "12": "2023-03-01 09:00:00",
                  "13": "Payment",
                  "14": "813.90",
                  "15": "EUR",
                  "16": "Branch",
                  "17": "Clothing",
                  "18": "814"
                },
                {
                  "0": "24",
                  "1": "Alice Johnson",
                  "2": "123 Elm St",
                  "3": "mike461@test.edu",
                  "4": "555-1056987",
                  "5": "Credit",
                  "6": "Dormant",
                  "7": "126",
                  "8": "4827.83",
                  "9": "2024-05-30",
                  "10": "4.42",
                  "11": "780",
                  "12": "2023-03-01 09:00:00",
                  "13": "Payment",
                  "14": "813.90",
                  "15": "EUR",
                  "16": "Branch",
                  "17": "Clothing",
                  "18": "814"
                },
                {
                  "0": "112",
                  "1": "Jane Smith",
                  "2": "202 Birch St",
                  "3": "alice304@placeholder.co",
                  "4": "555-1056987",
                  "5": "Checking",
                  "6": "Dormant",
                  "7": "67",
                  "8": "9348.78",
                  "9": "2024-12-18",
                  "10": "2.64",
                  "11": "780",
                  "12": "2023-03-01 09:00:00",
                  "13": "Payment",
                  "14": "813.90",
                  "15": "EUR",
                  "16": "Branch",
                  "17": "Clothing",
                  "18": "814"
                },
                {
                  "0": "144",
                  "1": "Alice Johnson",
                  "2": "202 Birch St",
                  "3": "sara356@test.edu",
                  "4": "555-0100144",
                  "5": "Credit",
                  "6": "Active",
                  "7": "24",
                  "8": "2648.19",
                  "9": "2025-02-19",
                  "10": "4.22",
                  "11": "780",
                  "12": "2023-03-01 09:00:00",
                  "13": "Payment",
                  "14": "813.90",
                  "15": "EUR",
                  "16": "Branch",
                  "17": "Clothing",
                  "18": "814"
                },
                {
                  "0": "28",
                  "1": "John Doe",
                  "2": "123 Elm St",
                  "3": "dan437@sample.net",
                  "4": "555-0100028",
                  "5": "Savings",
                  "6": "Active",
                  "7": "153",
                  "8": "7897.38",
                  "9": "2024-10-21",
                  "10": "3.81",
                  "11": "780",
                  "12": "2023-03-01 09:00:00",
                  "13": "Payment",
                  "14": "813.90",
                  "15": "EUR",
                  "16": "Branch",
                  "17": "Clothing",
                  "18": "814"
                },
                {
                  "0": "105",
                  "1": "Emma Davis",
                  "2": "789 Pine St",
                  "3": "rajesh@gmail.com",
                  "4": "555-0100105",
                  "5": "Savings",
                  "6": "Active",
                  "7": "56",
                  "8": "732.85",
                  "9": "2024-10-01",
                  "10": "1.64",
                  "11": "780",
                  "12": "2023-03-01 09:00:00",
                  "13": "Payment",
                  "14": "813.90",
                  "15": "EUR",
                  "16": "Branch",
                  "17": "Clothing",
                  "18": "814"
                },
                {
                  "0": "108",
                  "1": "Emma Davis",
                  "2": "202 Birch St",
                  "3": "mike210@example.com",
                  "4": "555-1056987",
                  "5": "Savings",
                  "6": "Active",
                  "7": "11",
                  "8": "8268.12",
                  "9": "2024-11-06",
                  "10": "2.32",
                  "11": "780",
                  "12": "2023-03-01 09:00:00",
                  "13": "Payment",
                  "14": "813.90",
                  "15": "EUR",
                  "16": "Branch",
                  "17": "Clothing",
                  "18": "814"
                },
                {
                  "0": "177",
                  "1": "Bob Brown",
                  "2": "202 Birch St",
                  "3": "mike20@sample.net",
                  "4": "555-0100177",
                  "5": "Checking",
                  "6": "Dormant",
                  "7": "139",
                  "8": "1602.55",
                  "9": "2025-02-17",
                  "10": "4.31",
                  "11": "780",
                  "12": "2023-03-01 09:00:00",
                  "13": "Payment",
                  "14": "813.90",
                  "15": "EUR",
                  "16": "Branch",
                  "17": "Clothing",
                  "18": "814"
                },
                {
                  "0": "130",
                  "1": "Bob Brown",
                  "2": "456 Oak St",
                  "3": "mike217@sample.net",
                  "4": "555-1056987",
                  "5": "Checking",
                  "6": "Active",
                  "7": "89",
                  "8": "6101.21",
                  "9": "2025-03-06",
                  "10": "4.89",
                  "11": "780",
                  "12": "2023-03-01 09:00:00",
                  "13": "Payment",
                  "14": "813.90",
                  "15": "EUR",
                  "16": "Branch",
                  "17": "Clothing",
                  "18": "814"
                },
                {
                  "0": "196",
                  "1": "John Doe",
                  "2": "101 Maple St",
                  "3": "laura73@placeholder.co",
                  "4": "555-0100196",
                  "5": "Savings",
                  "6": "Active",
                  "7": "145",
                  "8": "8864.05",
                  "9": "2025-01-07",
                  "10": "4.97",
                  "11": "780",
                  "12": "2023-03-01 09:00:00",
                  "13": "Payment",
                  "14": "813.90",
                  "15": "EUR",
                  "16": "Branch",
                  "17": "Clothing",
                  "18": "814"
                },
                {
                  "0": "165",
                  "1": "Bob Brown",
                  "2": "586 pinegrove rd",
                  "3": "bob228@placeholder.co",
                  "4": "555-0100165",
                  "5": "Credit",
                  "6": "Active",
                  "7": "3",
                  "8": "7481.62",
                  "9": "2024-06-11",
                  "10": "1.90",
                  "11": "780",
                  "12": "2023-03-01 09:00:00",
                  "13": "Payment",
                  "14": "813.90",
                  "15": "EUR",
                  "16": "Branch",
                  "17": "Clothing",
                  "18": "814"
                },
                {
                  "0": "41",
                  "1": "Alice Johnson",
                  "2": "202 Birch St",
                  "3": "laura281@sample.net",
                  "4": "555-0100041",
                  "5": "Savings",
                  "6": "Active",
                  "7": "116",
                  "8": "4298.08",
                  "9": "2024-12-10",
                  "10": "1.46",
                  "11": "780",
                  "12": "2023-03-01 09:00:00",
                  "13": "Payment",
                  "14": "813.90",
                  "15": "EUR",
                  "16": "Branch",
                  "17": "Clothing",
                  "18": "814"
                },
                {
                  "0": "60",
                  "1": "John Doe",
                  "2": "789 Pine St",
                  "3": "carlos202@demo.org",
                  "4": "555-1056987",
                  "5": "Credit",
                  "6": "Dormant",
                  "7": "110",
                  "8": "5562.20",
                  "9": "2024-08-14",
                  "10": "4.77",
                  "11": "780",
                  "12": "2023-03-01 09:00:00",
                  "13": "Payment",
                  "14": "813.90",
                  "15": "EUR",
                  "16": "Branch",
                  "17": "Clothing",
                  "18": "814"
                },
                {
                  "0": "79",
                  "1": "Emma Davis",
                  "2": "202 Birch St",
                  "3": "rajesh@gmail.com",
                  "4": "555-0100079",
                  "5": "Savings",
                  "6": "Dormant",
                  "7": "171",
                  "8": "2886.31",
                  "9": "2024-05-23",
                  "10": "4.09",
                  "11": "780",
                  "12": "2023-03-01 09:00:00",
                  "13": "Payment",
                  "14": "813.90",
                  "15": "EUR",
                  "16": "Branch",
                  "17": "Clothing",
                  "18": "814"
                },
                {
                  "0": "55",
                  "1": "John Doe",
                  "2": "123 Elm St",
                  "3": "alice234@placeholder.co",
                  "4": "555-0100055",
                  "5": "Savings",
                  "6": "Active",
                  "7": "124",
                  "8": "8558.51",
                  "9": "2025-02-09",
                  "10": "2.85",
                  "11": "158",
                  "12": "2024-08-10 06:57:41",
                  "13": "Payment",
                  "14": "813.72",
                  "15": "EUR",
                  "16": "Branch",
                  "17": "Business",
                  "18": "259"
                },
                {
                  "0": "55",
                  "1": "John Doe",
                  "2": "123 Elm St",
                  "3": "alice234@placeholder.co",
                  "4": "555-0100055",
                  "5": "Savings",
                  "6": "Active",
                  "7": "46",
                  "8": "142.78",
                  "9": "2025-03-23",
                  "10": "3.77",
                  "11": "158",
                  "12": "2024-08-10 06:57:41",
                  "13": "Payment",
                  "14": "813.72",
                  "15": "EUR",
                  "16": "Branch",
                  "17": "Business",
                  "18": "259"
                },
                {
                  "0": "15",
                  "1": "Bob Brown",
                  "2": "456 Oak St",
                  "3": "sara133@example.com",
                  "4": "555-1056987",
                  "5": "Savings",
                  "6": "Dormant",
                  "7": "47",
                  "8": "4847.18",
                  "9": "2024-12-19",
                  "10": "3.26",
                  "11": "233",
                  "12": "2025-03-23 21:08:24",
                  "13": "Transfer",
                  "14": "863.20",
                  "15": "GBP",
                  "16": "Store",
                  "17": "Business",
                  "18": "206"
                },
                {
                  "0": "56",
                  "1": "Alice Johnson",
                  "2": "202 Birch St",
                  "3": "rajesh@gmail.com",
                  "4": "555-1056987",
                  "5": "Savings",
                  "6": "Active",
                  "7": "10",
                  "8": "2195.45",
                  "9": "2024-11-09",
                  "10": "3.52",
                  "11": "780",
                  "12": "2023-03-01 09:00:00",
                  "13": "Payment",
                  "14": "813.90",
                  "15": "EUR",
                  "16": "Branch",
                  "17": "Clothing",
                  "18": "814"
                },
                {
                  "0": "138",
                  "1": "Bob Brown",
                  "2": "123 Elm St",
                  "3": "carlos367@example.com",
                  "4": "555-0100138",
                  "5": "Checking",
                  "6": "Dormant",
                  "7": "137",
                  "8": "1719.51",
                  "9": "2024-10-13",
                  "10": "4.88",
                  "11": "780",
                  "12": "2023-03-01 09:00:00",
                  "13": "Payment",
                  "14": "813.90",
                  "15": "EUR",
                  "16": "Branch",
                  "17": "Clothing",
                  "18": "814"
                }
              ],
              "schema": [
                {
                  "key": "0",
                  "name": "Customer_ID",
                  "type": "int"
                },
                {
                  "key": "1",
                  "name": "Name",
                  "type": "string"
                },
                {
                  "key": "2",
                  "name": "Address",
                  "type": "string"
                },
                {
                  "key": "3",
                  "name": "Email",
                  "type": "string"
                },
                {
                  "key": "4",
                  "name": "Phone_Number",
                  "type": "string"
                },
                {
                  "key": "5",
                  "name": "Account_Type",
                  "type": "string"
                },
                {
                  "key": "6",
                  "name": "Account_Status",
                  "type": "string"
                },
                {
                  "key": "7",
                  "name": "Account_ID",
                  "type": "int"
                },
                {
                  "key": "8",
                  "name": "Balance",
                  "type": "decimal"
                },
                {
                  "key": "9",
                  "name": "Account_Creation_Date",
                  "type": "date"
                },
                {
                  "key": "10",
                  "name": "Interest_Rate",
                  "type": "decimal"
                },
                {
                  "key": "11",
                  "name": "Transaction_ID",
                  "type": "int"
                },
                {
                  "key": "12",
                  "name": "Date_and_Time",
                  "type": "timestamp"
                },
                {
                  "key": "13",
                  "name": "Transaction_Type",
                  "type": "string"
                },
                {
                  "key": "14",
                  "name": "Amount",
                  "type": "decimal"
                },
                {
                  "key": "15",
                  "name": "Currency",
                  "type": "string"
                },
                {
                  "key": "16",
                  "name": "Location",
                  "type": "string"
                },
                {
                  "key": "17",
                  "name": "Merchant_Category",
                  "type": "string"
                },
                {
                  "key": "18",
                  "name": "Product_ID",
                  "type": "int"
                }
              ],
              "truncated": false
            },
            "isSummary": false,
            "language": "scala",
            "wranglerEntryContext": {
              "candidateVariableNames": [
                "df7"
              ],
              "dataframeType": "pyspark"
            }
          },
          "persist_state": {
            "view": {
              "type": "details",
              "tableOptions": {},
              "chartOptions": {
                "chartType": "bar",
                "aggregationType": "sum",
                "categoryFieldKeys": [
                  "1"
                ],
                "seriesFieldKeys": [
                  "0"
                ],
                "isStacked": false
              }
            }
          }
        },
        "f5471fce-2ea7-45cb-a83c-f16097433ae1": {
          "type": "Synapse.DataFrame",
          "sync_state": {
            "table": {
              "rows": [
                {
                  "0": "12",
                  "1": "suman das",
                  "2": "456 Oak St",
                  "3": "rajesh@gmail.com",
                  "4": "555-0100012",
                  "5": "Credit",
                  "6": "Dormant",
                  "7": "72",
                  "8": "5716.28",
                  "9": "2024-06-21",
                  "10": "1.82",
                  "11": "101",
                  "12": "2023-03-01 09:00:00",
                  "13": "Deposit",
                  "14": "1200.00",
                  "15": "USD",
                  "16": "Online",
                  "17": "Clothing",
                  "18": "101"
                },
                {
                  "0": "15",
                  "1": "Bob Brown",
                  "2": "456 Oak St",
                  "3": "sara133@example.com",
                  "4": "555-1056987",
                  "5": "Savings",
                  "6": "Dormant",
                  "7": "47",
                  "8": "4847.18",
                  "9": "2024-12-19",
                  "10": "3.26",
                  "11": "233",
                  "12": "2025-03-23 21:08:24",
                  "13": "Transfer",
                  "14": "863.20",
                  "15": "GBP",
                  "16": "Store",
                  "17": "Business",
                  "18": "206"
                },
                {
                  "0": "24",
                  "1": "Alice Johnson",
                  "2": "123 Elm St",
                  "3": "mike461@test.edu",
                  "4": "555-1056987",
                  "5": "Credit",
                  "6": "Dormant",
                  "7": "126",
                  "8": "4827.83",
                  "9": "2024-05-30",
                  "10": "4.42",
                  "11": "780",
                  "12": "2023-03-01 09:00:00",
                  "13": "Payment",
                  "14": "813.90",
                  "15": "EUR",
                  "16": "Branch",
                  "17": "Clothing",
                  "18": "814"
                },
                {
                  "0": "28",
                  "1": "John Doe",
                  "2": "123 Elm St",
                  "3": "dan437@sample.net",
                  "4": "555-0100028",
                  "5": "Savings",
                  "6": "Active",
                  "7": "153",
                  "8": "7897.38",
                  "9": "2024-10-21",
                  "10": "3.81",
                  "11": "780",
                  "12": "2023-03-01 09:00:00",
                  "13": "Payment",
                  "14": "813.90",
                  "15": "EUR",
                  "16": "Branch",
                  "17": "Clothing",
                  "18": "814"
                },
                {
                  "0": "34",
                  "1": "Alice Johnson",
                  "2": "123 Elm St",
                  "3": "rajesh@gmail.com",
                  "4": "555-0100034",
                  "5": "Savings",
                  "6": "Dormant",
                  "7": "138",
                  "8": "119.18",
                  "9": "2024-10-08",
                  "10": "4.07",
                  "11": "780",
                  "12": "2023-03-01 09:00:00",
                  "13": "Payment",
                  "14": "813.90",
                  "15": "EUR",
                  "16": "Branch",
                  "17": "Clothing",
                  "18": "814"
                },
                {
                  "0": "41",
                  "1": "Alice Johnson",
                  "2": "202 Birch St",
                  "3": "laura281@sample.net",
                  "4": "555-0100041",
                  "5": "Savings",
                  "6": "Active",
                  "7": "116",
                  "8": "4298.08",
                  "9": "2024-12-10",
                  "10": "1.46",
                  "11": "780",
                  "12": "2023-03-01 09:00:00",
                  "13": "Payment",
                  "14": "813.90",
                  "15": "EUR",
                  "16": "Branch",
                  "17": "Clothing",
                  "18": "814"
                },
                {
                  "0": "53",
                  "1": "John Doe",
                  "2": "123 Elm St",
                  "3": "emma143@sample.net",
                  "4": "555-0100053",
                  "5": "Credit",
                  "6": "Dormant",
                  "7": "191",
                  "8": "4497.68",
                  "9": "2025-02-01",
                  "10": "1.26",
                  "11": "780",
                  "12": "2023-03-01 09:00:00",
                  "13": "Payment",
                  "14": "813.90",
                  "15": "EUR",
                  "16": "Branch",
                  "17": "Clothing",
                  "18": "814"
                },
                {
                  "0": "55",
                  "1": "John Doe",
                  "2": "123 Elm St",
                  "3": "alice234@placeholder.co",
                  "4": "555-0100055",
                  "5": "Savings",
                  "6": "Active",
                  "7": "124",
                  "8": "8558.51",
                  "9": "2025-02-09",
                  "10": "2.85",
                  "11": "158",
                  "12": "2024-08-10 06:57:41",
                  "13": "Payment",
                  "14": "813.72",
                  "15": "EUR",
                  "16": "Branch",
                  "17": "Business",
                  "18": "259"
                },
                {
                  "0": "56",
                  "1": "Alice Johnson",
                  "2": "202 Birch St",
                  "3": "rajesh@gmail.com",
                  "4": "555-1056987",
                  "5": "Savings",
                  "6": "Active",
                  "7": "10",
                  "8": "2195.45",
                  "9": "2024-11-09",
                  "10": "3.52",
                  "11": "780",
                  "12": "2023-03-01 09:00:00",
                  "13": "Payment",
                  "14": "813.90",
                  "15": "EUR",
                  "16": "Branch",
                  "17": "Clothing",
                  "18": "814"
                },
                {
                  "0": "60",
                  "1": "John Doe",
                  "2": "789 Pine St",
                  "3": "carlos202@demo.org",
                  "4": "555-1056987",
                  "5": "Credit",
                  "6": "Dormant",
                  "7": "110",
                  "8": "5562.20",
                  "9": "2024-08-14",
                  "10": "4.77",
                  "11": "780",
                  "12": "2023-03-01 09:00:00",
                  "13": "Payment",
                  "14": "813.90",
                  "15": "EUR",
                  "16": "Branch",
                  "17": "Clothing",
                  "18": "814"
                },
                {
                  "0": "79",
                  "1": "Emma Davis",
                  "2": "202 Birch St",
                  "3": "rajesh@gmail.com",
                  "4": "555-0100079",
                  "5": "Savings",
                  "6": "Dormant",
                  "7": "171",
                  "8": "2886.31",
                  "9": "2024-05-23",
                  "10": "4.09",
                  "11": "780",
                  "12": "2023-03-01 09:00:00",
                  "13": "Payment",
                  "14": "813.90",
                  "15": "EUR",
                  "16": "Branch",
                  "17": "Clothing",
                  "18": "814"
                },
                {
                  "0": "86",
                  "1": "John Doe",
                  "2": "456 Oak St",
                  "3": "dan405@placeholder.co",
                  "4": "555-0100086",
                  "5": "Savings",
                  "6": "Dormant",
                  "7": "187",
                  "8": "585.10",
                  "9": "2024-04-20",
                  "10": "2.70",
                  "11": "780",
                  "12": "2023-03-01 09:00:00",
                  "13": "Payment",
                  "14": "813.90",
                  "15": "EUR",
                  "16": "Branch",
                  "17": "Clothing",
                  "18": "814"
                },
                {
                  "0": "89",
                  "1": "Bob Brown",
                  "2": "456 Oak St",
                  "3": "mike330@placeholder.co",
                  "4": "555-1056987",
                  "5": "Credit",
                  "6": "Dormant",
                  "7": "200",
                  "8": "9438.83",
                  "9": "2024-12-20",
                  "10": "4.36",
                  "11": "270",
                  "12": "2024-10-28 23:20:52",
                  "13": "Deposit",
                  "14": "749.45",
                  "15": "USD",
                  "16": "Online",
                  "17": "Business",
                  "18": "249"
                },
                {
                  "0": "90",
                  "1": "Alice Johnson",
                  "2": "789 Pine St",
                  "3": "sara146@demo.org",
                  "4": "555-0100090",
                  "5": "Checking",
                  "6": "Active",
                  "7": "192",
                  "8": "7152.39",
                  "9": "2024-06-29",
                  "10": "4.08",
                  "11": "104",
                  "12": "2023-03-01 12:00:00",
                  "13": "Transfer",
                  "14": "1500.00",
                  "15": "GBP",
                  "16": "Online",
                  "17": "Business",
                  "18": "104"
                },
                {
                  "0": "97",
                  "1": "Alice Johnson",
                  "2": "123 Elm St",
                  "3": "emma319@placeholder.co",
                  "4": "555-1056987",
                  "5": "Credit",
                  "6": "Active",
                  "7": "41",
                  "8": "1789.41",
                  "9": "2024-05-05",
                  "10": "1.96",
                  "11": "780",
                  "12": "2023-03-01 09:00:00",
                  "13": "Payment",
                  "14": "813.90",
                  "15": "EUR",
                  "16": "Branch",
                  "17": "Clothing",
                  "18": "814"
                },
                {
                  "0": "100",
                  "1": "John Doe",
                  "2": "456 Oak St",
                  "3": "laura292@test.edu",
                  "4": "555-0100100",
                  "5": "Credit",
                  "6": "Active",
                  "7": "48",
                  "8": "6732.85",
                  "9": "2024-07-25",
                  "10": "1.87",
                  "11": "287",
                  "12": "2025-01-19 23:22:19",
                  "13": "Deposit",
                  "14": "3777.87",
                  "15": "GBP",
                  "16": "Branch",
                  "17": "Clothing",
                  "18": "154"
                },
                {
                  "0": "102",
                  "1": "Bob Brown",
                  "2": "456 Oak St",
                  "3": "rajesh@gmail.com",
                  "4": "555-0100102",
                  "5": "Savings",
                  "6": "Dormant",
                  "7": "161",
                  "8": "8267.61",
                  "9": "2024-04-27",
                  "10": "2.15",
                  "11": "780",
                  "12": "2023-03-01 09:00:00",
                  "13": "Payment",
                  "14": "813.90",
                  "15": "EUR",
                  "16": "Branch",
                  "17": "Clothing",
                  "18": "814"
                },
                {
                  "0": "105",
                  "1": "Emma Davis",
                  "2": "789 Pine St",
                  "3": "rajesh@gmail.com",
                  "4": "555-0100105",
                  "5": "Savings",
                  "6": "Active",
                  "7": "56",
                  "8": "732.85",
                  "9": "2024-10-01",
                  "10": "1.64",
                  "11": "780",
                  "12": "2023-03-01 09:00:00",
                  "13": "Payment",
                  "14": "813.90",
                  "15": "EUR",
                  "16": "Branch",
                  "17": "Clothing",
                  "18": "814"
                },
                {
                  "0": "108",
                  "1": "Emma Davis",
                  "2": "202 Birch St",
                  "3": "mike210@example.com",
                  "4": "555-1056987",
                  "5": "Savings",
                  "6": "Active",
                  "7": "11",
                  "8": "8268.12",
                  "9": "2024-11-06",
                  "10": "2.32",
                  "11": "780",
                  "12": "2023-03-01 09:00:00",
                  "13": "Payment",
                  "14": "813.90",
                  "15": "EUR",
                  "16": "Branch",
                  "17": "Clothing",
                  "18": "814"
                },
                {
                  "0": "112",
                  "1": "Jane Smith",
                  "2": "202 Birch St",
                  "3": "alice304@placeholder.co",
                  "4": "555-1056987",
                  "5": "Checking",
                  "6": "Dormant",
                  "7": "67",
                  "8": "9348.78",
                  "9": "2024-12-18",
                  "10": "2.64",
                  "11": "780",
                  "12": "2023-03-01 09:00:00",
                  "13": "Payment",
                  "14": "813.90",
                  "15": "EUR",
                  "16": "Branch",
                  "17": "Clothing",
                  "18": "814"
                },
                {
                  "0": "115",
                  "1": "Bob Brown",
                  "2": "456 Oak St",
                  "3": "alice327@example.com",
                  "4": "555-0100115",
                  "5": "Savings",
                  "6": "Active",
                  "7": "58",
                  "8": "6476.57",
                  "9": "2025-02-26",
                  "10": "3.49",
                  "11": "780",
                  "12": "2023-03-01 09:00:00",
                  "13": "Payment",
                  "14": "813.90",
                  "15": "EUR",
                  "16": "Branch",
                  "17": "Clothing",
                  "18": "814"
                },
                {
                  "0": "116",
                  "1": "Alice Johnson",
                  "2": "123 Elm St",
                  "3": "emma359@sample.net",
                  "4": "555-1056987",
                  "5": "Savings",
                  "6": "Dormant",
                  "7": "196",
                  "8": "6395.79",
                  "9": "2024-09-29",
                  "10": "3.80",
                  "11": "780",
                  "12": "2023-03-01 09:00:00",
                  "13": "Payment",
                  "14": "813.90",
                  "15": "EUR",
                  "16": "Branch",
                  "17": "Clothing",
                  "18": "814"
                },
                {
                  "0": "118",
                  "1": "Jane Smith",
                  "2": "101 Maple St",
                  "3": "bob184@sample.net",
                  "4": "555-0100118",
                  "5": "Credit",
                  "6": "Active",
                  "7": "73",
                  "8": "3274.95",
                  "9": "2024-12-13",
                  "10": "2.86",
                  "11": "780",
                  "12": "2023-03-01 09:00:00",
                  "13": "Payment",
                  "14": "813.90",
                  "15": "EUR",
                  "16": "Branch",
                  "17": "Clothing",
                  "18": "814"
                },
                {
                  "0": "119",
                  "1": "Bob Brown",
                  "2": "456 Oak St",
                  "3": "jane187@example.com",
                  "4": "555-0100119",
                  "5": "Savings",
                  "6": "Active",
                  "7": "109",
                  "8": "9905.72",
                  "9": "2025-02-03",
                  "10": "3.01",
                  "11": "780",
                  "12": "2023-03-01 09:00:00",
                  "13": "Payment",
                  "14": "813.90",
                  "15": "EUR",
                  "16": "Branch",
                  "17": "Clothing",
                  "18": "814"
                },
                {
                  "0": "123",
                  "1": "Bob Brown",
                  "2": "123 Elm St",
                  "3": "laura455@test.edu",
                  "4": "555-0100123",
                  "5": "Savings",
                  "6": "Dormant",
                  "7": "112",
                  "8": "8300.52",
                  "9": "2024-09-26",
                  "10": "2.34",
                  "11": "780",
                  "12": "2023-03-01 09:00:00",
                  "13": "Payment",
                  "14": "813.90",
                  "15": "EUR",
                  "16": "Branch",
                  "17": "Clothing",
                  "18": "814"
                },
                {
                  "0": "130",
                  "1": "Bob Brown",
                  "2": "456 Oak St",
                  "3": "mike217@sample.net",
                  "4": "555-1056987",
                  "5": "Checking",
                  "6": "Active",
                  "7": "89",
                  "8": "6101.21",
                  "9": "2025-03-06",
                  "10": "4.89",
                  "11": "780",
                  "12": "2023-03-01 09:00:00",
                  "13": "Payment",
                  "14": "813.90",
                  "15": "EUR",
                  "16": "Branch",
                  "17": "Clothing",
                  "18": "814"
                },
                {
                  "0": "138",
                  "1": "Bob Brown",
                  "2": "123 Elm St",
                  "3": "carlos367@example.com",
                  "4": "555-0100138",
                  "5": "Checking",
                  "6": "Dormant",
                  "7": "137",
                  "8": "1719.51",
                  "9": "2024-10-13",
                  "10": "4.88",
                  "11": "780",
                  "12": "2023-03-01 09:00:00",
                  "13": "Payment",
                  "14": "813.90",
                  "15": "EUR",
                  "16": "Branch",
                  "17": "Clothing",
                  "18": "814"
                },
                {
                  "0": "139",
                  "1": "Bob Brown",
                  "2": "123 Elm St",
                  "3": "dan305@test.edu",
                  "4": "555-1056987",
                  "5": "Checking",
                  "6": "Active",
                  "7": "30",
                  "8": "5091.80",
                  "9": "2024-12-13",
                  "10": "4.96",
                  "11": "780",
                  "12": "2023-03-01 09:00:00",
                  "13": "Payment",
                  "14": "813.90",
                  "15": "EUR",
                  "16": "Branch",
                  "17": "Clothing",
                  "18": "814"
                },
                {
                  "0": "143",
                  "1": "Bob Brown",
                  "2": "202 Birch St",
                  "3": "dan269@example.com",
                  "4": "555-0100143",
                  "5": "Checking",
                  "6": "Dormant",
                  "7": "117",
                  "8": "1555.17",
                  "9": "2024-12-02",
                  "10": "4.94",
                  "11": "780",
                  "12": "2023-03-01 09:00:00",
                  "13": "Payment",
                  "14": "813.90",
                  "15": "EUR",
                  "16": "Branch",
                  "17": "Clothing",
                  "18": "814"
                },
                {
                  "0": "144",
                  "1": "Alice Johnson",
                  "2": "202 Birch St",
                  "3": "sara356@test.edu",
                  "4": "555-0100144",
                  "5": "Credit",
                  "6": "Active",
                  "7": "24",
                  "8": "2648.19",
                  "9": "2025-02-19",
                  "10": "4.22",
                  "11": "780",
                  "12": "2023-03-01 09:00:00",
                  "13": "Payment",
                  "14": "813.90",
                  "15": "EUR",
                  "16": "Branch",
                  "17": "Clothing",
                  "18": "814"
                },
                {
                  "0": "151",
                  "1": "Bob Brown",
                  "2": "101 Maple St",
                  "3": "carlos206@demo.org",
                  "4": "555-0100151",
                  "5": "Savings",
                  "6": "Active",
                  "7": "102",
                  "8": "4282.52",
                  "9": "2024-04-08",
                  "10": "1.33",
                  "11": "780",
                  "12": "2023-03-01 09:00:00",
                  "13": "Payment",
                  "14": "813.90",
                  "15": "EUR",
                  "16": "Branch",
                  "17": "Clothing",
                  "18": "814"
                },
                {
                  "0": "152",
                  "1": "Jane Smith",
                  "2": "456 Oak St",
                  "3": "john402@demo.org",
                  "4": "555-0100152",
                  "5": "Checking",
                  "6": "Active",
                  "7": "64",
                  "8": "4606.66",
                  "9": "2024-12-10",
                  "10": "4.66",
                  "11": "780",
                  "12": "2023-03-01 09:00:00",
                  "13": "Payment",
                  "14": "813.90",
                  "15": "EUR",
                  "16": "Branch",
                  "17": "Clothing",
                  "18": "814"
                },
                {
                  "0": "159",
                  "1": "Emma Davis",
                  "2": "789 Pine St",
                  "3": "jane438@sample.net",
                  "4": "555-1056987",
                  "5": "Checking",
                  "6": "Dormant",
                  "7": "15",
                  "8": "5861.67",
                  "9": "2024-10-03",
                  "10": "2.27",
                  "11": "780",
                  "12": "2023-03-01 09:00:00",
                  "13": "Payment",
                  "14": "813.90",
                  "15": "EUR",
                  "16": "Branch",
                  "17": "Clothing",
                  "18": "814"
                },
                {
                  "0": "165",
                  "1": "Bob Brown",
                  "2": "586 pinegrove rd",
                  "3": "bob228@placeholder.co",
                  "4": "555-0100165",
                  "5": "Credit",
                  "6": "Active",
                  "7": "3",
                  "8": "7481.62",
                  "9": "2024-06-11",
                  "10": "1.90",
                  "11": "780",
                  "12": "2023-03-01 09:00:00",
                  "13": "Payment",
                  "14": "813.90",
                  "15": "EUR",
                  "16": "Branch",
                  "17": "Clothing",
                  "18": "814"
                },
                {
                  "0": "172",
                  "1": "Bob Brown",
                  "2": "202 Birch St",
                  "3": "alice306@demo.org",
                  "4": "555-0100172",
                  "5": "Checking",
                  "6": "Dormant",
                  "7": "26",
                  "8": "1507.16",
                  "9": "2024-07-26",
                  "10": "2.99",
                  "11": "780",
                  "12": "2023-03-01 09:00:00",
                  "13": "Payment",
                  "14": "813.90",
                  "15": "EUR",
                  "16": "Branch",
                  "17": "Clothing",
                  "18": "814"
                },
                {
                  "0": "177",
                  "1": "Bob Brown",
                  "2": "202 Birch St",
                  "3": "mike20@sample.net",
                  "4": "555-0100177",
                  "5": "Checking",
                  "6": "Dormant",
                  "7": "139",
                  "8": "1602.55",
                  "9": "2025-02-17",
                  "10": "4.31",
                  "11": "780",
                  "12": "2023-03-01 09:00:00",
                  "13": "Payment",
                  "14": "813.90",
                  "15": "EUR",
                  "16": "Branch",
                  "17": "Clothing",
                  "18": "814"
                },
                {
                  "0": "180",
                  "1": "John Doe",
                  "2": "101 Maple St",
                  "3": "laura330@placeholder.co",
                  "4": "555-1056987",
                  "5": "Checking",
                  "6": "Dormant",
                  "7": "96",
                  "8": "3027.13",
                  "9": "2024-08-28",
                  "10": "4.92",
                  "11": "780",
                  "12": "2023-03-01 09:00:00",
                  "13": "Payment",
                  "14": "813.90",
                  "15": "EUR",
                  "16": "Branch",
                  "17": "Clothing",
                  "18": "814"
                },
                {
                  "0": "186",
                  "1": "John Doe",
                  "2": "456 Oak St",
                  "3": "rajesh@gmail.com",
                  "4": "555-0100186",
                  "5": "Savings",
                  "6": "Dormant",
                  "7": "176",
                  "8": "2033.04",
                  "9": "2025-02-22",
                  "10": "4.85",
                  "11": "780",
                  "12": "2023-03-01 09:00:00",
                  "13": "Payment",
                  "14": "813.90",
                  "15": "EUR",
                  "16": "Branch",
                  "17": "Clothing",
                  "18": "814"
                },
                {
                  "0": "196",
                  "1": "John Doe",
                  "2": "101 Maple St",
                  "3": "laura73@placeholder.co",
                  "4": "555-0100196",
                  "5": "Savings",
                  "6": "Active",
                  "7": "145",
                  "8": "8864.05",
                  "9": "2025-01-07",
                  "10": "4.97",
                  "11": "780",
                  "12": "2023-03-01 09:00:00",
                  "13": "Payment",
                  "14": "813.90",
                  "15": "EUR",
                  "16": "Branch",
                  "17": "Clothing",
                  "18": "814"
                }
              ],
              "schema": [
                {
                  "key": "0",
                  "name": "Customer_ID",
                  "type": "int"
                },
                {
                  "key": "1",
                  "name": "Name",
                  "type": "string"
                },
                {
                  "key": "2",
                  "name": "Address",
                  "type": "string"
                },
                {
                  "key": "3",
                  "name": "Email",
                  "type": "string"
                },
                {
                  "key": "4",
                  "name": "Phone_Number",
                  "type": "string"
                },
                {
                  "key": "5",
                  "name": "Account_Type",
                  "type": "string"
                },
                {
                  "key": "6",
                  "name": "Account_Status",
                  "type": "string"
                },
                {
                  "key": "7",
                  "name": "Account_ID",
                  "type": "int"
                },
                {
                  "key": "8",
                  "name": "Balance",
                  "type": "decimal"
                },
                {
                  "key": "9",
                  "name": "Account_Creation_Date",
                  "type": "date"
                },
                {
                  "key": "10",
                  "name": "Interest_Rate",
                  "type": "decimal"
                },
                {
                  "key": "11",
                  "name": "Transaction_ID",
                  "type": "int"
                },
                {
                  "key": "12",
                  "name": "Date_and_Time",
                  "type": "timestamp"
                },
                {
                  "key": "13",
                  "name": "Transaction_Type",
                  "type": "string"
                },
                {
                  "key": "14",
                  "name": "Amount",
                  "type": "decimal"
                },
                {
                  "key": "15",
                  "name": "Currency",
                  "type": "string"
                },
                {
                  "key": "16",
                  "name": "Location",
                  "type": "string"
                },
                {
                  "key": "17",
                  "name": "Merchant_Category",
                  "type": "string"
                },
                {
                  "key": "18",
                  "name": "Product_ID",
                  "type": "int"
                }
              ],
              "truncated": false
            },
            "isSummary": false,
            "language": "scala",
            "wranglerEntryContext": {
              "candidateVariableNames": [
                "df7"
              ],
              "dataframeType": "pyspark"
            }
          },
          "persist_state": {
            "view": {
              "type": "details",
              "tableOptions": {},
              "chartOptions": {
                "chartType": "bar",
                "aggregationType": "sum",
                "categoryFieldKeys": [
                  "1"
                ],
                "seriesFieldKeys": [
                  "0"
                ],
                "isStacked": false
              }
            }
          }
        },
        "896c6706-2207-4a65-85ac-4a22e9f33d26": {
          "type": "Synapse.DataFrame",
          "sync_state": {
            "table": {
              "rows": [
                {
                  "0": "196",
                  "1": "John Doe",
                  "2": "101 Maple St",
                  "3": "laura73@placeholder.co",
                  "4": "555-0100196",
                  "5": "Savings",
                  "6": "Active",
                  "7": "145",
                  "8": "8864.05",
                  "9": "2025-01-07",
                  "10": "4.97",
                  "11": "780",
                  "12": "2023-03-01 09:00:00",
                  "13": "Payment",
                  "14": "813.90",
                  "15": "EUR",
                  "16": "Branch",
                  "17": "Clothing",
                  "18": "814"
                },
                {
                  "0": "186",
                  "1": "John Doe",
                  "2": "456 Oak St",
                  "3": "rajesh@gmail.com",
                  "4": "555-0100186",
                  "5": "Savings",
                  "6": "Dormant",
                  "7": "176",
                  "8": "2033.04",
                  "9": "2025-02-22",
                  "10": "4.85",
                  "11": "780",
                  "12": "2023-03-01 09:00:00",
                  "13": "Payment",
                  "14": "813.90",
                  "15": "EUR",
                  "16": "Branch",
                  "17": "Clothing",
                  "18": "814"
                },
                {
                  "0": "180",
                  "1": "John Doe",
                  "2": "101 Maple St",
                  "3": "laura330@placeholder.co",
                  "4": "555-1056987",
                  "5": "Checking",
                  "6": "Dormant",
                  "7": "96",
                  "8": "3027.13",
                  "9": "2024-08-28",
                  "10": "4.92",
                  "11": "780",
                  "12": "2023-03-01 09:00:00",
                  "13": "Payment",
                  "14": "813.90",
                  "15": "EUR",
                  "16": "Branch",
                  "17": "Clothing",
                  "18": "814"
                },
                {
                  "0": "177",
                  "1": "Bob Brown",
                  "2": "202 Birch St",
                  "3": "mike20@sample.net",
                  "4": "555-0100177",
                  "5": "Checking",
                  "6": "Dormant",
                  "7": "139",
                  "8": "1602.55",
                  "9": "2025-02-17",
                  "10": "4.31",
                  "11": "780",
                  "12": "2023-03-01 09:00:00",
                  "13": "Payment",
                  "14": "813.90",
                  "15": "EUR",
                  "16": "Branch",
                  "17": "Clothing",
                  "18": "814"
                },
                {
                  "0": "172",
                  "1": "Bob Brown",
                  "2": "202 Birch St",
                  "3": "alice306@demo.org",
                  "4": "555-0100172",
                  "5": "Checking",
                  "6": "Dormant",
                  "7": "26",
                  "8": "1507.16",
                  "9": "2024-07-26",
                  "10": "2.99",
                  "11": "780",
                  "12": "2023-03-01 09:00:00",
                  "13": "Payment",
                  "14": "813.90",
                  "15": "EUR",
                  "16": "Branch",
                  "17": "Clothing",
                  "18": "814"
                },
                {
                  "0": "165",
                  "1": "Bob Brown",
                  "2": "586 pinegrove rd",
                  "3": "bob228@placeholder.co",
                  "4": "555-0100165",
                  "5": "Credit",
                  "6": "Active",
                  "7": "3",
                  "8": "7481.62",
                  "9": "2024-06-11",
                  "10": "1.90",
                  "11": "780",
                  "12": "2023-03-01 09:00:00",
                  "13": "Payment",
                  "14": "813.90",
                  "15": "EUR",
                  "16": "Branch",
                  "17": "Clothing",
                  "18": "814"
                },
                {
                  "0": "159",
                  "1": "Emma Davis",
                  "2": "789 Pine St",
                  "3": "jane438@sample.net",
                  "4": "555-1056987",
                  "5": "Checking",
                  "6": "Dormant",
                  "7": "15",
                  "8": "5861.67",
                  "9": "2024-10-03",
                  "10": "2.27",
                  "11": "780",
                  "12": "2023-03-01 09:00:00",
                  "13": "Payment",
                  "14": "813.90",
                  "15": "EUR",
                  "16": "Branch",
                  "17": "Clothing",
                  "18": "814"
                },
                {
                  "0": "152",
                  "1": "Jane Smith",
                  "2": "456 Oak St",
                  "3": "john402@demo.org",
                  "4": "555-0100152",
                  "5": "Checking",
                  "6": "Active",
                  "7": "64",
                  "8": "4606.66",
                  "9": "2024-12-10",
                  "10": "4.66",
                  "11": "780",
                  "12": "2023-03-01 09:00:00",
                  "13": "Payment",
                  "14": "813.90",
                  "15": "EUR",
                  "16": "Branch",
                  "17": "Clothing",
                  "18": "814"
                },
                {
                  "0": "151",
                  "1": "Bob Brown",
                  "2": "101 Maple St",
                  "3": "carlos206@demo.org",
                  "4": "555-0100151",
                  "5": "Savings",
                  "6": "Active",
                  "7": "102",
                  "8": "4282.52",
                  "9": "2024-04-08",
                  "10": "1.33",
                  "11": "780",
                  "12": "2023-03-01 09:00:00",
                  "13": "Payment",
                  "14": "813.90",
                  "15": "EUR",
                  "16": "Branch",
                  "17": "Clothing",
                  "18": "814"
                },
                {
                  "0": "144",
                  "1": "Alice Johnson",
                  "2": "202 Birch St",
                  "3": "sara356@test.edu",
                  "4": "555-0100144",
                  "5": "Credit",
                  "6": "Active",
                  "7": "24",
                  "8": "2648.19",
                  "9": "2025-02-19",
                  "10": "4.22",
                  "11": "780",
                  "12": "2023-03-01 09:00:00",
                  "13": "Payment",
                  "14": "813.90",
                  "15": "EUR",
                  "16": "Branch",
                  "17": "Clothing",
                  "18": "814"
                },
                {
                  "0": "143",
                  "1": "Bob Brown",
                  "2": "202 Birch St",
                  "3": "dan269@example.com",
                  "4": "555-0100143",
                  "5": "Checking",
                  "6": "Dormant",
                  "7": "117",
                  "8": "1555.17",
                  "9": "2024-12-02",
                  "10": "4.94",
                  "11": "780",
                  "12": "2023-03-01 09:00:00",
                  "13": "Payment",
                  "14": "813.90",
                  "15": "EUR",
                  "16": "Branch",
                  "17": "Clothing",
                  "18": "814"
                },
                {
                  "0": "139",
                  "1": "Bob Brown",
                  "2": "123 Elm St",
                  "3": "dan305@test.edu",
                  "4": "555-1056987",
                  "5": "Checking",
                  "6": "Active",
                  "7": "30",
                  "8": "5091.80",
                  "9": "2024-12-13",
                  "10": "4.96",
                  "11": "780",
                  "12": "2023-03-01 09:00:00",
                  "13": "Payment",
                  "14": "813.90",
                  "15": "EUR",
                  "16": "Branch",
                  "17": "Clothing",
                  "18": "814"
                },
                {
                  "0": "138",
                  "1": "Bob Brown",
                  "2": "123 Elm St",
                  "3": "carlos367@example.com",
                  "4": "555-0100138",
                  "5": "Checking",
                  "6": "Dormant",
                  "7": "137",
                  "8": "1719.51",
                  "9": "2024-10-13",
                  "10": "4.88",
                  "11": "780",
                  "12": "2023-03-01 09:00:00",
                  "13": "Payment",
                  "14": "813.90",
                  "15": "EUR",
                  "16": "Branch",
                  "17": "Clothing",
                  "18": "814"
                },
                {
                  "0": "130",
                  "1": "Bob Brown",
                  "2": "456 Oak St",
                  "3": "mike217@sample.net",
                  "4": "555-1056987",
                  "5": "Checking",
                  "6": "Active",
                  "7": "89",
                  "8": "6101.21",
                  "9": "2025-03-06",
                  "10": "4.89",
                  "11": "780",
                  "12": "2023-03-01 09:00:00",
                  "13": "Payment",
                  "14": "813.90",
                  "15": "EUR",
                  "16": "Branch",
                  "17": "Clothing",
                  "18": "814"
                },
                {
                  "0": "123",
                  "1": "Bob Brown",
                  "2": "123 Elm St",
                  "3": "laura455@test.edu",
                  "4": "555-0100123",
                  "5": "Savings",
                  "6": "Dormant",
                  "7": "112",
                  "8": "8300.52",
                  "9": "2024-09-26",
                  "10": "2.34",
                  "11": "780",
                  "12": "2023-03-01 09:00:00",
                  "13": "Payment",
                  "14": "813.90",
                  "15": "EUR",
                  "16": "Branch",
                  "17": "Clothing",
                  "18": "814"
                },
                {
                  "0": "119",
                  "1": "Bob Brown",
                  "2": "456 Oak St",
                  "3": "jane187@example.com",
                  "4": "555-0100119",
                  "5": "Savings",
                  "6": "Active",
                  "7": "109",
                  "8": "9905.72",
                  "9": "2025-02-03",
                  "10": "3.01",
                  "11": "780",
                  "12": "2023-03-01 09:00:00",
                  "13": "Payment",
                  "14": "813.90",
                  "15": "EUR",
                  "16": "Branch",
                  "17": "Clothing",
                  "18": "814"
                },
                {
                  "0": "118",
                  "1": "Jane Smith",
                  "2": "101 Maple St",
                  "3": "bob184@sample.net",
                  "4": "555-0100118",
                  "5": "Credit",
                  "6": "Active",
                  "7": "73",
                  "8": "3274.95",
                  "9": "2024-12-13",
                  "10": "2.86",
                  "11": "780",
                  "12": "2023-03-01 09:00:00",
                  "13": "Payment",
                  "14": "813.90",
                  "15": "EUR",
                  "16": "Branch",
                  "17": "Clothing",
                  "18": "814"
                },
                {
                  "0": "116",
                  "1": "Alice Johnson",
                  "2": "123 Elm St",
                  "3": "emma359@sample.net",
                  "4": "555-1056987",
                  "5": "Savings",
                  "6": "Dormant",
                  "7": "196",
                  "8": "6395.79",
                  "9": "2024-09-29",
                  "10": "3.80",
                  "11": "780",
                  "12": "2023-03-01 09:00:00",
                  "13": "Payment",
                  "14": "813.90",
                  "15": "EUR",
                  "16": "Branch",
                  "17": "Clothing",
                  "18": "814"
                },
                {
                  "0": "115",
                  "1": "Bob Brown",
                  "2": "456 Oak St",
                  "3": "alice327@example.com",
                  "4": "555-0100115",
                  "5": "Savings",
                  "6": "Active",
                  "7": "58",
                  "8": "6476.57",
                  "9": "2025-02-26",
                  "10": "3.49",
                  "11": "780",
                  "12": "2023-03-01 09:00:00",
                  "13": "Payment",
                  "14": "813.90",
                  "15": "EUR",
                  "16": "Branch",
                  "17": "Clothing",
                  "18": "814"
                },
                {
                  "0": "112",
                  "1": "Jane Smith",
                  "2": "202 Birch St",
                  "3": "alice304@placeholder.co",
                  "4": "555-1056987",
                  "5": "Checking",
                  "6": "Dormant",
                  "7": "67",
                  "8": "9348.78",
                  "9": "2024-12-18",
                  "10": "2.64",
                  "11": "780",
                  "12": "2023-03-01 09:00:00",
                  "13": "Payment",
                  "14": "813.90",
                  "15": "EUR",
                  "16": "Branch",
                  "17": "Clothing",
                  "18": "814"
                },
                {
                  "0": "108",
                  "1": "Emma Davis",
                  "2": "202 Birch St",
                  "3": "mike210@example.com",
                  "4": "555-1056987",
                  "5": "Savings",
                  "6": "Active",
                  "7": "11",
                  "8": "8268.12",
                  "9": "2024-11-06",
                  "10": "2.32",
                  "11": "780",
                  "12": "2023-03-01 09:00:00",
                  "13": "Payment",
                  "14": "813.90",
                  "15": "EUR",
                  "16": "Branch",
                  "17": "Clothing",
                  "18": "814"
                },
                {
                  "0": "105",
                  "1": "Emma Davis",
                  "2": "789 Pine St",
                  "3": "rajesh@gmail.com",
                  "4": "555-0100105",
                  "5": "Savings",
                  "6": "Active",
                  "7": "56",
                  "8": "732.85",
                  "9": "2024-10-01",
                  "10": "1.64",
                  "11": "780",
                  "12": "2023-03-01 09:00:00",
                  "13": "Payment",
                  "14": "813.90",
                  "15": "EUR",
                  "16": "Branch",
                  "17": "Clothing",
                  "18": "814"
                },
                {
                  "0": "102",
                  "1": "Bob Brown",
                  "2": "456 Oak St",
                  "3": "rajesh@gmail.com",
                  "4": "555-0100102",
                  "5": "Savings",
                  "6": "Dormant",
                  "7": "161",
                  "8": "8267.61",
                  "9": "2024-04-27",
                  "10": "2.15",
                  "11": "780",
                  "12": "2023-03-01 09:00:00",
                  "13": "Payment",
                  "14": "813.90",
                  "15": "EUR",
                  "16": "Branch",
                  "17": "Clothing",
                  "18": "814"
                },
                {
                  "0": "100",
                  "1": "John Doe",
                  "2": "456 Oak St",
                  "3": "laura292@test.edu",
                  "4": "555-0100100",
                  "5": "Credit",
                  "6": "Active",
                  "7": "48",
                  "8": "6732.85",
                  "9": "2024-07-25",
                  "10": "1.87",
                  "11": "287",
                  "12": "2025-01-19 23:22:19",
                  "13": "Deposit",
                  "14": "3777.87",
                  "15": "GBP",
                  "16": "Branch",
                  "17": "Clothing",
                  "18": "154"
                },
                {
                  "0": "97",
                  "1": "Alice Johnson",
                  "2": "123 Elm St",
                  "3": "emma319@placeholder.co",
                  "4": "555-1056987",
                  "5": "Credit",
                  "6": "Active",
                  "7": "41",
                  "8": "1789.41",
                  "9": "2024-05-05",
                  "10": "1.96",
                  "11": "780",
                  "12": "2023-03-01 09:00:00",
                  "13": "Payment",
                  "14": "813.90",
                  "15": "EUR",
                  "16": "Branch",
                  "17": "Clothing",
                  "18": "814"
                },
                {
                  "0": "90",
                  "1": "Alice Johnson",
                  "2": "789 Pine St",
                  "3": "sara146@demo.org",
                  "4": "555-0100090",
                  "5": "Checking",
                  "6": "Active",
                  "7": "192",
                  "8": "7152.39",
                  "9": "2024-06-29",
                  "10": "4.08",
                  "11": "104",
                  "12": "2023-03-01 12:00:00",
                  "13": "Transfer",
                  "14": "1500.00",
                  "15": "GBP",
                  "16": "Online",
                  "17": "Business",
                  "18": "104"
                },
                {
                  "0": "89",
                  "1": "Bob Brown",
                  "2": "456 Oak St",
                  "3": "mike330@placeholder.co",
                  "4": "555-1056987",
                  "5": "Credit",
                  "6": "Dormant",
                  "7": "200",
                  "8": "9438.83",
                  "9": "2024-12-20",
                  "10": "4.36",
                  "11": "270",
                  "12": "2024-10-28 23:20:52",
                  "13": "Deposit",
                  "14": "749.45",
                  "15": "USD",
                  "16": "Online",
                  "17": "Business",
                  "18": "249"
                },
                {
                  "0": "86",
                  "1": "John Doe",
                  "2": "456 Oak St",
                  "3": "dan405@placeholder.co",
                  "4": "555-0100086",
                  "5": "Savings",
                  "6": "Dormant",
                  "7": "187",
                  "8": "585.10",
                  "9": "2024-04-20",
                  "10": "2.70",
                  "11": "780",
                  "12": "2023-03-01 09:00:00",
                  "13": "Payment",
                  "14": "813.90",
                  "15": "EUR",
                  "16": "Branch",
                  "17": "Clothing",
                  "18": "814"
                },
                {
                  "0": "79",
                  "1": "Emma Davis",
                  "2": "202 Birch St",
                  "3": "rajesh@gmail.com",
                  "4": "555-0100079",
                  "5": "Savings",
                  "6": "Dormant",
                  "7": "171",
                  "8": "2886.31",
                  "9": "2024-05-23",
                  "10": "4.09",
                  "11": "780",
                  "12": "2023-03-01 09:00:00",
                  "13": "Payment",
                  "14": "813.90",
                  "15": "EUR",
                  "16": "Branch",
                  "17": "Clothing",
                  "18": "814"
                },
                {
                  "0": "60",
                  "1": "John Doe",
                  "2": "789 Pine St",
                  "3": "carlos202@demo.org",
                  "4": "555-1056987",
                  "5": "Credit",
                  "6": "Dormant",
                  "7": "110",
                  "8": "5562.20",
                  "9": "2024-08-14",
                  "10": "4.77",
                  "11": "780",
                  "12": "2023-03-01 09:00:00",
                  "13": "Payment",
                  "14": "813.90",
                  "15": "EUR",
                  "16": "Branch",
                  "17": "Clothing",
                  "18": "814"
                },
                {
                  "0": "56",
                  "1": "Alice Johnson",
                  "2": "202 Birch St",
                  "3": "rajesh@gmail.com",
                  "4": "555-1056987",
                  "5": "Savings",
                  "6": "Active",
                  "7": "10",
                  "8": "2195.45",
                  "9": "2024-11-09",
                  "10": "3.52",
                  "11": "780",
                  "12": "2023-03-01 09:00:00",
                  "13": "Payment",
                  "14": "813.90",
                  "15": "EUR",
                  "16": "Branch",
                  "17": "Clothing",
                  "18": "814"
                },
                {
                  "0": "55",
                  "1": "John Doe",
                  "2": "123 Elm St",
                  "3": "alice234@placeholder.co",
                  "4": "555-0100055",
                  "5": "Savings",
                  "6": "Active",
                  "7": "124",
                  "8": "8558.51",
                  "9": "2025-02-09",
                  "10": "2.85",
                  "11": "158",
                  "12": "2024-08-10 06:57:41",
                  "13": "Payment",
                  "14": "813.72",
                  "15": "EUR",
                  "16": "Branch",
                  "17": "Business",
                  "18": "259"
                },
                {
                  "0": "53",
                  "1": "John Doe",
                  "2": "123 Elm St",
                  "3": "emma143@sample.net",
                  "4": "555-0100053",
                  "5": "Credit",
                  "6": "Dormant",
                  "7": "191",
                  "8": "4497.68",
                  "9": "2025-02-01",
                  "10": "1.26",
                  "11": "780",
                  "12": "2023-03-01 09:00:00",
                  "13": "Payment",
                  "14": "813.90",
                  "15": "EUR",
                  "16": "Branch",
                  "17": "Clothing",
                  "18": "814"
                },
                {
                  "0": "41",
                  "1": "Alice Johnson",
                  "2": "202 Birch St",
                  "3": "laura281@sample.net",
                  "4": "555-0100041",
                  "5": "Savings",
                  "6": "Active",
                  "7": "116",
                  "8": "4298.08",
                  "9": "2024-12-10",
                  "10": "1.46",
                  "11": "780",
                  "12": "2023-03-01 09:00:00",
                  "13": "Payment",
                  "14": "813.90",
                  "15": "EUR",
                  "16": "Branch",
                  "17": "Clothing",
                  "18": "814"
                },
                {
                  "0": "34",
                  "1": "Alice Johnson",
                  "2": "123 Elm St",
                  "3": "rajesh@gmail.com",
                  "4": "555-0100034",
                  "5": "Savings",
                  "6": "Dormant",
                  "7": "138",
                  "8": "119.18",
                  "9": "2024-10-08",
                  "10": "4.07",
                  "11": "780",
                  "12": "2023-03-01 09:00:00",
                  "13": "Payment",
                  "14": "813.90",
                  "15": "EUR",
                  "16": "Branch",
                  "17": "Clothing",
                  "18": "814"
                },
                {
                  "0": "28",
                  "1": "John Doe",
                  "2": "123 Elm St",
                  "3": "dan437@sample.net",
                  "4": "555-0100028",
                  "5": "Savings",
                  "6": "Active",
                  "7": "153",
                  "8": "7897.38",
                  "9": "2024-10-21",
                  "10": "3.81",
                  "11": "780",
                  "12": "2023-03-01 09:00:00",
                  "13": "Payment",
                  "14": "813.90",
                  "15": "EUR",
                  "16": "Branch",
                  "17": "Clothing",
                  "18": "814"
                },
                {
                  "0": "24",
                  "1": "Alice Johnson",
                  "2": "123 Elm St",
                  "3": "mike461@test.edu",
                  "4": "555-1056987",
                  "5": "Credit",
                  "6": "Dormant",
                  "7": "126",
                  "8": "4827.83",
                  "9": "2024-05-30",
                  "10": "4.42",
                  "11": "780",
                  "12": "2023-03-01 09:00:00",
                  "13": "Payment",
                  "14": "813.90",
                  "15": "EUR",
                  "16": "Branch",
                  "17": "Clothing",
                  "18": "814"
                },
                {
                  "0": "15",
                  "1": "Bob Brown",
                  "2": "456 Oak St",
                  "3": "sara133@example.com",
                  "4": "555-1056987",
                  "5": "Savings",
                  "6": "Dormant",
                  "7": "47",
                  "8": "4847.18",
                  "9": "2024-12-19",
                  "10": "3.26",
                  "11": "233",
                  "12": "2025-03-23 21:08:24",
                  "13": "Transfer",
                  "14": "863.20",
                  "15": "GBP",
                  "16": "Store",
                  "17": "Business",
                  "18": "206"
                },
                {
                  "0": "12",
                  "1": "suman das",
                  "2": "456 Oak St",
                  "3": "rajesh@gmail.com",
                  "4": "555-0100012",
                  "5": "Credit",
                  "6": "Dormant",
                  "7": "72",
                  "8": "5716.28",
                  "9": "2024-06-21",
                  "10": "1.82",
                  "11": "101",
                  "12": "2023-03-01 09:00:00",
                  "13": "Deposit",
                  "14": "1200.00",
                  "15": "USD",
                  "16": "Online",
                  "17": "Clothing",
                  "18": "101"
                }
              ],
              "schema": [
                {
                  "key": "0",
                  "name": "Customer_ID",
                  "type": "int"
                },
                {
                  "key": "1",
                  "name": "Name",
                  "type": "string"
                },
                {
                  "key": "2",
                  "name": "Address",
                  "type": "string"
                },
                {
                  "key": "3",
                  "name": "Email",
                  "type": "string"
                },
                {
                  "key": "4",
                  "name": "Phone_Number",
                  "type": "string"
                },
                {
                  "key": "5",
                  "name": "Account_Type",
                  "type": "string"
                },
                {
                  "key": "6",
                  "name": "Account_Status",
                  "type": "string"
                },
                {
                  "key": "7",
                  "name": "Account_ID",
                  "type": "int"
                },
                {
                  "key": "8",
                  "name": "Balance",
                  "type": "decimal"
                },
                {
                  "key": "9",
                  "name": "Account_Creation_Date",
                  "type": "date"
                },
                {
                  "key": "10",
                  "name": "Interest_Rate",
                  "type": "decimal"
                },
                {
                  "key": "11",
                  "name": "Transaction_ID",
                  "type": "int"
                },
                {
                  "key": "12",
                  "name": "Date_and_Time",
                  "type": "timestamp"
                },
                {
                  "key": "13",
                  "name": "Transaction_Type",
                  "type": "string"
                },
                {
                  "key": "14",
                  "name": "Amount",
                  "type": "decimal"
                },
                {
                  "key": "15",
                  "name": "Currency",
                  "type": "string"
                },
                {
                  "key": "16",
                  "name": "Location",
                  "type": "string"
                },
                {
                  "key": "17",
                  "name": "Merchant_Category",
                  "type": "string"
                },
                {
                  "key": "18",
                  "name": "Product_ID",
                  "type": "int"
                }
              ],
              "truncated": false
            },
            "isSummary": false,
            "language": "scala",
            "wranglerEntryContext": {
              "candidateVariableNames": [
                "df8"
              ],
              "dataframeType": "pyspark"
            }
          },
          "persist_state": {
            "view": {
              "type": "details",
              "tableOptions": {},
              "chartOptions": {
                "chartType": "bar",
                "aggregationType": "sum",
                "categoryFieldKeys": [
                  "1"
                ],
                "seriesFieldKeys": [
                  "0"
                ],
                "isStacked": false
              }
            }
          }
        }
      }
    }
  },
  "nbformat": 4,
  "nbformat_minor": 2
}